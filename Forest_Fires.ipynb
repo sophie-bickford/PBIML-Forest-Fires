{
  "nbformat": 4,
  "nbformat_minor": 0,
  "metadata": {
    "colab": {
      "provenance": [],
      "collapsed_sections": [
        "iPKeLemCiV3c",
        "ZPisc-dqT45V",
        "4cCb9S9tUAFk",
        "F-VX93iGcoMG",
        "0OAHzQ7vULX9",
        "x1VeTRpJeDet",
        "E3vi6kw9bTKW",
        "ZFxYT_evbe3d",
        "AwhQbN3sbweS",
        "5XT52WG5cQZa",
        "8PgTELg4WMy8"
      ],
      "include_colab_link": true
    },
    "kernelspec": {
      "name": "python3",
      "display_name": "Python 3"
    },
    "language_info": {
      "name": "python"
    }
  },
  "cells": [
    {
      "cell_type": "markdown",
      "metadata": {
        "id": "view-in-github",
        "colab_type": "text"
      },
      "source": [
        "<a href=\"https://colab.research.google.com/github/sophie-bickford/PBIML-Forest-Fires/blob/main/Forest_Fires.ipynb\" target=\"_parent\"><img src=\"https://colab.research.google.com/assets/colab-badge.svg\" alt=\"Open In Colab\"/></a>"
      ]
    },
    {
      "cell_type": "markdown",
      "source": [
        "# Forest Fires"
      ],
      "metadata": {
        "id": "LlJ0F8_hdKAE"
      }
    },
    {
      "cell_type": "markdown",
      "source": [
        "####Background Information and Introduction to Forest Fires Dataset:"
      ],
      "metadata": {
        "id": "iPKeLemCiV3c"
      }
    },
    {
      "cell_type": "markdown",
      "source": [
        "Persona: Our aim is to calculate the risk of forest fires and predict whether an area, given certain environmental factors, is likely to be heavily affected by fire. Although our dataset only includes data on one park, the results of this project can be applied to other forest locations as we build up a comprehensive understanding of our data variables and their impact on forest fire predictions."
      ],
      "metadata": {
        "id": "geLElkNm9Y9e"
      }
    },
    {
      "cell_type": "markdown",
      "source": [
        "The main challenge of this project is dealing with overfitting. Given that the dimensions of our dataset are 517 rows and 12 columns, the high dimensionality may lead to overfitting.\n",
        "In addition, several of our variables are skewed, so we would need to find solutions for normalization."
      ],
      "metadata": {
        "id": "4fcal1uEC6aU"
      }
    },
    {
      "cell_type": "markdown",
      "source": [
        "Variables:\n",
        "- X: x-axis coordinate within the park (int, 1-9)\n",
        "- Y: y-axis coordinate within the park (int, 2-9)\n",
        "- month: month of the year (string)\n",
        "- day: day of the week (string)\n",
        "- FFMC: Fine Fuel Moisture Code, moisture content in litter and other fine fuels. Indicates how easily fine fuel ignites and burns. (double)\n",
        "- DMC: Duff Moisture Code, moisture content in duff (coniferous needles, lightly compacted on the ground, see: https://en.wikipedia.org/wiki/Wildfire#Spread) (double).\n",
        "- DC: Drought Code, avg moisture of deep, organic layers. Useful to understand drought effects on fuel in forest\n",
        "- ISI: Initial Spread Index, expected rate of fire spread, based on wind and FFMC, but does not take fuel types into account\n",
        "- temp: temperature in degrees Celsius\n",
        "- RH: relative humidity, %\n",
        "- wind: wind speed, km/h\n",
        "- rain: amount of rain in millimeters/square meter\n",
        "- area: TARGET VARIABLE, the burned area of the forest sector in hectares (10,000 square meters, 1/100th of a square kilometer)\n",
        "\n",
        "\n",
        "Additionally, see https://cwfis.cfs.nrcan.gc.ca/background/summary/fwi\n",
        "https://archive.ics.uci.edu/dataset/162/forest+fires"
      ],
      "metadata": {
        "id": "iNX1gUGsRO6O"
      }
    },
    {
      "cell_type": "code",
      "execution_count": null,
      "metadata": {
        "id": "yyvqNa4UNV1v",
        "colab": {
          "base_uri": "https://localhost:8080/"
        },
        "outputId": "608e5005-6aa5-4d94-dcc9-8e3bcc2e3faa"
      },
      "outputs": [
        {
          "output_type": "stream",
          "name": "stdout",
          "text": [
            "Mounted at /content/drive\n"
          ]
        }
      ],
      "source": [
        "from google.colab import drive\n",
        "drive.mount('/content/drive')"
      ]
    },
    {
      "cell_type": "code",
      "source": [
        "import os\n",
        "os.chdir(\"drive/MyDrive/Bickford - PBIML\")"
      ],
      "metadata": {
        "id": "u3ut58F5AZq3"
      },
      "execution_count": null,
      "outputs": []
    },
    {
      "cell_type": "code",
      "source": [
        "import os\n",
        "os.chdir(\"drive/MyDrive/Ian_PBIML\")"
      ],
      "metadata": {
        "id": "sAvkT7kuQ3Ho"
      },
      "execution_count": null,
      "outputs": []
    },
    {
      "cell_type": "code",
      "source": [
        "import pandas as pd\n",
        "import numpy as np\n",
        "import matplotlib.pyplot as plt\n",
        "\n",
        "data = pd.read_csv('forestfires.csv')"
      ],
      "metadata": {
        "id": "RUFJJVdKAiPZ"
      },
      "execution_count": null,
      "outputs": []
    },
    {
      "cell_type": "code",
      "source": [
        "#display the first few rows of the dataset\n",
        "data.head()"
      ],
      "metadata": {
        "colab": {
          "base_uri": "https://localhost:8080/",
          "height": 206
        },
        "id": "ehwIS4YYAtfI",
        "outputId": "303b5085-8d66-4d90-f263-3dd6d895ef89"
      },
      "execution_count": null,
      "outputs": [
        {
          "output_type": "execute_result",
          "data": {
            "text/plain": [
              "   X  Y month  day  FFMC   DMC     DC  ISI  temp  RH  wind  rain  area\n",
              "0  7  5   mar  fri  86.2  26.2   94.3  5.1   8.2  51   6.7   0.0   0.0\n",
              "1  7  4   oct  tue  90.6  35.4  669.1  6.7  18.0  33   0.9   0.0   0.0\n",
              "2  7  4   oct  sat  90.6  43.7  686.9  6.7  14.6  33   1.3   0.0   0.0\n",
              "3  8  6   mar  fri  91.7  33.3   77.5  9.0   8.3  97   4.0   0.2   0.0\n",
              "4  8  6   mar  sun  89.3  51.3  102.2  9.6  11.4  99   1.8   0.0   0.0"
            ],
            "text/html": [
              "\n",
              "  <div id=\"df-93659a34-527e-4050-91af-2f975b6d1bff\" class=\"colab-df-container\">\n",
              "    <div>\n",
              "<style scoped>\n",
              "    .dataframe tbody tr th:only-of-type {\n",
              "        vertical-align: middle;\n",
              "    }\n",
              "\n",
              "    .dataframe tbody tr th {\n",
              "        vertical-align: top;\n",
              "    }\n",
              "\n",
              "    .dataframe thead th {\n",
              "        text-align: right;\n",
              "    }\n",
              "</style>\n",
              "<table border=\"1\" class=\"dataframe\">\n",
              "  <thead>\n",
              "    <tr style=\"text-align: right;\">\n",
              "      <th></th>\n",
              "      <th>X</th>\n",
              "      <th>Y</th>\n",
              "      <th>month</th>\n",
              "      <th>day</th>\n",
              "      <th>FFMC</th>\n",
              "      <th>DMC</th>\n",
              "      <th>DC</th>\n",
              "      <th>ISI</th>\n",
              "      <th>temp</th>\n",
              "      <th>RH</th>\n",
              "      <th>wind</th>\n",
              "      <th>rain</th>\n",
              "      <th>area</th>\n",
              "    </tr>\n",
              "  </thead>\n",
              "  <tbody>\n",
              "    <tr>\n",
              "      <th>0</th>\n",
              "      <td>7</td>\n",
              "      <td>5</td>\n",
              "      <td>mar</td>\n",
              "      <td>fri</td>\n",
              "      <td>86.2</td>\n",
              "      <td>26.2</td>\n",
              "      <td>94.3</td>\n",
              "      <td>5.1</td>\n",
              "      <td>8.2</td>\n",
              "      <td>51</td>\n",
              "      <td>6.7</td>\n",
              "      <td>0.0</td>\n",
              "      <td>0.0</td>\n",
              "    </tr>\n",
              "    <tr>\n",
              "      <th>1</th>\n",
              "      <td>7</td>\n",
              "      <td>4</td>\n",
              "      <td>oct</td>\n",
              "      <td>tue</td>\n",
              "      <td>90.6</td>\n",
              "      <td>35.4</td>\n",
              "      <td>669.1</td>\n",
              "      <td>6.7</td>\n",
              "      <td>18.0</td>\n",
              "      <td>33</td>\n",
              "      <td>0.9</td>\n",
              "      <td>0.0</td>\n",
              "      <td>0.0</td>\n",
              "    </tr>\n",
              "    <tr>\n",
              "      <th>2</th>\n",
              "      <td>7</td>\n",
              "      <td>4</td>\n",
              "      <td>oct</td>\n",
              "      <td>sat</td>\n",
              "      <td>90.6</td>\n",
              "      <td>43.7</td>\n",
              "      <td>686.9</td>\n",
              "      <td>6.7</td>\n",
              "      <td>14.6</td>\n",
              "      <td>33</td>\n",
              "      <td>1.3</td>\n",
              "      <td>0.0</td>\n",
              "      <td>0.0</td>\n",
              "    </tr>\n",
              "    <tr>\n",
              "      <th>3</th>\n",
              "      <td>8</td>\n",
              "      <td>6</td>\n",
              "      <td>mar</td>\n",
              "      <td>fri</td>\n",
              "      <td>91.7</td>\n",
              "      <td>33.3</td>\n",
              "      <td>77.5</td>\n",
              "      <td>9.0</td>\n",
              "      <td>8.3</td>\n",
              "      <td>97</td>\n",
              "      <td>4.0</td>\n",
              "      <td>0.2</td>\n",
              "      <td>0.0</td>\n",
              "    </tr>\n",
              "    <tr>\n",
              "      <th>4</th>\n",
              "      <td>8</td>\n",
              "      <td>6</td>\n",
              "      <td>mar</td>\n",
              "      <td>sun</td>\n",
              "      <td>89.3</td>\n",
              "      <td>51.3</td>\n",
              "      <td>102.2</td>\n",
              "      <td>9.6</td>\n",
              "      <td>11.4</td>\n",
              "      <td>99</td>\n",
              "      <td>1.8</td>\n",
              "      <td>0.0</td>\n",
              "      <td>0.0</td>\n",
              "    </tr>\n",
              "  </tbody>\n",
              "</table>\n",
              "</div>\n",
              "    <div class=\"colab-df-buttons\">\n",
              "\n",
              "  <div class=\"colab-df-container\">\n",
              "    <button class=\"colab-df-convert\" onclick=\"convertToInteractive('df-93659a34-527e-4050-91af-2f975b6d1bff')\"\n",
              "            title=\"Convert this dataframe to an interactive table.\"\n",
              "            style=\"display:none;\">\n",
              "\n",
              "  <svg xmlns=\"http://www.w3.org/2000/svg\" height=\"24px\" viewBox=\"0 -960 960 960\">\n",
              "    <path d=\"M120-120v-720h720v720H120Zm60-500h600v-160H180v160Zm220 220h160v-160H400v160Zm0 220h160v-160H400v160ZM180-400h160v-160H180v160Zm440 0h160v-160H620v160ZM180-180h160v-160H180v160Zm440 0h160v-160H620v160Z\"/>\n",
              "  </svg>\n",
              "    </button>\n",
              "\n",
              "  <style>\n",
              "    .colab-df-container {\n",
              "      display:flex;\n",
              "      gap: 12px;\n",
              "    }\n",
              "\n",
              "    .colab-df-convert {\n",
              "      background-color: #E8F0FE;\n",
              "      border: none;\n",
              "      border-radius: 50%;\n",
              "      cursor: pointer;\n",
              "      display: none;\n",
              "      fill: #1967D2;\n",
              "      height: 32px;\n",
              "      padding: 0 0 0 0;\n",
              "      width: 32px;\n",
              "    }\n",
              "\n",
              "    .colab-df-convert:hover {\n",
              "      background-color: #E2EBFA;\n",
              "      box-shadow: 0px 1px 2px rgba(60, 64, 67, 0.3), 0px 1px 3px 1px rgba(60, 64, 67, 0.15);\n",
              "      fill: #174EA6;\n",
              "    }\n",
              "\n",
              "    .colab-df-buttons div {\n",
              "      margin-bottom: 4px;\n",
              "    }\n",
              "\n",
              "    [theme=dark] .colab-df-convert {\n",
              "      background-color: #3B4455;\n",
              "      fill: #D2E3FC;\n",
              "    }\n",
              "\n",
              "    [theme=dark] .colab-df-convert:hover {\n",
              "      background-color: #434B5C;\n",
              "      box-shadow: 0px 1px 3px 1px rgba(0, 0, 0, 0.15);\n",
              "      filter: drop-shadow(0px 1px 2px rgba(0, 0, 0, 0.3));\n",
              "      fill: #FFFFFF;\n",
              "    }\n",
              "  </style>\n",
              "\n",
              "    <script>\n",
              "      const buttonEl =\n",
              "        document.querySelector('#df-93659a34-527e-4050-91af-2f975b6d1bff button.colab-df-convert');\n",
              "      buttonEl.style.display =\n",
              "        google.colab.kernel.accessAllowed ? 'block' : 'none';\n",
              "\n",
              "      async function convertToInteractive(key) {\n",
              "        const element = document.querySelector('#df-93659a34-527e-4050-91af-2f975b6d1bff');\n",
              "        const dataTable =\n",
              "          await google.colab.kernel.invokeFunction('convertToInteractive',\n",
              "                                                    [key], {});\n",
              "        if (!dataTable) return;\n",
              "\n",
              "        const docLinkHtml = 'Like what you see? Visit the ' +\n",
              "          '<a target=\"_blank\" href=https://colab.research.google.com/notebooks/data_table.ipynb>data table notebook</a>'\n",
              "          + ' to learn more about interactive tables.';\n",
              "        element.innerHTML = '';\n",
              "        dataTable['output_type'] = 'display_data';\n",
              "        await google.colab.output.renderOutput(dataTable, element);\n",
              "        const docLink = document.createElement('div');\n",
              "        docLink.innerHTML = docLinkHtml;\n",
              "        element.appendChild(docLink);\n",
              "      }\n",
              "    </script>\n",
              "  </div>\n",
              "\n",
              "\n",
              "<div id=\"df-23bfb58b-902e-4c31-840b-843b6a97499e\">\n",
              "  <button class=\"colab-df-quickchart\" onclick=\"quickchart('df-23bfb58b-902e-4c31-840b-843b6a97499e')\"\n",
              "            title=\"Suggest charts\"\n",
              "            style=\"display:none;\">\n",
              "\n",
              "<svg xmlns=\"http://www.w3.org/2000/svg\" height=\"24px\"viewBox=\"0 0 24 24\"\n",
              "     width=\"24px\">\n",
              "    <g>\n",
              "        <path d=\"M19 3H5c-1.1 0-2 .9-2 2v14c0 1.1.9 2 2 2h14c1.1 0 2-.9 2-2V5c0-1.1-.9-2-2-2zM9 17H7v-7h2v7zm4 0h-2V7h2v10zm4 0h-2v-4h2v4z\"/>\n",
              "    </g>\n",
              "</svg>\n",
              "  </button>\n",
              "\n",
              "<style>\n",
              "  .colab-df-quickchart {\n",
              "      --bg-color: #E8F0FE;\n",
              "      --fill-color: #1967D2;\n",
              "      --hover-bg-color: #E2EBFA;\n",
              "      --hover-fill-color: #174EA6;\n",
              "      --disabled-fill-color: #AAA;\n",
              "      --disabled-bg-color: #DDD;\n",
              "  }\n",
              "\n",
              "  [theme=dark] .colab-df-quickchart {\n",
              "      --bg-color: #3B4455;\n",
              "      --fill-color: #D2E3FC;\n",
              "      --hover-bg-color: #434B5C;\n",
              "      --hover-fill-color: #FFFFFF;\n",
              "      --disabled-bg-color: #3B4455;\n",
              "      --disabled-fill-color: #666;\n",
              "  }\n",
              "\n",
              "  .colab-df-quickchart {\n",
              "    background-color: var(--bg-color);\n",
              "    border: none;\n",
              "    border-radius: 50%;\n",
              "    cursor: pointer;\n",
              "    display: none;\n",
              "    fill: var(--fill-color);\n",
              "    height: 32px;\n",
              "    padding: 0;\n",
              "    width: 32px;\n",
              "  }\n",
              "\n",
              "  .colab-df-quickchart:hover {\n",
              "    background-color: var(--hover-bg-color);\n",
              "    box-shadow: 0 1px 2px rgba(60, 64, 67, 0.3), 0 1px 3px 1px rgba(60, 64, 67, 0.15);\n",
              "    fill: var(--button-hover-fill-color);\n",
              "  }\n",
              "\n",
              "  .colab-df-quickchart-complete:disabled,\n",
              "  .colab-df-quickchart-complete:disabled:hover {\n",
              "    background-color: var(--disabled-bg-color);\n",
              "    fill: var(--disabled-fill-color);\n",
              "    box-shadow: none;\n",
              "  }\n",
              "\n",
              "  .colab-df-spinner {\n",
              "    border: 2px solid var(--fill-color);\n",
              "    border-color: transparent;\n",
              "    border-bottom-color: var(--fill-color);\n",
              "    animation:\n",
              "      spin 1s steps(1) infinite;\n",
              "  }\n",
              "\n",
              "  @keyframes spin {\n",
              "    0% {\n",
              "      border-color: transparent;\n",
              "      border-bottom-color: var(--fill-color);\n",
              "      border-left-color: var(--fill-color);\n",
              "    }\n",
              "    20% {\n",
              "      border-color: transparent;\n",
              "      border-left-color: var(--fill-color);\n",
              "      border-top-color: var(--fill-color);\n",
              "    }\n",
              "    30% {\n",
              "      border-color: transparent;\n",
              "      border-left-color: var(--fill-color);\n",
              "      border-top-color: var(--fill-color);\n",
              "      border-right-color: var(--fill-color);\n",
              "    }\n",
              "    40% {\n",
              "      border-color: transparent;\n",
              "      border-right-color: var(--fill-color);\n",
              "      border-top-color: var(--fill-color);\n",
              "    }\n",
              "    60% {\n",
              "      border-color: transparent;\n",
              "      border-right-color: var(--fill-color);\n",
              "    }\n",
              "    80% {\n",
              "      border-color: transparent;\n",
              "      border-right-color: var(--fill-color);\n",
              "      border-bottom-color: var(--fill-color);\n",
              "    }\n",
              "    90% {\n",
              "      border-color: transparent;\n",
              "      border-bottom-color: var(--fill-color);\n",
              "    }\n",
              "  }\n",
              "</style>\n",
              "\n",
              "  <script>\n",
              "    async function quickchart(key) {\n",
              "      const quickchartButtonEl =\n",
              "        document.querySelector('#' + key + ' button');\n",
              "      quickchartButtonEl.disabled = true;  // To prevent multiple clicks.\n",
              "      quickchartButtonEl.classList.add('colab-df-spinner');\n",
              "      try {\n",
              "        const charts = await google.colab.kernel.invokeFunction(\n",
              "            'suggestCharts', [key], {});\n",
              "      } catch (error) {\n",
              "        console.error('Error during call to suggestCharts:', error);\n",
              "      }\n",
              "      quickchartButtonEl.classList.remove('colab-df-spinner');\n",
              "      quickchartButtonEl.classList.add('colab-df-quickchart-complete');\n",
              "    }\n",
              "    (() => {\n",
              "      let quickchartButtonEl =\n",
              "        document.querySelector('#df-23bfb58b-902e-4c31-840b-843b6a97499e button');\n",
              "      quickchartButtonEl.style.display =\n",
              "        google.colab.kernel.accessAllowed ? 'block' : 'none';\n",
              "    })();\n",
              "  </script>\n",
              "</div>\n",
              "\n",
              "    </div>\n",
              "  </div>\n"
            ],
            "application/vnd.google.colaboratory.intrinsic+json": {
              "type": "dataframe",
              "variable_name": "data",
              "summary": "{\n  \"name\": \"data\",\n  \"rows\": 517,\n  \"fields\": [\n    {\n      \"column\": \"X\",\n      \"properties\": {\n        \"dtype\": \"number\",\n        \"std\": 2,\n        \"min\": 1,\n        \"max\": 9,\n        \"num_unique_values\": 9,\n        \"samples\": [\n          1,\n          8,\n          2\n        ],\n        \"semantic_type\": \"\",\n        \"description\": \"\"\n      }\n    },\n    {\n      \"column\": \"Y\",\n      \"properties\": {\n        \"dtype\": \"number\",\n        \"std\": 1,\n        \"min\": 2,\n        \"max\": 9,\n        \"num_unique_values\": 7,\n        \"samples\": [\n          5,\n          4,\n          9\n        ],\n        \"semantic_type\": \"\",\n        \"description\": \"\"\n      }\n    },\n    {\n      \"column\": \"month\",\n      \"properties\": {\n        \"dtype\": \"category\",\n        \"num_unique_values\": 12,\n        \"samples\": [\n          \"may\",\n          \"dec\",\n          \"mar\"\n        ],\n        \"semantic_type\": \"\",\n        \"description\": \"\"\n      }\n    },\n    {\n      \"column\": \"day\",\n      \"properties\": {\n        \"dtype\": \"category\",\n        \"num_unique_values\": 7,\n        \"samples\": [\n          \"fri\",\n          \"tue\",\n          \"wed\"\n        ],\n        \"semantic_type\": \"\",\n        \"description\": \"\"\n      }\n    },\n    {\n      \"column\": \"FFMC\",\n      \"properties\": {\n        \"dtype\": \"number\",\n        \"std\": 5.520110848851269,\n        \"min\": 18.7,\n        \"max\": 96.2,\n        \"num_unique_values\": 106,\n        \"samples\": [\n          95.9,\n          90.9,\n          92.3\n        ],\n        \"semantic_type\": \"\",\n        \"description\": \"\"\n      }\n    },\n    {\n      \"column\": \"DMC\",\n      \"properties\": {\n        \"dtype\": \"number\",\n        \"std\": 64.04648224925425,\n        \"min\": 1.1,\n        \"max\": 291.3,\n        \"num_unique_values\": 215,\n        \"samples\": [\n          121.7,\n          166.9,\n          130.1\n        ],\n        \"semantic_type\": \"\",\n        \"description\": \"\"\n      }\n    },\n    {\n      \"column\": \"DC\",\n      \"properties\": {\n        \"dtype\": \"number\",\n        \"std\": 248.06619170584364,\n        \"min\": 7.9,\n        \"max\": 860.6,\n        \"num_unique_values\": 219,\n        \"samples\": [\n          458.8,\n          700.7,\n          665.6\n        ],\n        \"semantic_type\": \"\",\n        \"description\": \"\"\n      }\n    },\n    {\n      \"column\": \"ISI\",\n      \"properties\": {\n        \"dtype\": \"number\",\n        \"std\": 4.559477175216039,\n        \"min\": 0.0,\n        \"max\": 56.1,\n        \"num_unique_values\": 119,\n        \"samples\": [\n          7.9,\n          18.0,\n          14.7\n        ],\n        \"semantic_type\": \"\",\n        \"description\": \"\"\n      }\n    },\n    {\n      \"column\": \"temp\",\n      \"properties\": {\n        \"dtype\": \"number\",\n        \"std\": 5.806625349573505,\n        \"min\": 2.2,\n        \"max\": 33.3,\n        \"num_unique_values\": 192,\n        \"samples\": [\n          23.0,\n          4.8,\n          11.6\n        ],\n        \"semantic_type\": \"\",\n        \"description\": \"\"\n      }\n    },\n    {\n      \"column\": \"RH\",\n      \"properties\": {\n        \"dtype\": \"number\",\n        \"std\": 16,\n        \"min\": 15,\n        \"max\": 100,\n        \"num_unique_values\": 75,\n        \"samples\": [\n          29,\n          61,\n          72\n        ],\n        \"semantic_type\": \"\",\n        \"description\": \"\"\n      }\n    },\n    {\n      \"column\": \"wind\",\n      \"properties\": {\n        \"dtype\": \"number\",\n        \"std\": 1.7916526009464617,\n        \"min\": 0.4,\n        \"max\": 9.4,\n        \"num_unique_values\": 21,\n        \"samples\": [\n          6.7,\n          8.5,\n          6.3\n        ],\n        \"semantic_type\": \"\",\n        \"description\": \"\"\n      }\n    },\n    {\n      \"column\": \"rain\",\n      \"properties\": {\n        \"dtype\": \"number\",\n        \"std\": 0.295959120890894,\n        \"min\": 0.0,\n        \"max\": 6.4,\n        \"num_unique_values\": 7,\n        \"samples\": [\n          0.0,\n          0.2,\n          0.4\n        ],\n        \"semantic_type\": \"\",\n        \"description\": \"\"\n      }\n    },\n    {\n      \"column\": \"area\",\n      \"properties\": {\n        \"dtype\": \"number\",\n        \"std\": 63.65581846794089,\n        \"min\": 0.0,\n        \"max\": 1090.84,\n        \"num_unique_values\": 251,\n        \"samples\": [\n          7.48,\n          0.71,\n          1.72\n        ],\n        \"semantic_type\": \"\",\n        \"description\": \"\"\n      }\n    }\n  ]\n}"
            }
          },
          "metadata": {},
          "execution_count": 4
        }
      ]
    },
    {
      "cell_type": "markdown",
      "source": [
        "#### Exploratory Data Analysis (EDA) & Preprocessing"
      ],
      "metadata": {
        "id": "ZPisc-dqT45V"
      }
    },
    {
      "cell_type": "code",
      "source": [
        "data['month'].value_counts()"
      ],
      "metadata": {
        "colab": {
          "base_uri": "https://localhost:8080/"
        },
        "id": "GJRBquCcfLJU",
        "outputId": "09d5f82b-0693-4c24-f163-78d5b8e3e96c"
      },
      "execution_count": null,
      "outputs": [
        {
          "output_type": "execute_result",
          "data": {
            "text/plain": [
              "month\n",
              "aug    184\n",
              "sep    172\n",
              "mar     54\n",
              "jul     32\n",
              "feb     20\n",
              "jun     17\n",
              "oct     15\n",
              "apr      9\n",
              "dec      9\n",
              "jan      2\n",
              "may      2\n",
              "nov      1\n",
              "Name: count, dtype: int64"
            ]
          },
          "metadata": {},
          "execution_count": 5
        }
      ]
    },
    {
      "cell_type": "code",
      "source": [
        "# replace the month column with the binary fire season column\n",
        "fire_season = []\n",
        "fire_season_months = ['jul', 'aug', 'sep']\n",
        "\n",
        "for index, row in data.iterrows():\n",
        "  fire_season.append(int(row['month'] in fire_season_months))\n",
        "\n",
        "\n",
        "data['fire season'] = fire_season"
      ],
      "metadata": {
        "id": "x9AbjKFWQiHX"
      },
      "execution_count": null,
      "outputs": []
    },
    {
      "cell_type": "code",
      "source": [
        "data['fire season'].value_counts()"
      ],
      "metadata": {
        "id": "zJkcg46cQpn3",
        "colab": {
          "base_uri": "https://localhost:8080/"
        },
        "outputId": "da5abf15-2d19-4036-8ef1-6d6b35478c35"
      },
      "execution_count": null,
      "outputs": [
        {
          "output_type": "execute_result",
          "data": {
            "text/plain": [
              "fire season\n",
              "1    388\n",
              "0    129\n",
              "Name: count, dtype: int64"
            ]
          },
          "metadata": {},
          "execution_count": 7
        }
      ]
    },
    {
      "cell_type": "markdown",
      "source": [
        "We decided to replace the month column with a binary \"fire season\" column, displaying whether the observation was taken during fire season in Portugal, which is from July through September. We initially considered either label encoding or one hot encoding the column. However, label encoding may create linear relationships that are not actually present in the data, and one hot encoding would create 12 additional columns, increasing dimensionality and potentially leading to overfitting."
      ],
      "metadata": {
        "id": "SGeHgiDmEcWO"
      }
    },
    {
      "cell_type": "code",
      "source": [
        "data['rain'].describe()"
      ],
      "metadata": {
        "id": "IHtQV2B-FmJ1",
        "colab": {
          "base_uri": "https://localhost:8080/"
        },
        "outputId": "a87d0206-7c4a-4ffe-fbdc-da27c991f983"
      },
      "execution_count": null,
      "outputs": [
        {
          "output_type": "execute_result",
          "data": {
            "text/plain": [
              "count    517.000000\n",
              "mean       0.021663\n",
              "std        0.295959\n",
              "min        0.000000\n",
              "25%        0.000000\n",
              "50%        0.000000\n",
              "75%        0.000000\n",
              "max        6.400000\n",
              "Name: rain, dtype: float64"
            ]
          },
          "metadata": {},
          "execution_count": 8
        }
      ]
    },
    {
      "cell_type": "code",
      "source": [
        "data[data['rain'] > 0]"
      ],
      "metadata": {
        "id": "mt-BByfBFkVm",
        "colab": {
          "base_uri": "https://localhost:8080/",
          "height": 300
        },
        "outputId": "b6b15f84-8fab-4dc8-9da9-5fc276926929"
      },
      "execution_count": null,
      "outputs": [
        {
          "output_type": "execute_result",
          "data": {
            "text/plain": [
              "     X  Y month  day  FFMC    DMC     DC   ISI  temp  RH  wind  rain   area  \\\n",
              "3    8  6   mar  fri  91.7   33.3   77.5   9.0   8.3  97   4.0   0.2   0.00   \n",
              "243  7  4   aug  sun  91.8  175.1  700.7  13.8  21.9  73   7.6   1.0   0.00   \n",
              "286  7  6   jul  wed  91.2  183.1  437.7  12.5  12.6  90   7.6   0.2   0.00   \n",
              "499  7  5   aug  tue  96.1  181.1  671.2  14.3  27.3  63   4.9   6.4  10.82   \n",
              "500  8  6   aug  tue  96.1  181.1  671.2  14.3  21.6  65   4.9   0.8   0.00   \n",
              "501  7  5   aug  tue  96.1  181.1  671.2  14.3  21.6  65   4.9   0.8   0.00   \n",
              "502  4  4   aug  tue  96.1  181.1  671.2  14.3  20.7  69   4.9   0.4   0.00   \n",
              "509  5  4   aug  fri  91.0  166.9  752.6   7.1  21.1  71   7.6   1.4   2.17   \n",
              "\n",
              "     fire season  \n",
              "3              0  \n",
              "243            1  \n",
              "286            1  \n",
              "499            1  \n",
              "500            1  \n",
              "501            1  \n",
              "502            1  \n",
              "509            1  "
            ],
            "text/html": [
              "\n",
              "  <div id=\"df-c95eb68e-2481-467a-b9b1-bb0d7c45852d\" class=\"colab-df-container\">\n",
              "    <div>\n",
              "<style scoped>\n",
              "    .dataframe tbody tr th:only-of-type {\n",
              "        vertical-align: middle;\n",
              "    }\n",
              "\n",
              "    .dataframe tbody tr th {\n",
              "        vertical-align: top;\n",
              "    }\n",
              "\n",
              "    .dataframe thead th {\n",
              "        text-align: right;\n",
              "    }\n",
              "</style>\n",
              "<table border=\"1\" class=\"dataframe\">\n",
              "  <thead>\n",
              "    <tr style=\"text-align: right;\">\n",
              "      <th></th>\n",
              "      <th>X</th>\n",
              "      <th>Y</th>\n",
              "      <th>month</th>\n",
              "      <th>day</th>\n",
              "      <th>FFMC</th>\n",
              "      <th>DMC</th>\n",
              "      <th>DC</th>\n",
              "      <th>ISI</th>\n",
              "      <th>temp</th>\n",
              "      <th>RH</th>\n",
              "      <th>wind</th>\n",
              "      <th>rain</th>\n",
              "      <th>area</th>\n",
              "      <th>fire season</th>\n",
              "    </tr>\n",
              "  </thead>\n",
              "  <tbody>\n",
              "    <tr>\n",
              "      <th>3</th>\n",
              "      <td>8</td>\n",
              "      <td>6</td>\n",
              "      <td>mar</td>\n",
              "      <td>fri</td>\n",
              "      <td>91.7</td>\n",
              "      <td>33.3</td>\n",
              "      <td>77.5</td>\n",
              "      <td>9.0</td>\n",
              "      <td>8.3</td>\n",
              "      <td>97</td>\n",
              "      <td>4.0</td>\n",
              "      <td>0.2</td>\n",
              "      <td>0.00</td>\n",
              "      <td>0</td>\n",
              "    </tr>\n",
              "    <tr>\n",
              "      <th>243</th>\n",
              "      <td>7</td>\n",
              "      <td>4</td>\n",
              "      <td>aug</td>\n",
              "      <td>sun</td>\n",
              "      <td>91.8</td>\n",
              "      <td>175.1</td>\n",
              "      <td>700.7</td>\n",
              "      <td>13.8</td>\n",
              "      <td>21.9</td>\n",
              "      <td>73</td>\n",
              "      <td>7.6</td>\n",
              "      <td>1.0</td>\n",
              "      <td>0.00</td>\n",
              "      <td>1</td>\n",
              "    </tr>\n",
              "    <tr>\n",
              "      <th>286</th>\n",
              "      <td>7</td>\n",
              "      <td>6</td>\n",
              "      <td>jul</td>\n",
              "      <td>wed</td>\n",
              "      <td>91.2</td>\n",
              "      <td>183.1</td>\n",
              "      <td>437.7</td>\n",
              "      <td>12.5</td>\n",
              "      <td>12.6</td>\n",
              "      <td>90</td>\n",
              "      <td>7.6</td>\n",
              "      <td>0.2</td>\n",
              "      <td>0.00</td>\n",
              "      <td>1</td>\n",
              "    </tr>\n",
              "    <tr>\n",
              "      <th>499</th>\n",
              "      <td>7</td>\n",
              "      <td>5</td>\n",
              "      <td>aug</td>\n",
              "      <td>tue</td>\n",
              "      <td>96.1</td>\n",
              "      <td>181.1</td>\n",
              "      <td>671.2</td>\n",
              "      <td>14.3</td>\n",
              "      <td>27.3</td>\n",
              "      <td>63</td>\n",
              "      <td>4.9</td>\n",
              "      <td>6.4</td>\n",
              "      <td>10.82</td>\n",
              "      <td>1</td>\n",
              "    </tr>\n",
              "    <tr>\n",
              "      <th>500</th>\n",
              "      <td>8</td>\n",
              "      <td>6</td>\n",
              "      <td>aug</td>\n",
              "      <td>tue</td>\n",
              "      <td>96.1</td>\n",
              "      <td>181.1</td>\n",
              "      <td>671.2</td>\n",
              "      <td>14.3</td>\n",
              "      <td>21.6</td>\n",
              "      <td>65</td>\n",
              "      <td>4.9</td>\n",
              "      <td>0.8</td>\n",
              "      <td>0.00</td>\n",
              "      <td>1</td>\n",
              "    </tr>\n",
              "    <tr>\n",
              "      <th>501</th>\n",
              "      <td>7</td>\n",
              "      <td>5</td>\n",
              "      <td>aug</td>\n",
              "      <td>tue</td>\n",
              "      <td>96.1</td>\n",
              "      <td>181.1</td>\n",
              "      <td>671.2</td>\n",
              "      <td>14.3</td>\n",
              "      <td>21.6</td>\n",
              "      <td>65</td>\n",
              "      <td>4.9</td>\n",
              "      <td>0.8</td>\n",
              "      <td>0.00</td>\n",
              "      <td>1</td>\n",
              "    </tr>\n",
              "    <tr>\n",
              "      <th>502</th>\n",
              "      <td>4</td>\n",
              "      <td>4</td>\n",
              "      <td>aug</td>\n",
              "      <td>tue</td>\n",
              "      <td>96.1</td>\n",
              "      <td>181.1</td>\n",
              "      <td>671.2</td>\n",
              "      <td>14.3</td>\n",
              "      <td>20.7</td>\n",
              "      <td>69</td>\n",
              "      <td>4.9</td>\n",
              "      <td>0.4</td>\n",
              "      <td>0.00</td>\n",
              "      <td>1</td>\n",
              "    </tr>\n",
              "    <tr>\n",
              "      <th>509</th>\n",
              "      <td>5</td>\n",
              "      <td>4</td>\n",
              "      <td>aug</td>\n",
              "      <td>fri</td>\n",
              "      <td>91.0</td>\n",
              "      <td>166.9</td>\n",
              "      <td>752.6</td>\n",
              "      <td>7.1</td>\n",
              "      <td>21.1</td>\n",
              "      <td>71</td>\n",
              "      <td>7.6</td>\n",
              "      <td>1.4</td>\n",
              "      <td>2.17</td>\n",
              "      <td>1</td>\n",
              "    </tr>\n",
              "  </tbody>\n",
              "</table>\n",
              "</div>\n",
              "    <div class=\"colab-df-buttons\">\n",
              "\n",
              "  <div class=\"colab-df-container\">\n",
              "    <button class=\"colab-df-convert\" onclick=\"convertToInteractive('df-c95eb68e-2481-467a-b9b1-bb0d7c45852d')\"\n",
              "            title=\"Convert this dataframe to an interactive table.\"\n",
              "            style=\"display:none;\">\n",
              "\n",
              "  <svg xmlns=\"http://www.w3.org/2000/svg\" height=\"24px\" viewBox=\"0 -960 960 960\">\n",
              "    <path d=\"M120-120v-720h720v720H120Zm60-500h600v-160H180v160Zm220 220h160v-160H400v160Zm0 220h160v-160H400v160ZM180-400h160v-160H180v160Zm440 0h160v-160H620v160ZM180-180h160v-160H180v160Zm440 0h160v-160H620v160Z\"/>\n",
              "  </svg>\n",
              "    </button>\n",
              "\n",
              "  <style>\n",
              "    .colab-df-container {\n",
              "      display:flex;\n",
              "      gap: 12px;\n",
              "    }\n",
              "\n",
              "    .colab-df-convert {\n",
              "      background-color: #E8F0FE;\n",
              "      border: none;\n",
              "      border-radius: 50%;\n",
              "      cursor: pointer;\n",
              "      display: none;\n",
              "      fill: #1967D2;\n",
              "      height: 32px;\n",
              "      padding: 0 0 0 0;\n",
              "      width: 32px;\n",
              "    }\n",
              "\n",
              "    .colab-df-convert:hover {\n",
              "      background-color: #E2EBFA;\n",
              "      box-shadow: 0px 1px 2px rgba(60, 64, 67, 0.3), 0px 1px 3px 1px rgba(60, 64, 67, 0.15);\n",
              "      fill: #174EA6;\n",
              "    }\n",
              "\n",
              "    .colab-df-buttons div {\n",
              "      margin-bottom: 4px;\n",
              "    }\n",
              "\n",
              "    [theme=dark] .colab-df-convert {\n",
              "      background-color: #3B4455;\n",
              "      fill: #D2E3FC;\n",
              "    }\n",
              "\n",
              "    [theme=dark] .colab-df-convert:hover {\n",
              "      background-color: #434B5C;\n",
              "      box-shadow: 0px 1px 3px 1px rgba(0, 0, 0, 0.15);\n",
              "      filter: drop-shadow(0px 1px 2px rgba(0, 0, 0, 0.3));\n",
              "      fill: #FFFFFF;\n",
              "    }\n",
              "  </style>\n",
              "\n",
              "    <script>\n",
              "      const buttonEl =\n",
              "        document.querySelector('#df-c95eb68e-2481-467a-b9b1-bb0d7c45852d button.colab-df-convert');\n",
              "      buttonEl.style.display =\n",
              "        google.colab.kernel.accessAllowed ? 'block' : 'none';\n",
              "\n",
              "      async function convertToInteractive(key) {\n",
              "        const element = document.querySelector('#df-c95eb68e-2481-467a-b9b1-bb0d7c45852d');\n",
              "        const dataTable =\n",
              "          await google.colab.kernel.invokeFunction('convertToInteractive',\n",
              "                                                    [key], {});\n",
              "        if (!dataTable) return;\n",
              "\n",
              "        const docLinkHtml = 'Like what you see? Visit the ' +\n",
              "          '<a target=\"_blank\" href=https://colab.research.google.com/notebooks/data_table.ipynb>data table notebook</a>'\n",
              "          + ' to learn more about interactive tables.';\n",
              "        element.innerHTML = '';\n",
              "        dataTable['output_type'] = 'display_data';\n",
              "        await google.colab.output.renderOutput(dataTable, element);\n",
              "        const docLink = document.createElement('div');\n",
              "        docLink.innerHTML = docLinkHtml;\n",
              "        element.appendChild(docLink);\n",
              "      }\n",
              "    </script>\n",
              "  </div>\n",
              "\n",
              "\n",
              "<div id=\"df-8934a9cc-52af-488f-97d0-3fb18a0a6d9c\">\n",
              "  <button class=\"colab-df-quickchart\" onclick=\"quickchart('df-8934a9cc-52af-488f-97d0-3fb18a0a6d9c')\"\n",
              "            title=\"Suggest charts\"\n",
              "            style=\"display:none;\">\n",
              "\n",
              "<svg xmlns=\"http://www.w3.org/2000/svg\" height=\"24px\"viewBox=\"0 0 24 24\"\n",
              "     width=\"24px\">\n",
              "    <g>\n",
              "        <path d=\"M19 3H5c-1.1 0-2 .9-2 2v14c0 1.1.9 2 2 2h14c1.1 0 2-.9 2-2V5c0-1.1-.9-2-2-2zM9 17H7v-7h2v7zm4 0h-2V7h2v10zm4 0h-2v-4h2v4z\"/>\n",
              "    </g>\n",
              "</svg>\n",
              "  </button>\n",
              "\n",
              "<style>\n",
              "  .colab-df-quickchart {\n",
              "      --bg-color: #E8F0FE;\n",
              "      --fill-color: #1967D2;\n",
              "      --hover-bg-color: #E2EBFA;\n",
              "      --hover-fill-color: #174EA6;\n",
              "      --disabled-fill-color: #AAA;\n",
              "      --disabled-bg-color: #DDD;\n",
              "  }\n",
              "\n",
              "  [theme=dark] .colab-df-quickchart {\n",
              "      --bg-color: #3B4455;\n",
              "      --fill-color: #D2E3FC;\n",
              "      --hover-bg-color: #434B5C;\n",
              "      --hover-fill-color: #FFFFFF;\n",
              "      --disabled-bg-color: #3B4455;\n",
              "      --disabled-fill-color: #666;\n",
              "  }\n",
              "\n",
              "  .colab-df-quickchart {\n",
              "    background-color: var(--bg-color);\n",
              "    border: none;\n",
              "    border-radius: 50%;\n",
              "    cursor: pointer;\n",
              "    display: none;\n",
              "    fill: var(--fill-color);\n",
              "    height: 32px;\n",
              "    padding: 0;\n",
              "    width: 32px;\n",
              "  }\n",
              "\n",
              "  .colab-df-quickchart:hover {\n",
              "    background-color: var(--hover-bg-color);\n",
              "    box-shadow: 0 1px 2px rgba(60, 64, 67, 0.3), 0 1px 3px 1px rgba(60, 64, 67, 0.15);\n",
              "    fill: var(--button-hover-fill-color);\n",
              "  }\n",
              "\n",
              "  .colab-df-quickchart-complete:disabled,\n",
              "  .colab-df-quickchart-complete:disabled:hover {\n",
              "    background-color: var(--disabled-bg-color);\n",
              "    fill: var(--disabled-fill-color);\n",
              "    box-shadow: none;\n",
              "  }\n",
              "\n",
              "  .colab-df-spinner {\n",
              "    border: 2px solid var(--fill-color);\n",
              "    border-color: transparent;\n",
              "    border-bottom-color: var(--fill-color);\n",
              "    animation:\n",
              "      spin 1s steps(1) infinite;\n",
              "  }\n",
              "\n",
              "  @keyframes spin {\n",
              "    0% {\n",
              "      border-color: transparent;\n",
              "      border-bottom-color: var(--fill-color);\n",
              "      border-left-color: var(--fill-color);\n",
              "    }\n",
              "    20% {\n",
              "      border-color: transparent;\n",
              "      border-left-color: var(--fill-color);\n",
              "      border-top-color: var(--fill-color);\n",
              "    }\n",
              "    30% {\n",
              "      border-color: transparent;\n",
              "      border-left-color: var(--fill-color);\n",
              "      border-top-color: var(--fill-color);\n",
              "      border-right-color: var(--fill-color);\n",
              "    }\n",
              "    40% {\n",
              "      border-color: transparent;\n",
              "      border-right-color: var(--fill-color);\n",
              "      border-top-color: var(--fill-color);\n",
              "    }\n",
              "    60% {\n",
              "      border-color: transparent;\n",
              "      border-right-color: var(--fill-color);\n",
              "    }\n",
              "    80% {\n",
              "      border-color: transparent;\n",
              "      border-right-color: var(--fill-color);\n",
              "      border-bottom-color: var(--fill-color);\n",
              "    }\n",
              "    90% {\n",
              "      border-color: transparent;\n",
              "      border-bottom-color: var(--fill-color);\n",
              "    }\n",
              "  }\n",
              "</style>\n",
              "\n",
              "  <script>\n",
              "    async function quickchart(key) {\n",
              "      const quickchartButtonEl =\n",
              "        document.querySelector('#' + key + ' button');\n",
              "      quickchartButtonEl.disabled = true;  // To prevent multiple clicks.\n",
              "      quickchartButtonEl.classList.add('colab-df-spinner');\n",
              "      try {\n",
              "        const charts = await google.colab.kernel.invokeFunction(\n",
              "            'suggestCharts', [key], {});\n",
              "      } catch (error) {\n",
              "        console.error('Error during call to suggestCharts:', error);\n",
              "      }\n",
              "      quickchartButtonEl.classList.remove('colab-df-spinner');\n",
              "      quickchartButtonEl.classList.add('colab-df-quickchart-complete');\n",
              "    }\n",
              "    (() => {\n",
              "      let quickchartButtonEl =\n",
              "        document.querySelector('#df-8934a9cc-52af-488f-97d0-3fb18a0a6d9c button');\n",
              "      quickchartButtonEl.style.display =\n",
              "        google.colab.kernel.accessAllowed ? 'block' : 'none';\n",
              "    })();\n",
              "  </script>\n",
              "</div>\n",
              "\n",
              "    </div>\n",
              "  </div>\n"
            ],
            "application/vnd.google.colaboratory.intrinsic+json": {
              "type": "dataframe",
              "summary": "{\n  \"name\": \"data[data['rain'] > 0]\",\n  \"rows\": 8,\n  \"fields\": [\n    {\n      \"column\": \"X\",\n      \"properties\": {\n        \"dtype\": \"number\",\n        \"std\": 1,\n        \"min\": 4,\n        \"max\": 8,\n        \"num_unique_values\": 4,\n        \"samples\": [\n          7,\n          5,\n          8\n        ],\n        \"semantic_type\": \"\",\n        \"description\": \"\"\n      }\n    },\n    {\n      \"column\": \"Y\",\n      \"properties\": {\n        \"dtype\": \"number\",\n        \"std\": 0,\n        \"min\": 4,\n        \"max\": 6,\n        \"num_unique_values\": 3,\n        \"samples\": [\n          6,\n          4,\n          5\n        ],\n        \"semantic_type\": \"\",\n        \"description\": \"\"\n      }\n    },\n    {\n      \"column\": \"month\",\n      \"properties\": {\n        \"dtype\": \"category\",\n        \"num_unique_values\": 3,\n        \"samples\": [\n          \"mar\",\n          \"aug\",\n          \"jul\"\n        ],\n        \"semantic_type\": \"\",\n        \"description\": \"\"\n      }\n    },\n    {\n      \"column\": \"day\",\n      \"properties\": {\n        \"dtype\": \"string\",\n        \"num_unique_values\": 4,\n        \"samples\": [\n          \"sun\",\n          \"tue\",\n          \"fri\"\n        ],\n        \"semantic_type\": \"\",\n        \"description\": \"\"\n      }\n    },\n    {\n      \"column\": \"FFMC\",\n      \"properties\": {\n        \"dtype\": \"number\",\n        \"std\": 2.511651420309522,\n        \"min\": 91.0,\n        \"max\": 96.1,\n        \"num_unique_values\": 5,\n        \"samples\": [\n          91.8,\n          91.0,\n          91.2\n        ],\n        \"semantic_type\": \"\",\n        \"description\": \"\"\n      }\n    },\n    {\n      \"column\": \"DMC\",\n      \"properties\": {\n        \"dtype\": \"number\",\n        \"std\": 51.60561984900482,\n        \"min\": 33.3,\n        \"max\": 183.1,\n        \"num_unique_values\": 5,\n        \"samples\": [\n          175.1,\n          166.9,\n          183.1\n        ],\n        \"semantic_type\": \"\",\n        \"description\": \"\"\n      }\n    },\n    {\n      \"column\": \"DC\",\n      \"properties\": {\n        \"dtype\": \"number\",\n        \"std\": 223.72254460444015,\n        \"min\": 77.5,\n        \"max\": 752.6,\n        \"num_unique_values\": 5,\n        \"samples\": [\n          700.7,\n          752.6,\n          437.7\n        ],\n        \"semantic_type\": \"\",\n        \"description\": \"\"\n      }\n    },\n    {\n      \"column\": \"ISI\",\n      \"properties\": {\n        \"dtype\": \"number\",\n        \"std\": 2.829437096970754,\n        \"min\": 7.1,\n        \"max\": 14.3,\n        \"num_unique_values\": 5,\n        \"samples\": [\n          13.8,\n          7.1,\n          12.5\n        ],\n        \"semantic_type\": \"\",\n        \"description\": \"\"\n      }\n    },\n    {\n      \"column\": \"temp\",\n      \"properties\": {\n        \"dtype\": \"number\",\n        \"std\": 6.004388276205043,\n        \"min\": 8.3,\n        \"max\": 27.3,\n        \"num_unique_values\": 7,\n        \"samples\": [\n          8.3,\n          21.9,\n          20.7\n        ],\n        \"semantic_type\": \"\",\n        \"description\": \"\"\n      }\n    },\n    {\n      \"column\": \"RH\",\n      \"properties\": {\n        \"dtype\": \"number\",\n        \"std\": 12,\n        \"min\": 63,\n        \"max\": 97,\n        \"num_unique_values\": 7,\n        \"samples\": [\n          97,\n          73,\n          69\n        ],\n        \"semantic_type\": \"\",\n        \"description\": \"\"\n      }\n    },\n    {\n      \"column\": \"wind\",\n      \"properties\": {\n        \"dtype\": \"number\",\n        \"std\": 1.5212776585113297,\n        \"min\": 4.0,\n        \"max\": 7.6,\n        \"num_unique_values\": 3,\n        \"samples\": [\n          4.0,\n          7.6,\n          4.9\n        ],\n        \"semantic_type\": \"\",\n        \"description\": \"\"\n      }\n    },\n    {\n      \"column\": \"rain\",\n      \"properties\": {\n        \"dtype\": \"number\",\n        \"std\": 2.061899263162139,\n        \"min\": 0.2,\n        \"max\": 6.4,\n        \"num_unique_values\": 6,\n        \"samples\": [\n          0.2,\n          1.0,\n          1.4\n        ],\n        \"semantic_type\": \"\",\n        \"description\": \"\"\n      }\n    },\n    {\n      \"column\": \"area\",\n      \"properties\": {\n        \"dtype\": \"number\",\n        \"std\": 3.7926392525522385,\n        \"min\": 0.0,\n        \"max\": 10.82,\n        \"num_unique_values\": 3,\n        \"samples\": [\n          0.0,\n          10.82,\n          2.17\n        ],\n        \"semantic_type\": \"\",\n        \"description\": \"\"\n      }\n    },\n    {\n      \"column\": \"fire season\",\n      \"properties\": {\n        \"dtype\": \"number\",\n        \"std\": 0,\n        \"min\": 0,\n        \"max\": 1,\n        \"num_unique_values\": 2,\n        \"samples\": [\n          1,\n          0\n        ],\n        \"semantic_type\": \"\",\n        \"description\": \"\"\n      }\n    }\n  ]\n}"
            }
          },
          "metadata": {},
          "execution_count": 9
        }
      ]
    },
    {
      "cell_type": "code",
      "source": [
        "# drop locational/temporal columns and rain column (which has 8 nonzero values)\n",
        "data = data.drop(['X', 'Y', 'month', 'day', 'rain'], axis=1)"
      ],
      "metadata": {
        "id": "bcRParS2QlXL"
      },
      "execution_count": null,
      "outputs": []
    },
    {
      "cell_type": "markdown",
      "source": [
        "We also dropped the X and Y columns because they are locational and could be misleading in our analysis. The month column has been replaced with the fire season column, and the day column is irrelevant because the day of the week should not be correlated with when fires occur. Moreover, we hypothesized that data was likely collected once a week (probably on weekends), and collected more frequently during the week if a fire is present. Therefore, the day column should not be considered in our analysis. The rain column was also excluded because it has only 8 non-zero values (see above)."
      ],
      "metadata": {
        "id": "VH1dJcjOFYB-"
      }
    },
    {
      "cell_type": "code",
      "source": [
        "data.head()"
      ],
      "metadata": {
        "id": "A3M7oDTGQqV6",
        "colab": {
          "base_uri": "https://localhost:8080/",
          "height": 206
        },
        "outputId": "d31f6795-e818-44d1-b785-cc46c801307b"
      },
      "execution_count": null,
      "outputs": [
        {
          "output_type": "execute_result",
          "data": {
            "text/plain": [
              "   FFMC   DMC     DC  ISI  temp  RH  wind  area  fire season\n",
              "0  86.2  26.2   94.3  5.1   8.2  51   6.7   0.0            0\n",
              "1  90.6  35.4  669.1  6.7  18.0  33   0.9   0.0            0\n",
              "2  90.6  43.7  686.9  6.7  14.6  33   1.3   0.0            0\n",
              "3  91.7  33.3   77.5  9.0   8.3  97   4.0   0.0            0\n",
              "4  89.3  51.3  102.2  9.6  11.4  99   1.8   0.0            0"
            ],
            "text/html": [
              "\n",
              "  <div id=\"df-1b80c0fc-a27e-4bc6-94a0-b13c4fd6f7ff\" class=\"colab-df-container\">\n",
              "    <div>\n",
              "<style scoped>\n",
              "    .dataframe tbody tr th:only-of-type {\n",
              "        vertical-align: middle;\n",
              "    }\n",
              "\n",
              "    .dataframe tbody tr th {\n",
              "        vertical-align: top;\n",
              "    }\n",
              "\n",
              "    .dataframe thead th {\n",
              "        text-align: right;\n",
              "    }\n",
              "</style>\n",
              "<table border=\"1\" class=\"dataframe\">\n",
              "  <thead>\n",
              "    <tr style=\"text-align: right;\">\n",
              "      <th></th>\n",
              "      <th>FFMC</th>\n",
              "      <th>DMC</th>\n",
              "      <th>DC</th>\n",
              "      <th>ISI</th>\n",
              "      <th>temp</th>\n",
              "      <th>RH</th>\n",
              "      <th>wind</th>\n",
              "      <th>area</th>\n",
              "      <th>fire season</th>\n",
              "    </tr>\n",
              "  </thead>\n",
              "  <tbody>\n",
              "    <tr>\n",
              "      <th>0</th>\n",
              "      <td>86.2</td>\n",
              "      <td>26.2</td>\n",
              "      <td>94.3</td>\n",
              "      <td>5.1</td>\n",
              "      <td>8.2</td>\n",
              "      <td>51</td>\n",
              "      <td>6.7</td>\n",
              "      <td>0.0</td>\n",
              "      <td>0</td>\n",
              "    </tr>\n",
              "    <tr>\n",
              "      <th>1</th>\n",
              "      <td>90.6</td>\n",
              "      <td>35.4</td>\n",
              "      <td>669.1</td>\n",
              "      <td>6.7</td>\n",
              "      <td>18.0</td>\n",
              "      <td>33</td>\n",
              "      <td>0.9</td>\n",
              "      <td>0.0</td>\n",
              "      <td>0</td>\n",
              "    </tr>\n",
              "    <tr>\n",
              "      <th>2</th>\n",
              "      <td>90.6</td>\n",
              "      <td>43.7</td>\n",
              "      <td>686.9</td>\n",
              "      <td>6.7</td>\n",
              "      <td>14.6</td>\n",
              "      <td>33</td>\n",
              "      <td>1.3</td>\n",
              "      <td>0.0</td>\n",
              "      <td>0</td>\n",
              "    </tr>\n",
              "    <tr>\n",
              "      <th>3</th>\n",
              "      <td>91.7</td>\n",
              "      <td>33.3</td>\n",
              "      <td>77.5</td>\n",
              "      <td>9.0</td>\n",
              "      <td>8.3</td>\n",
              "      <td>97</td>\n",
              "      <td>4.0</td>\n",
              "      <td>0.0</td>\n",
              "      <td>0</td>\n",
              "    </tr>\n",
              "    <tr>\n",
              "      <th>4</th>\n",
              "      <td>89.3</td>\n",
              "      <td>51.3</td>\n",
              "      <td>102.2</td>\n",
              "      <td>9.6</td>\n",
              "      <td>11.4</td>\n",
              "      <td>99</td>\n",
              "      <td>1.8</td>\n",
              "      <td>0.0</td>\n",
              "      <td>0</td>\n",
              "    </tr>\n",
              "  </tbody>\n",
              "</table>\n",
              "</div>\n",
              "    <div class=\"colab-df-buttons\">\n",
              "\n",
              "  <div class=\"colab-df-container\">\n",
              "    <button class=\"colab-df-convert\" onclick=\"convertToInteractive('df-1b80c0fc-a27e-4bc6-94a0-b13c4fd6f7ff')\"\n",
              "            title=\"Convert this dataframe to an interactive table.\"\n",
              "            style=\"display:none;\">\n",
              "\n",
              "  <svg xmlns=\"http://www.w3.org/2000/svg\" height=\"24px\" viewBox=\"0 -960 960 960\">\n",
              "    <path d=\"M120-120v-720h720v720H120Zm60-500h600v-160H180v160Zm220 220h160v-160H400v160Zm0 220h160v-160H400v160ZM180-400h160v-160H180v160Zm440 0h160v-160H620v160ZM180-180h160v-160H180v160Zm440 0h160v-160H620v160Z\"/>\n",
              "  </svg>\n",
              "    </button>\n",
              "\n",
              "  <style>\n",
              "    .colab-df-container {\n",
              "      display:flex;\n",
              "      gap: 12px;\n",
              "    }\n",
              "\n",
              "    .colab-df-convert {\n",
              "      background-color: #E8F0FE;\n",
              "      border: none;\n",
              "      border-radius: 50%;\n",
              "      cursor: pointer;\n",
              "      display: none;\n",
              "      fill: #1967D2;\n",
              "      height: 32px;\n",
              "      padding: 0 0 0 0;\n",
              "      width: 32px;\n",
              "    }\n",
              "\n",
              "    .colab-df-convert:hover {\n",
              "      background-color: #E2EBFA;\n",
              "      box-shadow: 0px 1px 2px rgba(60, 64, 67, 0.3), 0px 1px 3px 1px rgba(60, 64, 67, 0.15);\n",
              "      fill: #174EA6;\n",
              "    }\n",
              "\n",
              "    .colab-df-buttons div {\n",
              "      margin-bottom: 4px;\n",
              "    }\n",
              "\n",
              "    [theme=dark] .colab-df-convert {\n",
              "      background-color: #3B4455;\n",
              "      fill: #D2E3FC;\n",
              "    }\n",
              "\n",
              "    [theme=dark] .colab-df-convert:hover {\n",
              "      background-color: #434B5C;\n",
              "      box-shadow: 0px 1px 3px 1px rgba(0, 0, 0, 0.15);\n",
              "      filter: drop-shadow(0px 1px 2px rgba(0, 0, 0, 0.3));\n",
              "      fill: #FFFFFF;\n",
              "    }\n",
              "  </style>\n",
              "\n",
              "    <script>\n",
              "      const buttonEl =\n",
              "        document.querySelector('#df-1b80c0fc-a27e-4bc6-94a0-b13c4fd6f7ff button.colab-df-convert');\n",
              "      buttonEl.style.display =\n",
              "        google.colab.kernel.accessAllowed ? 'block' : 'none';\n",
              "\n",
              "      async function convertToInteractive(key) {\n",
              "        const element = document.querySelector('#df-1b80c0fc-a27e-4bc6-94a0-b13c4fd6f7ff');\n",
              "        const dataTable =\n",
              "          await google.colab.kernel.invokeFunction('convertToInteractive',\n",
              "                                                    [key], {});\n",
              "        if (!dataTable) return;\n",
              "\n",
              "        const docLinkHtml = 'Like what you see? Visit the ' +\n",
              "          '<a target=\"_blank\" href=https://colab.research.google.com/notebooks/data_table.ipynb>data table notebook</a>'\n",
              "          + ' to learn more about interactive tables.';\n",
              "        element.innerHTML = '';\n",
              "        dataTable['output_type'] = 'display_data';\n",
              "        await google.colab.output.renderOutput(dataTable, element);\n",
              "        const docLink = document.createElement('div');\n",
              "        docLink.innerHTML = docLinkHtml;\n",
              "        element.appendChild(docLink);\n",
              "      }\n",
              "    </script>\n",
              "  </div>\n",
              "\n",
              "\n",
              "<div id=\"df-cf03535c-cb03-4437-ace3-363d0585e7a6\">\n",
              "  <button class=\"colab-df-quickchart\" onclick=\"quickchart('df-cf03535c-cb03-4437-ace3-363d0585e7a6')\"\n",
              "            title=\"Suggest charts\"\n",
              "            style=\"display:none;\">\n",
              "\n",
              "<svg xmlns=\"http://www.w3.org/2000/svg\" height=\"24px\"viewBox=\"0 0 24 24\"\n",
              "     width=\"24px\">\n",
              "    <g>\n",
              "        <path d=\"M19 3H5c-1.1 0-2 .9-2 2v14c0 1.1.9 2 2 2h14c1.1 0 2-.9 2-2V5c0-1.1-.9-2-2-2zM9 17H7v-7h2v7zm4 0h-2V7h2v10zm4 0h-2v-4h2v4z\"/>\n",
              "    </g>\n",
              "</svg>\n",
              "  </button>\n",
              "\n",
              "<style>\n",
              "  .colab-df-quickchart {\n",
              "      --bg-color: #E8F0FE;\n",
              "      --fill-color: #1967D2;\n",
              "      --hover-bg-color: #E2EBFA;\n",
              "      --hover-fill-color: #174EA6;\n",
              "      --disabled-fill-color: #AAA;\n",
              "      --disabled-bg-color: #DDD;\n",
              "  }\n",
              "\n",
              "  [theme=dark] .colab-df-quickchart {\n",
              "      --bg-color: #3B4455;\n",
              "      --fill-color: #D2E3FC;\n",
              "      --hover-bg-color: #434B5C;\n",
              "      --hover-fill-color: #FFFFFF;\n",
              "      --disabled-bg-color: #3B4455;\n",
              "      --disabled-fill-color: #666;\n",
              "  }\n",
              "\n",
              "  .colab-df-quickchart {\n",
              "    background-color: var(--bg-color);\n",
              "    border: none;\n",
              "    border-radius: 50%;\n",
              "    cursor: pointer;\n",
              "    display: none;\n",
              "    fill: var(--fill-color);\n",
              "    height: 32px;\n",
              "    padding: 0;\n",
              "    width: 32px;\n",
              "  }\n",
              "\n",
              "  .colab-df-quickchart:hover {\n",
              "    background-color: var(--hover-bg-color);\n",
              "    box-shadow: 0 1px 2px rgba(60, 64, 67, 0.3), 0 1px 3px 1px rgba(60, 64, 67, 0.15);\n",
              "    fill: var(--button-hover-fill-color);\n",
              "  }\n",
              "\n",
              "  .colab-df-quickchart-complete:disabled,\n",
              "  .colab-df-quickchart-complete:disabled:hover {\n",
              "    background-color: var(--disabled-bg-color);\n",
              "    fill: var(--disabled-fill-color);\n",
              "    box-shadow: none;\n",
              "  }\n",
              "\n",
              "  .colab-df-spinner {\n",
              "    border: 2px solid var(--fill-color);\n",
              "    border-color: transparent;\n",
              "    border-bottom-color: var(--fill-color);\n",
              "    animation:\n",
              "      spin 1s steps(1) infinite;\n",
              "  }\n",
              "\n",
              "  @keyframes spin {\n",
              "    0% {\n",
              "      border-color: transparent;\n",
              "      border-bottom-color: var(--fill-color);\n",
              "      border-left-color: var(--fill-color);\n",
              "    }\n",
              "    20% {\n",
              "      border-color: transparent;\n",
              "      border-left-color: var(--fill-color);\n",
              "      border-top-color: var(--fill-color);\n",
              "    }\n",
              "    30% {\n",
              "      border-color: transparent;\n",
              "      border-left-color: var(--fill-color);\n",
              "      border-top-color: var(--fill-color);\n",
              "      border-right-color: var(--fill-color);\n",
              "    }\n",
              "    40% {\n",
              "      border-color: transparent;\n",
              "      border-right-color: var(--fill-color);\n",
              "      border-top-color: var(--fill-color);\n",
              "    }\n",
              "    60% {\n",
              "      border-color: transparent;\n",
              "      border-right-color: var(--fill-color);\n",
              "    }\n",
              "    80% {\n",
              "      border-color: transparent;\n",
              "      border-right-color: var(--fill-color);\n",
              "      border-bottom-color: var(--fill-color);\n",
              "    }\n",
              "    90% {\n",
              "      border-color: transparent;\n",
              "      border-bottom-color: var(--fill-color);\n",
              "    }\n",
              "  }\n",
              "</style>\n",
              "\n",
              "  <script>\n",
              "    async function quickchart(key) {\n",
              "      const quickchartButtonEl =\n",
              "        document.querySelector('#' + key + ' button');\n",
              "      quickchartButtonEl.disabled = true;  // To prevent multiple clicks.\n",
              "      quickchartButtonEl.classList.add('colab-df-spinner');\n",
              "      try {\n",
              "        const charts = await google.colab.kernel.invokeFunction(\n",
              "            'suggestCharts', [key], {});\n",
              "      } catch (error) {\n",
              "        console.error('Error during call to suggestCharts:', error);\n",
              "      }\n",
              "      quickchartButtonEl.classList.remove('colab-df-spinner');\n",
              "      quickchartButtonEl.classList.add('colab-df-quickchart-complete');\n",
              "    }\n",
              "    (() => {\n",
              "      let quickchartButtonEl =\n",
              "        document.querySelector('#df-cf03535c-cb03-4437-ace3-363d0585e7a6 button');\n",
              "      quickchartButtonEl.style.display =\n",
              "        google.colab.kernel.accessAllowed ? 'block' : 'none';\n",
              "    })();\n",
              "  </script>\n",
              "</div>\n",
              "\n",
              "    </div>\n",
              "  </div>\n"
            ],
            "application/vnd.google.colaboratory.intrinsic+json": {
              "type": "dataframe",
              "variable_name": "data",
              "summary": "{\n  \"name\": \"data\",\n  \"rows\": 517,\n  \"fields\": [\n    {\n      \"column\": \"FFMC\",\n      \"properties\": {\n        \"dtype\": \"number\",\n        \"std\": 5.520110848851269,\n        \"min\": 18.7,\n        \"max\": 96.2,\n        \"num_unique_values\": 106,\n        \"samples\": [\n          95.9,\n          90.9,\n          92.3\n        ],\n        \"semantic_type\": \"\",\n        \"description\": \"\"\n      }\n    },\n    {\n      \"column\": \"DMC\",\n      \"properties\": {\n        \"dtype\": \"number\",\n        \"std\": 64.04648224925425,\n        \"min\": 1.1,\n        \"max\": 291.3,\n        \"num_unique_values\": 215,\n        \"samples\": [\n          121.7,\n          166.9,\n          130.1\n        ],\n        \"semantic_type\": \"\",\n        \"description\": \"\"\n      }\n    },\n    {\n      \"column\": \"DC\",\n      \"properties\": {\n        \"dtype\": \"number\",\n        \"std\": 248.06619170584364,\n        \"min\": 7.9,\n        \"max\": 860.6,\n        \"num_unique_values\": 219,\n        \"samples\": [\n          458.8,\n          700.7,\n          665.6\n        ],\n        \"semantic_type\": \"\",\n        \"description\": \"\"\n      }\n    },\n    {\n      \"column\": \"ISI\",\n      \"properties\": {\n        \"dtype\": \"number\",\n        \"std\": 4.559477175216039,\n        \"min\": 0.0,\n        \"max\": 56.1,\n        \"num_unique_values\": 119,\n        \"samples\": [\n          7.9,\n          18.0,\n          14.7\n        ],\n        \"semantic_type\": \"\",\n        \"description\": \"\"\n      }\n    },\n    {\n      \"column\": \"temp\",\n      \"properties\": {\n        \"dtype\": \"number\",\n        \"std\": 5.806625349573505,\n        \"min\": 2.2,\n        \"max\": 33.3,\n        \"num_unique_values\": 192,\n        \"samples\": [\n          23.0,\n          4.8,\n          11.6\n        ],\n        \"semantic_type\": \"\",\n        \"description\": \"\"\n      }\n    },\n    {\n      \"column\": \"RH\",\n      \"properties\": {\n        \"dtype\": \"number\",\n        \"std\": 16,\n        \"min\": 15,\n        \"max\": 100,\n        \"num_unique_values\": 75,\n        \"samples\": [\n          29,\n          61,\n          72\n        ],\n        \"semantic_type\": \"\",\n        \"description\": \"\"\n      }\n    },\n    {\n      \"column\": \"wind\",\n      \"properties\": {\n        \"dtype\": \"number\",\n        \"std\": 1.7916526009464617,\n        \"min\": 0.4,\n        \"max\": 9.4,\n        \"num_unique_values\": 21,\n        \"samples\": [\n          6.7,\n          8.5,\n          6.3\n        ],\n        \"semantic_type\": \"\",\n        \"description\": \"\"\n      }\n    },\n    {\n      \"column\": \"area\",\n      \"properties\": {\n        \"dtype\": \"number\",\n        \"std\": 63.65581846794089,\n        \"min\": 0.0,\n        \"max\": 1090.84,\n        \"num_unique_values\": 251,\n        \"samples\": [\n          7.48,\n          0.71,\n          1.72\n        ],\n        \"semantic_type\": \"\",\n        \"description\": \"\"\n      }\n    },\n    {\n      \"column\": \"fire season\",\n      \"properties\": {\n        \"dtype\": \"number\",\n        \"std\": 0,\n        \"min\": 0,\n        \"max\": 1,\n        \"num_unique_values\": 2,\n        \"samples\": [\n          1,\n          0\n        ],\n        \"semantic_type\": \"\",\n        \"description\": \"\"\n      }\n    }\n  ]\n}"
            }
          },
          "metadata": {},
          "execution_count": 11
        }
      ]
    },
    {
      "cell_type": "code",
      "source": [
        "data['area'].describe()"
      ],
      "metadata": {
        "colab": {
          "base_uri": "https://localhost:8080/"
        },
        "id": "fRGfaiT8Az75",
        "outputId": "89d4149e-d03e-4793-f0b0-91af52aee51d"
      },
      "execution_count": null,
      "outputs": [
        {
          "output_type": "execute_result",
          "data": {
            "text/plain": [
              "count     517.000000\n",
              "mean       12.847292\n",
              "std        63.655818\n",
              "min         0.000000\n",
              "25%         0.000000\n",
              "50%         0.520000\n",
              "75%         6.570000\n",
              "max      1090.840000\n",
              "Name: area, dtype: float64"
            ]
          },
          "metadata": {},
          "execution_count": 12
        }
      ]
    },
    {
      "cell_type": "code",
      "source": [
        "# replace the continuous area column with a binary column based on whether area value is nonzero\n",
        "is_burned = []\n",
        "\n",
        "for index, row in data.iterrows():\n",
        "  is_burned.append(int(row['area'] != 0))\n",
        "\n",
        "data['area'] = is_burned\n",
        "data.rename(columns={'area': 'burned'}, inplace=True)"
      ],
      "metadata": {
        "id": "FpT00IrbVdPA"
      },
      "execution_count": null,
      "outputs": []
    },
    {
      "cell_type": "code",
      "source": [
        "data['burned'].value_counts()"
      ],
      "metadata": {
        "id": "Lo0v9zjJV6dD",
        "outputId": "94792f58-27a9-479f-aa48-c92313c39943",
        "colab": {
          "base_uri": "https://localhost:8080/"
        }
      },
      "execution_count": null,
      "outputs": [
        {
          "output_type": "execute_result",
          "data": {
            "text/plain": [
              "burned\n",
              "1    270\n",
              "0    247\n",
              "Name: count, dtype: int64"
            ]
          },
          "metadata": {},
          "execution_count": 14
        }
      ]
    },
    {
      "cell_type": "markdown",
      "source": [
        "We determined that the area column, which is the target variable, is mostly comprised of zeroes. Because of this, and in addition to our original goal of finding which areas are burned, we decided to make a new categorical target variable, displaying whether or not there is *any* burned area in the forest sector."
      ],
      "metadata": {
        "id": "iarlZ_OZcgt6"
      }
    },
    {
      "cell_type": "markdown",
      "source": [
        "#### Variable Correlation Analysis"
      ],
      "metadata": {
        "id": "4cCb9S9tUAFk"
      }
    },
    {
      "cell_type": "code",
      "source": [
        "import seaborn as sns\n",
        "\n",
        "# Compute the correlation matrix\n",
        "corr_matrix = np.corrcoef(data, rowvar=False)\n",
        "\n",
        "# Create a mask to hide the upper triangle and the diagonal\n",
        "mask = np.triu(np.ones_like(corr_matrix, dtype=bool), k=0)\n",
        "\n",
        "# Use Seaborn to plot the heatmap with the mask\n",
        "plt.figure(figsize=(10,5))\n",
        "sns.heatmap(corr_matrix, mask=mask, annot=True, fmt=\".2f\", cmap='coolwarm',\n",
        "            xticklabels=data.columns,\n",
        "            yticklabels=data.columns)\n",
        "plt.title(\"Correlation Heatmap with Half Diagonal\")\n",
        "plt.show()"
      ],
      "metadata": {
        "id": "ycT2Wbi0Quoy",
        "colab": {
          "base_uri": "https://localhost:8080/"
        },
        "outputId": "59e2ace3-4d71-43b5-eb43-2cd02db26ed4"
      },
      "execution_count": null,
      "outputs": [
        {
          "output_type": "display_data",
          "data": {
            "text/plain": [
              "<Figure size 1000x500 with 2 Axes>"
            ],
            "image/png": "[encoded data removed]"
          },
          "metadata": {}
        }
      ]
    },
    {
      "cell_type": "code",
      "source": [
        "data['temp'].corr(data['RH'])"
      ],
      "metadata": {
        "id": "EjcJ5FPVN3tc",
        "colab": {
          "base_uri": "https://localhost:8080/"
        },
        "outputId": "79c04e1e-8bd9-422d-fb1a-9928933b5ccf"
      },
      "execution_count": null,
      "outputs": [
        {
          "output_type": "execute_result",
          "data": {
            "text/plain": [
              "-0.5273903386376693"
            ]
          },
          "metadata": {},
          "execution_count": 16
        }
      ]
    },
    {
      "cell_type": "code",
      "source": [
        "data['FFMC'].corr(data['ISI'])"
      ],
      "metadata": {
        "id": "HA1USYQoN4M4",
        "colab": {
          "base_uri": "https://localhost:8080/"
        },
        "outputId": "daef0e64-5bff-4043-f24f-69c582cd39f0"
      },
      "execution_count": null,
      "outputs": [
        {
          "output_type": "execute_result",
          "data": {
            "text/plain": [
              "0.5318049310435652"
            ]
          },
          "metadata": {},
          "execution_count": 17
        }
      ]
    },
    {
      "cell_type": "code",
      "source": [
        "data['DMC'].corr(data['DC'])"
      ],
      "metadata": {
        "id": "oQD_3F8ON58D",
        "colab": {
          "base_uri": "https://localhost:8080/"
        },
        "outputId": "696e184b-ea36-44de-9ecd-35dae0c17188"
      },
      "execution_count": null,
      "outputs": [
        {
          "output_type": "execute_result",
          "data": {
            "text/plain": [
              "0.6821916119833167"
            ]
          },
          "metadata": {},
          "execution_count": 18
        }
      ]
    },
    {
      "cell_type": "code",
      "source": [
        "data['fire season'].corr(data['DC'])"
      ],
      "metadata": {
        "id": "A2XTvehNN8F9",
        "colab": {
          "base_uri": "https://localhost:8080/"
        },
        "outputId": "fe0e4e8f-50eb-46b0-ab3e-92cafce62c4c"
      },
      "execution_count": null,
      "outputs": [
        {
          "output_type": "execute_result",
          "data": {
            "text/plain": [
              "0.8320181110584011"
            ]
          },
          "metadata": {},
          "execution_count": 19
        }
      ]
    },
    {
      "cell_type": "markdown",
      "source": [
        "Looking at the correlation matrix, we noticed high correlations between the Fire Weather Index (FWI) metrics and the newly engineered fire season column. We determined that the FWI metrics are likely highly correlated with each other because combinations of the same environmental variables (soil/leaf litter dryness, wind speed, etc.) are used to calculate them. These conditions are also likely to happen in certain times of year, hence the correlation with the fire season column."
      ],
      "metadata": {
        "id": "DqQlLp6WOCjh"
      }
    },
    {
      "cell_type": "markdown",
      "source": [
        "####Outlier Removal"
      ],
      "metadata": {
        "id": "F-VX93iGcoMG"
      }
    },
    {
      "cell_type": "code",
      "source": [
        "data[data['ISI']>30]"
      ],
      "metadata": {
        "colab": {
          "base_uri": "https://localhost:8080/"
        },
        "id": "nm1jHMYRSJAD",
        "outputId": "a276eba5-e4fd-4a20-81e1-c800ac71e0d7"
      },
      "execution_count": null,
      "outputs": [
        {
          "output_type": "execute_result",
          "data": {
            "text/plain": [
              "    FFMC   DMC     DC   ISI  temp  RH  wind  burned  fire season\n",
              "22  94.3  96.3  200.0  56.1  21.0  44   4.5       0            0"
            ],
            "text/html": [
              "\n",
              "  <div id=\"df-f6911994-380a-40c3-b54a-f6b4db937143\" class=\"colab-df-container\">\n",
              "    <div>\n",
              "<style scoped>\n",
              "    .dataframe tbody tr th:only-of-type {\n",
              "        vertical-align: middle;\n",
              "    }\n",
              "\n",
              "    .dataframe tbody tr th {\n",
              "        vertical-align: top;\n",
              "    }\n",
              "\n",
              "    .dataframe thead th {\n",
              "        text-align: right;\n",
              "    }\n",
              "</style>\n",
              "<table border=\"1\" class=\"dataframe\">\n",
              "  <thead>\n",
              "    <tr style=\"text-align: right;\">\n",
              "      <th></th>\n",
              "      <th>FFMC</th>\n",
              "      <th>DMC</th>\n",
              "      <th>DC</th>\n",
              "      <th>ISI</th>\n",
              "      <th>temp</th>\n",
              "      <th>RH</th>\n",
              "      <th>wind</th>\n",
              "      <th>burned</th>\n",
              "      <th>fire season</th>\n",
              "    </tr>\n",
              "  </thead>\n",
              "  <tbody>\n",
              "    <tr>\n",
              "      <th>22</th>\n",
              "      <td>94.3</td>\n",
              "      <td>96.3</td>\n",
              "      <td>200.0</td>\n",
              "      <td>56.1</td>\n",
              "      <td>21.0</td>\n",
              "      <td>44</td>\n",
              "      <td>4.5</td>\n",
              "      <td>0</td>\n",
              "      <td>0</td>\n",
              "    </tr>\n",
              "  </tbody>\n",
              "</table>\n",
              "</div>\n",
              "    <div class=\"colab-df-buttons\">\n",
              "\n",
              "  <div class=\"colab-df-container\">\n",
              "    <button class=\"colab-df-convert\" onclick=\"convertToInteractive('df-f6911994-380a-40c3-b54a-f6b4db937143')\"\n",
              "            title=\"Convert this dataframe to an interactive table.\"\n",
              "            style=\"display:none;\">\n",
              "\n",
              "  <svg xmlns=\"http://www.w3.org/2000/svg\" height=\"24px\" viewBox=\"0 -960 960 960\">\n",
              "    <path d=\"M120-120v-720h720v720H120Zm60-500h600v-160H180v160Zm220 220h160v-160H400v160Zm0 220h160v-160H400v160ZM180-400h160v-160H180v160Zm440 0h160v-160H620v160ZM180-180h160v-160H180v160Zm440 0h160v-160H620v160Z\"/>\n",
              "  </svg>\n",
              "    </button>\n",
              "\n",
              "  <style>\n",
              "    .colab-df-container {\n",
              "      display:flex;\n",
              "      gap: 12px;\n",
              "    }\n",
              "\n",
              "    .colab-df-convert {\n",
              "      background-color: #E8F0FE;\n",
              "      border: none;\n",
              "      border-radius: 50%;\n",
              "      cursor: pointer;\n",
              "      display: none;\n",
              "      fill: #1967D2;\n",
              "      height: 32px;\n",
              "      padding: 0 0 0 0;\n",
              "      width: 32px;\n",
              "    }\n",
              "\n",
              "    .colab-df-convert:hover {\n",
              "      background-color: #E2EBFA;\n",
              "      box-shadow: 0px 1px 2px rgba(60, 64, 67, 0.3), 0px 1px 3px 1px rgba(60, 64, 67, 0.15);\n",
              "      fill: #174EA6;\n",
              "    }\n",
              "\n",
              "    .colab-df-buttons div {\n",
              "      margin-bottom: 4px;\n",
              "    }\n",
              "\n",
              "    [theme=dark] .colab-df-convert {\n",
              "      background-color: #3B4455;\n",
              "      fill: #D2E3FC;\n",
              "    }\n",
              "\n",
              "    [theme=dark] .colab-df-convert:hover {\n",
              "      background-color: #434B5C;\n",
              "      box-shadow: 0px 1px 3px 1px rgba(0, 0, 0, 0.15);\n",
              "      filter: drop-shadow(0px 1px 2px rgba(0, 0, 0, 0.3));\n",
              "      fill: #FFFFFF;\n",
              "    }\n",
              "  </style>\n",
              "\n",
              "    <script>\n",
              "      const buttonEl =\n",
              "        document.querySelector('#df-f6911994-380a-40c3-b54a-f6b4db937143 button.colab-df-convert');\n",
              "      buttonEl.style.display =\n",
              "        google.colab.kernel.accessAllowed ? 'block' : 'none';\n",
              "\n",
              "      async function convertToInteractive(key) {\n",
              "        const element = document.querySelector('#df-f6911994-380a-40c3-b54a-f6b4db937143');\n",
              "        const dataTable =\n",
              "          await google.colab.kernel.invokeFunction('convertToInteractive',\n",
              "                                                    [key], {});\n",
              "        if (!dataTable) return;\n",
              "\n",
              "        const docLinkHtml = 'Like what you see? Visit the ' +\n",
              "          '<a target=\"_blank\" href=https://colab.research.google.com/notebooks/data_table.ipynb>data table notebook</a>'\n",
              "          + ' to learn more about interactive tables.';\n",
              "        element.innerHTML = '';\n",
              "        dataTable['output_type'] = 'display_data';\n",
              "        await google.colab.output.renderOutput(dataTable, element);\n",
              "        const docLink = document.createElement('div');\n",
              "        docLink.innerHTML = docLinkHtml;\n",
              "        element.appendChild(docLink);\n",
              "      }\n",
              "    </script>\n",
              "  </div>\n",
              "\n",
              "\n",
              "    </div>\n",
              "  </div>\n"
            ],
            "application/vnd.google.colaboratory.intrinsic+json": {
              "type": "dataframe",
              "summary": "{\n  \"name\": \"data[data['ISI']>30]\",\n  \"rows\": 1,\n  \"fields\": [\n    {\n      \"column\": \"FFMC\",\n      \"properties\": {\n        \"dtype\": \"number\",\n        \"std\": null,\n        \"min\": 94.3,\n        \"max\": 94.3,\n        \"num_unique_values\": 1,\n        \"samples\": [\n          94.3\n        ],\n        \"semantic_type\": \"\",\n        \"description\": \"\"\n      }\n    },\n    {\n      \"column\": \"DMC\",\n      \"properties\": {\n        \"dtype\": \"number\",\n        \"std\": null,\n        \"min\": 96.3,\n        \"max\": 96.3,\n        \"num_unique_values\": 1,\n        \"samples\": [\n          96.3\n        ],\n        \"semantic_type\": \"\",\n        \"description\": \"\"\n      }\n    },\n    {\n      \"column\": \"DC\",\n      \"properties\": {\n        \"dtype\": \"number\",\n        \"std\": null,\n        \"min\": 200.0,\n        \"max\": 200.0,\n        \"num_unique_values\": 1,\n        \"samples\": [\n          200.0\n        ],\n        \"semantic_type\": \"\",\n        \"description\": \"\"\n      }\n    },\n    {\n      \"column\": \"ISI\",\n      \"properties\": {\n        \"dtype\": \"number\",\n        \"std\": null,\n        \"min\": 56.1,\n        \"max\": 56.1,\n        \"num_unique_values\": 1,\n        \"samples\": [\n          56.1\n        ],\n        \"semantic_type\": \"\",\n        \"description\": \"\"\n      }\n    },\n    {\n      \"column\": \"temp\",\n      \"properties\": {\n        \"dtype\": \"number\",\n        \"std\": null,\n        \"min\": 21.0,\n        \"max\": 21.0,\n        \"num_unique_values\": 1,\n        \"samples\": [\n          21.0\n        ],\n        \"semantic_type\": \"\",\n        \"description\": \"\"\n      }\n    },\n    {\n      \"column\": \"RH\",\n      \"properties\": {\n        \"dtype\": \"number\",\n        \"std\": null,\n        \"min\": 44,\n        \"max\": 44,\n        \"num_unique_values\": 1,\n        \"samples\": [\n          44\n        ],\n        \"semantic_type\": \"\",\n        \"description\": \"\"\n      }\n    },\n    {\n      \"column\": \"wind\",\n      \"properties\": {\n        \"dtype\": \"number\",\n        \"std\": null,\n        \"min\": 4.5,\n        \"max\": 4.5,\n        \"num_unique_values\": 1,\n        \"samples\": [\n          4.5\n        ],\n        \"semantic_type\": \"\",\n        \"description\": \"\"\n      }\n    },\n    {\n      \"column\": \"burned\",\n      \"properties\": {\n        \"dtype\": \"number\",\n        \"std\": null,\n        \"min\": 0,\n        \"max\": 0,\n        \"num_unique_values\": 1,\n        \"samples\": [\n          0\n        ],\n        \"semantic_type\": \"\",\n        \"description\": \"\"\n      }\n    },\n    {\n      \"column\": \"fire season\",\n      \"properties\": {\n        \"dtype\": \"number\",\n        \"std\": null,\n        \"min\": 0,\n        \"max\": 0,\n        \"num_unique_values\": 1,\n        \"samples\": [\n          0\n        ],\n        \"semantic_type\": \"\",\n        \"description\": \"\"\n      }\n    }\n  ]\n}"
            }
          },
          "metadata": {},
          "execution_count": 20
        }
      ]
    },
    {
      "cell_type": "code",
      "source": [
        "data = data[data['ISI']<30]"
      ],
      "metadata": {
        "id": "RdJz1gVrSJ3i"
      },
      "execution_count": null,
      "outputs": []
    },
    {
      "cell_type": "markdown",
      "source": [
        "The one extreme outlier in the ISI column has been removed via row deletion. Nothing else about the row in question was anomalous, leaving the outlier completely unexplained, so we decided to remove the row entirely."
      ],
      "metadata": {
        "id": "LNQ13wrlSe8U"
      }
    },
    {
      "cell_type": "code",
      "source": [
        "data.head()"
      ],
      "metadata": {
        "id": "NhKN_5DEV92U",
        "outputId": "3cf27443-f66c-48d0-85bc-fc004ceb77d4",
        "colab": {
          "base_uri": "https://localhost:8080/"
        }
      },
      "execution_count": null,
      "outputs": [
        {
          "output_type": "execute_result",
          "data": {
            "text/plain": [
              "   FFMC   DMC     DC  ISI  temp  RH  wind  burned  fire season\n",
              "0  86.2  26.2   94.3  5.1   8.2  51   6.7       0            0\n",
              "1  90.6  35.4  669.1  6.7  18.0  33   0.9       0            0\n",
              "2  90.6  43.7  686.9  6.7  14.6  33   1.3       0            0\n",
              "3  91.7  33.3   77.5  9.0   8.3  97   4.0       0            0\n",
              "4  89.3  51.3  102.2  9.6  11.4  99   1.8       0            0"
            ],
            "text/html": [
              "\n",
              "  <div id=\"df-7d9741b3-e4b4-4699-81cc-dcad1f87621d\" class=\"colab-df-container\">\n",
              "    <div>\n",
              "<style scoped>\n",
              "    .dataframe tbody tr th:only-of-type {\n",
              "        vertical-align: middle;\n",
              "    }\n",
              "\n",
              "    .dataframe tbody tr th {\n",
              "        vertical-align: top;\n",
              "    }\n",
              "\n",
              "    .dataframe thead th {\n",
              "        text-align: right;\n",
              "    }\n",
              "</style>\n",
              "<table border=\"1\" class=\"dataframe\">\n",
              "  <thead>\n",
              "    <tr style=\"text-align: right;\">\n",
              "      <th></th>\n",
              "      <th>FFMC</th>\n",
              "      <th>DMC</th>\n",
              "      <th>DC</th>\n",
              "      <th>ISI</th>\n",
              "      <th>temp</th>\n",
              "      <th>RH</th>\n",
              "      <th>wind</th>\n",
              "      <th>burned</th>\n",
              "      <th>fire season</th>\n",
              "    </tr>\n",
              "  </thead>\n",
              "  <tbody>\n",
              "    <tr>\n",
              "      <th>0</th>\n",
              "      <td>86.2</td>\n",
              "      <td>26.2</td>\n",
              "      <td>94.3</td>\n",
              "      <td>5.1</td>\n",
              "      <td>8.2</td>\n",
              "      <td>51</td>\n",
              "      <td>6.7</td>\n",
              "      <td>0</td>\n",
              "      <td>0</td>\n",
              "    </tr>\n",
              "    <tr>\n",
              "      <th>1</th>\n",
              "      <td>90.6</td>\n",
              "      <td>35.4</td>\n",
              "      <td>669.1</td>\n",
              "      <td>6.7</td>\n",
              "      <td>18.0</td>\n",
              "      <td>33</td>\n",
              "      <td>0.9</td>\n",
              "      <td>0</td>\n",
              "      <td>0</td>\n",
              "    </tr>\n",
              "    <tr>\n",
              "      <th>2</th>\n",
              "      <td>90.6</td>\n",
              "      <td>43.7</td>\n",
              "      <td>686.9</td>\n",
              "      <td>6.7</td>\n",
              "      <td>14.6</td>\n",
              "      <td>33</td>\n",
              "      <td>1.3</td>\n",
              "      <td>0</td>\n",
              "      <td>0</td>\n",
              "    </tr>\n",
              "    <tr>\n",
              "      <th>3</th>\n",
              "      <td>91.7</td>\n",
              "      <td>33.3</td>\n",
              "      <td>77.5</td>\n",
              "      <td>9.0</td>\n",
              "      <td>8.3</td>\n",
              "      <td>97</td>\n",
              "      <td>4.0</td>\n",
              "      <td>0</td>\n",
              "      <td>0</td>\n",
              "    </tr>\n",
              "    <tr>\n",
              "      <th>4</th>\n",
              "      <td>89.3</td>\n",
              "      <td>51.3</td>\n",
              "      <td>102.2</td>\n",
              "      <td>9.6</td>\n",
              "      <td>11.4</td>\n",
              "      <td>99</td>\n",
              "      <td>1.8</td>\n",
              "      <td>0</td>\n",
              "      <td>0</td>\n",
              "    </tr>\n",
              "  </tbody>\n",
              "</table>\n",
              "</div>\n",
              "    <div class=\"colab-df-buttons\">\n",
              "\n",
              "  <div class=\"colab-df-container\">\n",
              "    <button class=\"colab-df-convert\" onclick=\"convertToInteractive('df-7d9741b3-e4b4-4699-81cc-dcad1f87621d')\"\n",
              "            title=\"Convert this dataframe to an interactive table.\"\n",
              "            style=\"display:none;\">\n",
              "\n",
              "  <svg xmlns=\"http://www.w3.org/2000/svg\" height=\"24px\" viewBox=\"0 -960 960 960\">\n",
              "    <path d=\"M120-120v-720h720v720H120Zm60-500h600v-160H180v160Zm220 220h160v-160H400v160Zm0 220h160v-160H400v160ZM180-400h160v-160H180v160Zm440 0h160v-160H620v160ZM180-180h160v-160H180v160Zm440 0h160v-160H620v160Z\"/>\n",
              "  </svg>\n",
              "    </button>\n",
              "\n",
              "  <style>\n",
              "    .colab-df-container {\n",
              "      display:flex;\n",
              "      gap: 12px;\n",
              "    }\n",
              "\n",
              "    .colab-df-convert {\n",
              "      background-color: #E8F0FE;\n",
              "      border: none;\n",
              "      border-radius: 50%;\n",
              "      cursor: pointer;\n",
              "      display: none;\n",
              "      fill: #1967D2;\n",
              "      height: 32px;\n",
              "      padding: 0 0 0 0;\n",
              "      width: 32px;\n",
              "    }\n",
              "\n",
              "    .colab-df-convert:hover {\n",
              "      background-color: #E2EBFA;\n",
              "      box-shadow: 0px 1px 2px rgba(60, 64, 67, 0.3), 0px 1px 3px 1px rgba(60, 64, 67, 0.15);\n",
              "      fill: #174EA6;\n",
              "    }\n",
              "\n",
              "    .colab-df-buttons div {\n",
              "      margin-bottom: 4px;\n",
              "    }\n",
              "\n",
              "    [theme=dark] .colab-df-convert {\n",
              "      background-color: #3B4455;\n",
              "      fill: #D2E3FC;\n",
              "    }\n",
              "\n",
              "    [theme=dark] .colab-df-convert:hover {\n",
              "      background-color: #434B5C;\n",
              "      box-shadow: 0px 1px 3px 1px rgba(0, 0, 0, 0.15);\n",
              "      filter: drop-shadow(0px 1px 2px rgba(0, 0, 0, 0.3));\n",
              "      fill: #FFFFFF;\n",
              "    }\n",
              "  </style>\n",
              "\n",
              "    <script>\n",
              "      const buttonEl =\n",
              "        document.querySelector('#df-7d9741b3-e4b4-4699-81cc-dcad1f87621d button.colab-df-convert');\n",
              "      buttonEl.style.display =\n",
              "        google.colab.kernel.accessAllowed ? 'block' : 'none';\n",
              "\n",
              "      async function convertToInteractive(key) {\n",
              "        const element = document.querySelector('#df-7d9741b3-e4b4-4699-81cc-dcad1f87621d');\n",
              "        const dataTable =\n",
              "          await google.colab.kernel.invokeFunction('convertToInteractive',\n",
              "                                                    [key], {});\n",
              "        if (!dataTable) return;\n",
              "\n",
              "        const docLinkHtml = 'Like what you see? Visit the ' +\n",
              "          '<a target=\"_blank\" href=https://colab.research.google.com/notebooks/data_table.ipynb>data table notebook</a>'\n",
              "          + ' to learn more about interactive tables.';\n",
              "        element.innerHTML = '';\n",
              "        dataTable['output_type'] = 'display_data';\n",
              "        await google.colab.output.renderOutput(dataTable, element);\n",
              "        const docLink = document.createElement('div');\n",
              "        docLink.innerHTML = docLinkHtml;\n",
              "        element.appendChild(docLink);\n",
              "      }\n",
              "    </script>\n",
              "  </div>\n",
              "\n",
              "\n",
              "<div id=\"df-24ae5cbe-e503-4cff-9b51-8fc00cef6219\">\n",
              "  <button class=\"colab-df-quickchart\" onclick=\"quickchart('df-24ae5cbe-e503-4cff-9b51-8fc00cef6219')\"\n",
              "            title=\"Suggest charts\"\n",
              "            style=\"display:none;\">\n",
              "\n",
              "<svg xmlns=\"http://www.w3.org/2000/svg\" height=\"24px\"viewBox=\"0 0 24 24\"\n",
              "     width=\"24px\">\n",
              "    <g>\n",
              "        <path d=\"M19 3H5c-1.1 0-2 .9-2 2v14c0 1.1.9 2 2 2h14c1.1 0 2-.9 2-2V5c0-1.1-.9-2-2-2zM9 17H7v-7h2v7zm4 0h-2V7h2v10zm4 0h-2v-4h2v4z\"/>\n",
              "    </g>\n",
              "</svg>\n",
              "  </button>\n",
              "\n",
              "<style>\n",
              "  .colab-df-quickchart {\n",
              "      --bg-color: #E8F0FE;\n",
              "      --fill-color: #1967D2;\n",
              "      --hover-bg-color: #E2EBFA;\n",
              "      --hover-fill-color: #174EA6;\n",
              "      --disabled-fill-color: #AAA;\n",
              "      --disabled-bg-color: #DDD;\n",
              "  }\n",
              "\n",
              "  [theme=dark] .colab-df-quickchart {\n",
              "      --bg-color: #3B4455;\n",
              "      --fill-color: #D2E3FC;\n",
              "      --hover-bg-color: #434B5C;\n",
              "      --hover-fill-color: #FFFFFF;\n",
              "      --disabled-bg-color: #3B4455;\n",
              "      --disabled-fill-color: #666;\n",
              "  }\n",
              "\n",
              "  .colab-df-quickchart {\n",
              "    background-color: var(--bg-color);\n",
              "    border: none;\n",
              "    border-radius: 50%;\n",
              "    cursor: pointer;\n",
              "    display: none;\n",
              "    fill: var(--fill-color);\n",
              "    height: 32px;\n",
              "    padding: 0;\n",
              "    width: 32px;\n",
              "  }\n",
              "\n",
              "  .colab-df-quickchart:hover {\n",
              "    background-color: var(--hover-bg-color);\n",
              "    box-shadow: 0 1px 2px rgba(60, 64, 67, 0.3), 0 1px 3px 1px rgba(60, 64, 67, 0.15);\n",
              "    fill: var(--button-hover-fill-color);\n",
              "  }\n",
              "\n",
              "  .colab-df-quickchart-complete:disabled,\n",
              "  .colab-df-quickchart-complete:disabled:hover {\n",
              "    background-color: var(--disabled-bg-color);\n",
              "    fill: var(--disabled-fill-color);\n",
              "    box-shadow: none;\n",
              "  }\n",
              "\n",
              "  .colab-df-spinner {\n",
              "    border: 2px solid var(--fill-color);\n",
              "    border-color: transparent;\n",
              "    border-bottom-color: var(--fill-color);\n",
              "    animation:\n",
              "      spin 1s steps(1) infinite;\n",
              "  }\n",
              "\n",
              "  @keyframes spin {\n",
              "    0% {\n",
              "      border-color: transparent;\n",
              "      border-bottom-color: var(--fill-color);\n",
              "      border-left-color: var(--fill-color);\n",
              "    }\n",
              "    20% {\n",
              "      border-color: transparent;\n",
              "      border-left-color: var(--fill-color);\n",
              "      border-top-color: var(--fill-color);\n",
              "    }\n",
              "    30% {\n",
              "      border-color: transparent;\n",
              "      border-left-color: var(--fill-color);\n",
              "      border-top-color: var(--fill-color);\n",
              "      border-right-color: var(--fill-color);\n",
              "    }\n",
              "    40% {\n",
              "      border-color: transparent;\n",
              "      border-right-color: var(--fill-color);\n",
              "      border-top-color: var(--fill-color);\n",
              "    }\n",
              "    60% {\n",
              "      border-color: transparent;\n",
              "      border-right-color: var(--fill-color);\n",
              "    }\n",
              "    80% {\n",
              "      border-color: transparent;\n",
              "      border-right-color: var(--fill-color);\n",
              "      border-bottom-color: var(--fill-color);\n",
              "    }\n",
              "    90% {\n",
              "      border-color: transparent;\n",
              "      border-bottom-color: var(--fill-color);\n",
              "    }\n",
              "  }\n",
              "</style>\n",
              "\n",
              "  <script>\n",
              "    async function quickchart(key) {\n",
              "      const quickchartButtonEl =\n",
              "        document.querySelector('#' + key + ' button');\n",
              "      quickchartButtonEl.disabled = true;  // To prevent multiple clicks.\n",
              "      quickchartButtonEl.classList.add('colab-df-spinner');\n",
              "      try {\n",
              "        const charts = await google.colab.kernel.invokeFunction(\n",
              "            'suggestCharts', [key], {});\n",
              "      } catch (error) {\n",
              "        console.error('Error during call to suggestCharts:', error);\n",
              "      }\n",
              "      quickchartButtonEl.classList.remove('colab-df-spinner');\n",
              "      quickchartButtonEl.classList.add('colab-df-quickchart-complete');\n",
              "    }\n",
              "    (() => {\n",
              "      let quickchartButtonEl =\n",
              "        document.querySelector('#df-24ae5cbe-e503-4cff-9b51-8fc00cef6219 button');\n",
              "      quickchartButtonEl.style.display =\n",
              "        google.colab.kernel.accessAllowed ? 'block' : 'none';\n",
              "    })();\n",
              "  </script>\n",
              "</div>\n",
              "\n",
              "    </div>\n",
              "  </div>\n"
            ],
            "application/vnd.google.colaboratory.intrinsic+json": {
              "type": "dataframe",
              "variable_name": "data",
              "summary": "{\n  \"name\": \"data\",\n  \"rows\": 516,\n  \"fields\": [\n    {\n      \"column\": \"FFMC\",\n      \"properties\": {\n        \"dtype\": \"number\",\n        \"std\": 5.5231148205237774,\n        \"min\": 18.7,\n        \"max\": 96.2,\n        \"num_unique_values\": 106,\n        \"samples\": [\n          95.9,\n          90.9,\n          92.3\n        ],\n        \"semantic_type\": \"\",\n        \"description\": \"\"\n      }\n    },\n    {\n      \"column\": \"DMC\",\n      \"properties\": {\n        \"dtype\": \"number\",\n        \"std\": 64.1054109135819,\n        \"min\": 1.1,\n        \"max\": 291.3,\n        \"num_unique_values\": 214,\n        \"samples\": [\n          88.0,\n          61.1,\n          99.9\n        ],\n        \"semantic_type\": \"\",\n        \"description\": \"\"\n      }\n    },\n    {\n      \"column\": \"DC\",\n      \"properties\": {\n        \"dtype\": \"number\",\n        \"std\": 247.83219430049436,\n        \"min\": 7.9,\n        \"max\": 860.6,\n        \"num_unique_values\": 218,\n        \"samples\": [\n          573.0,\n          665.6,\n          807.1\n        ],\n        \"semantic_type\": \"\",\n        \"description\": \"\"\n      }\n    },\n    {\n      \"column\": \"ISI\",\n      \"properties\": {\n        \"dtype\": \"number\",\n        \"std\": 4.064139242082158,\n        \"min\": 0.0,\n        \"max\": 22.7,\n        \"num_unique_values\": 118,\n        \"samples\": [\n          5.5,\n          7.6,\n          14.7\n        ],\n        \"semantic_type\": \"\",\n        \"description\": \"\"\n      }\n    },\n    {\n      \"column\": \"temp\",\n      \"properties\": {\n        \"dtype\": \"number\",\n        \"std\": 5.811514365230465,\n        \"min\": 2.2,\n        \"max\": 33.3,\n        \"num_unique_values\": 192,\n        \"samples\": [\n          11.8,\n          4.8,\n          19.8\n        ],\n        \"semantic_type\": \"\",\n        \"description\": \"\"\n      }\n    },\n    {\n      \"column\": \"RH\",\n      \"properties\": {\n        \"dtype\": \"number\",\n        \"std\": 16,\n        \"min\": 15,\n        \"max\": 100,\n        \"num_unique_values\": 75,\n        \"samples\": [\n          29,\n          61,\n          72\n        ],\n        \"semantic_type\": \"\",\n        \"description\": \"\"\n      }\n    },\n    {\n      \"column\": \"wind\",\n      \"properties\": {\n        \"dtype\": \"number\",\n        \"std\": 1.7932649979160382,\n        \"min\": 0.4,\n        \"max\": 9.4,\n        \"num_unique_values\": 21,\n        \"samples\": [\n          6.7,\n          8.5,\n          6.3\n        ],\n        \"semantic_type\": \"\",\n        \"description\": \"\"\n      }\n    },\n    {\n      \"column\": \"burned\",\n      \"properties\": {\n        \"dtype\": \"number\",\n        \"std\": 0,\n        \"min\": 0,\n        \"max\": 1,\n        \"num_unique_values\": 2,\n        \"samples\": [\n          1,\n          0\n        ],\n        \"semantic_type\": \"\",\n        \"description\": \"\"\n      }\n    },\n    {\n      \"column\": \"fire season\",\n      \"properties\": {\n        \"dtype\": \"number\",\n        \"std\": 0,\n        \"min\": 0,\n        \"max\": 1,\n        \"num_unique_values\": 2,\n        \"samples\": [\n          1,\n          0\n        ],\n        \"semantic_type\": \"\",\n        \"description\": \"\"\n      }\n    }\n  ]\n}"
            }
          },
          "metadata": {},
          "execution_count": 22
        }
      ]
    },
    {
      "cell_type": "markdown",
      "source": [
        "#### Normalization and Min-Max Scaling"
      ],
      "metadata": {
        "id": "0OAHzQ7vULX9"
      }
    },
    {
      "cell_type": "code",
      "source": [
        "plt.hist(data['RH'])\n",
        "plt.title('Relative Humidity (no transformation)')\n",
        "plt.show()"
      ],
      "metadata": {
        "id": "pbZzhQ7uc1HS",
        "colab": {
          "base_uri": "https://localhost:8080/"
        },
        "outputId": "df052dca-c552-45af-a793-de144c42672c"
      },
      "execution_count": null,
      "outputs": [
        {
          "output_type": "display_data",
          "data": {
            "text/plain": [
              "<Figure size 640x480 with 1 Axes>"
            ],
            "image/png": "[encoded data removed]"
          },
          "metadata": {}
        }
      ]
    },
    {
      "cell_type": "markdown",
      "source": [
        "As we discovered in our initial EDA, the features in our dataset are not very normally distributed. For example, the RH (relative humidity) column is clearly right skewed."
      ],
      "metadata": {
        "id": "bKeHjC4Lc--g"
      }
    },
    {
      "cell_type": "code",
      "source": [
        "from scipy.stats import boxcox\n",
        "\n",
        "data['RH'], _ = boxcox(data['RH'])"
      ],
      "metadata": {
        "id": "kLjvEH8gc2Ld"
      },
      "execution_count": null,
      "outputs": []
    },
    {
      "cell_type": "code",
      "source": [
        "plt.hist(data['RH'])\n",
        "plt.title('Relative Humidity (Box-Cox Transformation)')\n",
        "plt.show()"
      ],
      "metadata": {
        "id": "rnjDKBTkc4ty",
        "colab": {
          "base_uri": "https://localhost:8080/"
        },
        "outputId": "5c72ac90-b321-487f-accb-f2ac3721c0fb"
      },
      "execution_count": null,
      "outputs": [
        {
          "output_type": "display_data",
          "data": {
            "text/plain": [
              "<Figure size 640x480 with 1 Axes>"
            ],
            "image/png": "[encoded data removed]"
          },
          "metadata": {}
        }
      ]
    },
    {
      "cell_type": "code",
      "source": [
        "# transform the remaining columns with continuous values\n",
        "from scipy.stats import boxcox\n",
        "from scipy.stats import yeojohnson\n",
        "\n",
        "data['FFMC'], _ = boxcox(data['FFMC'])\n",
        "data['DMC'], _ = boxcox(data['DMC'])\n",
        "data['DC'], _ = boxcox(data['DC'])\n",
        "data['ISI'], _ = yeojohnson(data['ISI'])\n",
        "data['temp'], _ = boxcox(data['temp'])\n",
        "#data['RH'], _ = boxcox(data['RH'])\n",
        "data['wind'], _ = boxcox(data['wind'])"
      ],
      "metadata": {
        "id": "qjfYuBjwvHEm"
      },
      "execution_count": null,
      "outputs": []
    },
    {
      "cell_type": "code",
      "source": [
        "# min max scale all columns with continuous values\n",
        "from sklearn.preprocessing import MinMaxScaler\n",
        "\n",
        "scaler = MinMaxScaler()\n",
        "\n",
        "data['FFMC'] = scaler.fit_transform(data[['FFMC']])\n",
        "data['DMC'] = scaler.fit_transform(data[['DMC']])\n",
        "data['DC'] = scaler.fit_transform(data[['DC']])\n",
        "data['ISI'] = scaler.fit_transform(data[['ISI']])\n",
        "data['temp'] = scaler.fit_transform(data[['temp']])\n",
        "data['RH'] = scaler.fit_transform(data[['RH']])\n",
        "data['wind'] = scaler.fit_transform(data[['wind']])"
      ],
      "metadata": {
        "id": "E-yf-ukETZmJ"
      },
      "execution_count": null,
      "outputs": []
    },
    {
      "cell_type": "markdown",
      "source": [
        "Through our analysis, we discovered that none of the variables are adequately normally distributed (some more so than others). In order to ensure that all of our columns are relatively normally distributed, we utilized Box-Cox and Yeo Johnson transformations. It has a very clear effect, even on a very right skewed column (see graph above). We also scaled the data using min max scaling so that every variable will be considered equally by the model."
      ],
      "metadata": {
        "id": "HDd7e1V2H_4X"
      }
    },
    {
      "cell_type": "code",
      "source": [
        "data.describe()"
      ],
      "metadata": {
        "colab": {
          "base_uri": "https://localhost:8080/"
        },
        "id": "tXZNfq1KVpLF",
        "outputId": "e0b03a24-c826-471f-ff91-13e2649fdb83"
      },
      "execution_count": null,
      "outputs": [
        {
          "output_type": "execute_result",
          "data": {
            "text/plain": [
              "             FFMC         DMC          DC         ISI        temp          RH  \\\n",
              "count  516.000000  516.000000  516.000000  516.000000  516.000000  516.000000   \n",
              "mean     0.533088    0.502195    0.561064    0.513020    0.479331    0.542736   \n",
              "std      0.194306    0.214703    0.291462    0.172419    0.191710    0.190100   \n",
              "min      0.000000    0.000000    0.000000    0.000000    0.000000    0.000000   \n",
              "25%      0.441692    0.374726    0.378169    0.419098    0.359296    0.418832   \n",
              "50%      0.537022    0.519134    0.687002    0.505706    0.484833    0.543833   \n",
              "75%      0.642169    0.623491    0.762752    0.600905    0.606482    0.672006   \n",
              "max      1.000000    1.000000    1.000000    1.000000    1.000000    1.000000   \n",
              "\n",
              "             wind      burned  fire season  \n",
              "count  516.000000  516.000000   516.000000  \n",
              "mean     0.547042    0.523256     0.751938  \n",
              "std      0.186101    0.499944     0.432307  \n",
              "min      0.000000    0.000000     0.000000  \n",
              "25%      0.421036    0.000000     1.000000  \n",
              "50%      0.567348    1.000000     1.000000  \n",
              "75%      0.654525    1.000000     1.000000  \n",
              "max      1.000000    1.000000     1.000000  "
            ],
            "text/html": [
              "\n",
              "  <div id=\"df-032da3af-f53f-4a0e-8dec-c7e2e51dda38\" class=\"colab-df-container\">\n",
              "    <div>\n",
              "<style scoped>\n",
              "    .dataframe tbody tr th:only-of-type {\n",
              "        vertical-align: middle;\n",
              "    }\n",
              "\n",
              "    .dataframe tbody tr th {\n",
              "        vertical-align: top;\n",
              "    }\n",
              "\n",
              "    .dataframe thead th {\n",
              "        text-align: right;\n",
              "    }\n",
              "</style>\n",
              "<table border=\"1\" class=\"dataframe\">\n",
              "  <thead>\n",
              "    <tr style=\"text-align: right;\">\n",
              "      <th></th>\n",
              "      <th>FFMC</th>\n",
              "      <th>DMC</th>\n",
              "      <th>DC</th>\n",
              "      <th>ISI</th>\n",
              "      <th>temp</th>\n",
              "      <th>RH</th>\n",
              "      <th>wind</th>\n",
              "      <th>burned</th>\n",
              "      <th>fire season</th>\n",
              "    </tr>\n",
              "  </thead>\n",
              "  <tbody>\n",
              "    <tr>\n",
              "      <th>count</th>\n",
              "      <td>516.000000</td>\n",
              "      <td>516.000000</td>\n",
              "      <td>516.000000</td>\n",
              "      <td>516.000000</td>\n",
              "      <td>516.000000</td>\n",
              "      <td>516.000000</td>\n",
              "      <td>516.000000</td>\n",
              "      <td>516.000000</td>\n",
              "      <td>516.000000</td>\n",
              "    </tr>\n",
              "    <tr>\n",
              "      <th>mean</th>\n",
              "      <td>0.533088</td>\n",
              "      <td>0.502195</td>\n",
              "      <td>0.561064</td>\n",
              "      <td>0.513020</td>\n",
              "      <td>0.479331</td>\n",
              "      <td>0.542736</td>\n",
              "      <td>0.547042</td>\n",
              "      <td>0.523256</td>\n",
              "      <td>0.751938</td>\n",
              "    </tr>\n",
              "    <tr>\n",
              "      <th>std</th>\n",
              "      <td>0.194306</td>\n",
              "      <td>0.214703</td>\n",
              "      <td>0.291462</td>\n",
              "      <td>0.172419</td>\n",
              "      <td>0.191710</td>\n",
              "      <td>0.190100</td>\n",
              "      <td>0.186101</td>\n",
              "      <td>0.499944</td>\n",
              "      <td>0.432307</td>\n",
              "    </tr>\n",
              "    <tr>\n",
              "      <th>min</th>\n",
              "      <td>0.000000</td>\n",
              "      <td>0.000000</td>\n",
              "      <td>0.000000</td>\n",
              "      <td>0.000000</td>\n",
              "      <td>0.000000</td>\n",
              "      <td>0.000000</td>\n",
              "      <td>0.000000</td>\n",
              "      <td>0.000000</td>\n",
              "      <td>0.000000</td>\n",
              "    </tr>\n",
              "    <tr>\n",
              "      <th>25%</th>\n",
              "      <td>0.441692</td>\n",
              "      <td>0.374726</td>\n",
              "      <td>0.378169</td>\n",
              "      <td>0.419098</td>\n",
              "      <td>0.359296</td>\n",
              "      <td>0.418832</td>\n",
              "      <td>0.421036</td>\n",
              "      <td>0.000000</td>\n",
              "      <td>1.000000</td>\n",
              "    </tr>\n",
              "    <tr>\n",
              "      <th>50%</th>\n",
              "      <td>0.537022</td>\n",
              "      <td>0.519134</td>\n",
              "      <td>0.687002</td>\n",
              "      <td>0.505706</td>\n",
              "      <td>0.484833</td>\n",
              "      <td>0.543833</td>\n",
              "      <td>0.567348</td>\n",
              "      <td>1.000000</td>\n",
              "      <td>1.000000</td>\n",
              "    </tr>\n",
              "    <tr>\n",
              "      <th>75%</th>\n",
              "      <td>0.642169</td>\n",
              "      <td>0.623491</td>\n",
              "      <td>0.762752</td>\n",
              "      <td>0.600905</td>\n",
              "      <td>0.606482</td>\n",
              "      <td>0.672006</td>\n",
              "      <td>0.654525</td>\n",
              "      <td>1.000000</td>\n",
              "      <td>1.000000</td>\n",
              "    </tr>\n",
              "    <tr>\n",
              "      <th>max</th>\n",
              "      <td>1.000000</td>\n",
              "      <td>1.000000</td>\n",
              "      <td>1.000000</td>\n",
              "      <td>1.000000</td>\n",
              "      <td>1.000000</td>\n",
              "      <td>1.000000</td>\n",
              "      <td>1.000000</td>\n",
              "      <td>1.000000</td>\n",
              "      <td>1.000000</td>\n",
              "    </tr>\n",
              "  </tbody>\n",
              "</table>\n",
              "</div>\n",
              "    <div class=\"colab-df-buttons\">\n",
              "\n",
              "  <div class=\"colab-df-container\">\n",
              "    <button class=\"colab-df-convert\" onclick=\"convertToInteractive('df-032da3af-f53f-4a0e-8dec-c7e2e51dda38')\"\n",
              "            title=\"Convert this dataframe to an interactive table.\"\n",
              "            style=\"display:none;\">\n",
              "\n",
              "  <svg xmlns=\"http://www.w3.org/2000/svg\" height=\"24px\" viewBox=\"0 -960 960 960\">\n",
              "    <path d=\"M120-120v-720h720v720H120Zm60-500h600v-160H180v160Zm220 220h160v-160H400v160Zm0 220h160v-160H400v160ZM180-400h160v-160H180v160Zm440 0h160v-160H620v160ZM180-180h160v-160H180v160Zm440 0h160v-160H620v160Z\"/>\n",
              "  </svg>\n",
              "    </button>\n",
              "\n",
              "  <style>\n",
              "    .colab-df-container {\n",
              "      display:flex;\n",
              "      gap: 12px;\n",
              "    }\n",
              "\n",
              "    .colab-df-convert {\n",
              "      background-color: #E8F0FE;\n",
              "      border: none;\n",
              "      border-radius: 50%;\n",
              "      cursor: pointer;\n",
              "      display: none;\n",
              "      fill: #1967D2;\n",
              "      height: 32px;\n",
              "      padding: 0 0 0 0;\n",
              "      width: 32px;\n",
              "    }\n",
              "\n",
              "    .colab-df-convert:hover {\n",
              "      background-color: #E2EBFA;\n",
              "      box-shadow: 0px 1px 2px rgba(60, 64, 67, 0.3), 0px 1px 3px 1px rgba(60, 64, 67, 0.15);\n",
              "      fill: #174EA6;\n",
              "    }\n",
              "\n",
              "    .colab-df-buttons div {\n",
              "      margin-bottom: 4px;\n",
              "    }\n",
              "\n",
              "    [theme=dark] .colab-df-convert {\n",
              "      background-color: #3B4455;\n",
              "      fill: #D2E3FC;\n",
              "    }\n",
              "\n",
              "    [theme=dark] .colab-df-convert:hover {\n",
              "      background-color: #434B5C;\n",
              "      box-shadow: 0px 1px 3px 1px rgba(0, 0, 0, 0.15);\n",
              "      filter: drop-shadow(0px 1px 2px rgba(0, 0, 0, 0.3));\n",
              "      fill: #FFFFFF;\n",
              "    }\n",
              "  </style>\n",
              "\n",
              "    <script>\n",
              "      const buttonEl =\n",
              "        document.querySelector('#df-032da3af-f53f-4a0e-8dec-c7e2e51dda38 button.colab-df-convert');\n",
              "      buttonEl.style.display =\n",
              "        google.colab.kernel.accessAllowed ? 'block' : 'none';\n",
              "\n",
              "      async function convertToInteractive(key) {\n",
              "        const element = document.querySelector('#df-032da3af-f53f-4a0e-8dec-c7e2e51dda38');\n",
              "        const dataTable =\n",
              "          await google.colab.kernel.invokeFunction('convertToInteractive',\n",
              "                                                    [key], {});\n",
              "        if (!dataTable) return;\n",
              "\n",
              "        const docLinkHtml = 'Like what you see? Visit the ' +\n",
              "          '<a target=\"_blank\" href=https://colab.research.google.com/notebooks/data_table.ipynb>data table notebook</a>'\n",
              "          + ' to learn more about interactive tables.';\n",
              "        element.innerHTML = '';\n",
              "        dataTable['output_type'] = 'display_data';\n",
              "        await google.colab.output.renderOutput(dataTable, element);\n",
              "        const docLink = document.createElement('div');\n",
              "        docLink.innerHTML = docLinkHtml;\n",
              "        element.appendChild(docLink);\n",
              "      }\n",
              "    </script>\n",
              "  </div>\n",
              "\n",
              "\n",
              "<div id=\"df-79255829-609d-4834-a1e6-fefd1fcd9287\">\n",
              "  <button class=\"colab-df-quickchart\" onclick=\"quickchart('df-79255829-609d-4834-a1e6-fefd1fcd9287')\"\n",
              "            title=\"Suggest charts\"\n",
              "            style=\"display:none;\">\n",
              "\n",
              "<svg xmlns=\"http://www.w3.org/2000/svg\" height=\"24px\"viewBox=\"0 0 24 24\"\n",
              "     width=\"24px\">\n",
              "    <g>\n",
              "        <path d=\"M19 3H5c-1.1 0-2 .9-2 2v14c0 1.1.9 2 2 2h14c1.1 0 2-.9 2-2V5c0-1.1-.9-2-2-2zM9 17H7v-7h2v7zm4 0h-2V7h2v10zm4 0h-2v-4h2v4z\"/>\n",
              "    </g>\n",
              "</svg>\n",
              "  </button>\n",
              "\n",
              "<style>\n",
              "  .colab-df-quickchart {\n",
              "      --bg-color: #E8F0FE;\n",
              "      --fill-color: #1967D2;\n",
              "      --hover-bg-color: #E2EBFA;\n",
              "      --hover-fill-color: #174EA6;\n",
              "      --disabled-fill-color: #AAA;\n",
              "      --disabled-bg-color: #DDD;\n",
              "  }\n",
              "\n",
              "  [theme=dark] .colab-df-quickchart {\n",
              "      --bg-color: #3B4455;\n",
              "      --fill-color: #D2E3FC;\n",
              "      --hover-bg-color: #434B5C;\n",
              "      --hover-fill-color: #FFFFFF;\n",
              "      --disabled-bg-color: #3B4455;\n",
              "      --disabled-fill-color: #666;\n",
              "  }\n",
              "\n",
              "  .colab-df-quickchart {\n",
              "    background-color: var(--bg-color);\n",
              "    border: none;\n",
              "    border-radius: 50%;\n",
              "    cursor: pointer;\n",
              "    display: none;\n",
              "    fill: var(--fill-color);\n",
              "    height: 32px;\n",
              "    padding: 0;\n",
              "    width: 32px;\n",
              "  }\n",
              "\n",
              "  .colab-df-quickchart:hover {\n",
              "    background-color: var(--hover-bg-color);\n",
              "    box-shadow: 0 1px 2px rgba(60, 64, 67, 0.3), 0 1px 3px 1px rgba(60, 64, 67, 0.15);\n",
              "    fill: var(--button-hover-fill-color);\n",
              "  }\n",
              "\n",
              "  .colab-df-quickchart-complete:disabled,\n",
              "  .colab-df-quickchart-complete:disabled:hover {\n",
              "    background-color: var(--disabled-bg-color);\n",
              "    fill: var(--disabled-fill-color);\n",
              "    box-shadow: none;\n",
              "  }\n",
              "\n",
              "  .colab-df-spinner {\n",
              "    border: 2px solid var(--fill-color);\n",
              "    border-color: transparent;\n",
              "    border-bottom-color: var(--fill-color);\n",
              "    animation:\n",
              "      spin 1s steps(1) infinite;\n",
              "  }\n",
              "\n",
              "  @keyframes spin {\n",
              "    0% {\n",
              "      border-color: transparent;\n",
              "      border-bottom-color: var(--fill-color);\n",
              "      border-left-color: var(--fill-color);\n",
              "    }\n",
              "    20% {\n",
              "      border-color: transparent;\n",
              "      border-left-color: var(--fill-color);\n",
              "      border-top-color: var(--fill-color);\n",
              "    }\n",
              "    30% {\n",
              "      border-color: transparent;\n",
              "      border-left-color: var(--fill-color);\n",
              "      border-top-color: var(--fill-color);\n",
              "      border-right-color: var(--fill-color);\n",
              "    }\n",
              "    40% {\n",
              "      border-color: transparent;\n",
              "      border-right-color: var(--fill-color);\n",
              "      border-top-color: var(--fill-color);\n",
              "    }\n",
              "    60% {\n",
              "      border-color: transparent;\n",
              "      border-right-color: var(--fill-color);\n",
              "    }\n",
              "    80% {\n",
              "      border-color: transparent;\n",
              "      border-right-color: var(--fill-color);\n",
              "      border-bottom-color: var(--fill-color);\n",
              "    }\n",
              "    90% {\n",
              "      border-color: transparent;\n",
              "      border-bottom-color: var(--fill-color);\n",
              "    }\n",
              "  }\n",
              "</style>\n",
              "\n",
              "  <script>\n",
              "    async function quickchart(key) {\n",
              "      const quickchartButtonEl =\n",
              "        document.querySelector('#' + key + ' button');\n",
              "      quickchartButtonEl.disabled = true;  // To prevent multiple clicks.\n",
              "      quickchartButtonEl.classList.add('colab-df-spinner');\n",
              "      try {\n",
              "        const charts = await google.colab.kernel.invokeFunction(\n",
              "            'suggestCharts', [key], {});\n",
              "      } catch (error) {\n",
              "        console.error('Error during call to suggestCharts:', error);\n",
              "      }\n",
              "      quickchartButtonEl.classList.remove('colab-df-spinner');\n",
              "      quickchartButtonEl.classList.add('colab-df-quickchart-complete');\n",
              "    }\n",
              "    (() => {\n",
              "      let quickchartButtonEl =\n",
              "        document.querySelector('#df-79255829-609d-4834-a1e6-fefd1fcd9287 button');\n",
              "      quickchartButtonEl.style.display =\n",
              "        google.colab.kernel.accessAllowed ? 'block' : 'none';\n",
              "    })();\n",
              "  </script>\n",
              "</div>\n",
              "\n",
              "    </div>\n",
              "  </div>\n"
            ],
            "application/vnd.google.colaboratory.intrinsic+json": {
              "type": "dataframe",
              "summary": "{\n  \"name\": \"data\",\n  \"rows\": 8,\n  \"fields\": [\n    {\n      \"column\": \"FFMC\",\n      \"properties\": {\n        \"dtype\": \"number\",\n        \"std\": 182.264677542345,\n        \"min\": 0.0,\n        \"max\": 516.0,\n        \"num_unique_values\": 8,\n        \"samples\": [\n          0.5330877391695059,\n          0.5370222669112227,\n          516.0\n        ],\n        \"semantic_type\": \"\",\n        \"description\": \"\"\n      }\n    },\n    {\n      \"column\": \"DMC\",\n      \"properties\": {\n        \"dtype\": \"number\",\n        \"std\": 182.27043148350484,\n        \"min\": 0.0,\n        \"max\": 516.0,\n        \"num_unique_values\": 8,\n        \"samples\": [\n          0.5021949806017135,\n          0.5191335770618675,\n          516.0\n        ],\n        \"semantic_type\": \"\",\n        \"description\": \"\"\n      }\n    },\n    {\n      \"column\": \"DC\",\n      \"properties\": {\n        \"dtype\": \"number\",\n        \"std\": 182.24791802492123,\n        \"min\": 0.0,\n        \"max\": 516.0,\n        \"num_unique_values\": 8,\n        \"samples\": [\n          0.5610643627787099,\n          0.6870018434519807,\n          516.0\n        ],\n        \"semantic_type\": \"\",\n        \"description\": \"\"\n      }\n    },\n    {\n      \"column\": \"ISI\",\n      \"properties\": {\n        \"dtype\": \"number\",\n        \"std\": 182.27160205069092,\n        \"min\": 0.0,\n        \"max\": 516.0,\n        \"num_unique_values\": 8,\n        \"samples\": [\n          0.5130196417328959,\n          0.505705832291156,\n          516.0\n        ],\n        \"semantic_type\": \"\",\n        \"description\": \"\"\n      }\n    },\n    {\n      \"column\": \"temp\",\n      \"properties\": {\n        \"dtype\": \"number\",\n        \"std\": 182.2761199558331,\n        \"min\": 0.0,\n        \"max\": 516.0,\n        \"num_unique_values\": 8,\n        \"samples\": [\n          0.47933086146749937,\n          0.484833054438451,\n          516.0\n        ],\n        \"semantic_type\": \"\",\n        \"description\": \"\"\n      }\n    },\n    {\n      \"column\": \"RH\",\n      \"properties\": {\n        \"dtype\": \"number\",\n        \"std\": 182.2637130153075,\n        \"min\": 0.0,\n        \"max\": 516.0,\n        \"num_unique_values\": 8,\n        \"samples\": [\n          0.5427360644185663,\n          0.5438326554000943,\n          516.0\n        ],\n        \"semantic_type\": \"\",\n        \"description\": \"\"\n      }\n    },\n    {\n      \"column\": \"wind\",\n      \"properties\": {\n        \"dtype\": \"number\",\n        \"std\": 182.26328126744974,\n        \"min\": 0.0,\n        \"max\": 516.0,\n        \"num_unique_values\": 8,\n        \"samples\": [\n          0.5470423299527476,\n          0.5673475765437569,\n          516.0\n        ],\n        \"semantic_type\": \"\",\n        \"description\": \"\"\n      }\n    },\n    {\n      \"column\": \"burned\",\n      \"properties\": {\n        \"dtype\": \"number\",\n        \"std\": 182.23082213638685,\n        \"min\": 0.0,\n        \"max\": 516.0,\n        \"num_unique_values\": 5,\n        \"samples\": [\n          0.5232558139534884,\n          1.0,\n          0.4999435506630998\n        ],\n        \"semantic_type\": \"\",\n        \"description\": \"\"\n      }\n    },\n    {\n      \"column\": \"fire season\",\n      \"properties\": {\n        \"dtype\": \"number\",\n        \"std\": 182.17206353680868,\n        \"min\": 0.0,\n        \"max\": 516.0,\n        \"num_unique_values\": 5,\n        \"samples\": [\n          0.751937984496124,\n          1.0,\n          0.4323071139905098\n        ],\n        \"semantic_type\": \"\",\n        \"description\": \"\"\n      }\n    }\n  ]\n}"
            }
          },
          "metadata": {},
          "execution_count": 28
        }
      ]
    },
    {
      "cell_type": "code",
      "source": [
        "# Split the data into train & test sets with a 80:20 split\n",
        "from sklearn.model_selection import train_test_split\n",
        "input_features = data.drop(columns=['burned'])\n",
        "target = data['burned']\n",
        "\n",
        "X_train, X_test, y_train, y_test = train_test_split(input_features, target, test_size=0.2, stratify = target, random_state=42)"
      ],
      "metadata": {
        "id": "zzWkQ-7EC_S2"
      },
      "execution_count": null,
      "outputs": []
    },
    {
      "cell_type": "markdown",
      "source": [
        "Since we have completed our EDA and normalized our data, we are now ready to move on to the model creation and analysis phases of our project. Here we split the data into train and test sets."
      ],
      "metadata": {
        "id": "DeN3sjzyd_qY"
      }
    },
    {
      "cell_type": "markdown",
      "source": [
        "##Model 1: Logistic Regression"
      ],
      "metadata": {
        "id": "x1VeTRpJeDet"
      }
    },
    {
      "cell_type": "markdown",
      "source": [
        "Logistic regression was one of the first models we learned for classification, and because it is relatively computationally simple, we decided that it would be a good first step to developing a robust set of models.\n",
        "\n",
        "With logistic regression, we not only develop a binary classification model that definitively classifies observations into two classes, but the model also makes classification decisions based on a percentage on how confident it is about a certain classification. This way, we can set our own decision threshold that determines the percentage at which we believe it is best to distinguish our two classes."
      ],
      "metadata": {
        "id": "vi1lRorE782V"
      }
    },
    {
      "cell_type": "code",
      "source": [
        "from sklearn.model_selection import train_test_split\n",
        "input_features = data.drop(columns=['burned'])\n",
        "target = data['burned']\n",
        "\n",
        "X_train, X_test, y_train, y_test = train_test_split(input_features, target, test_size=0.2, stratify = target, random_state=42)"
      ],
      "metadata": {
        "id": "0imyi2SMeH5M"
      },
      "execution_count": null,
      "outputs": []
    },
    {
      "cell_type": "code",
      "source": [
        "from sklearn.linear_model import LogisticRegression\n",
        "\n",
        "clf = LogisticRegression(random_state=45,max_iter =10000,solver='liblinear')"
      ],
      "metadata": {
        "id": "DPeVnlNCeQY8"
      },
      "execution_count": null,
      "outputs": []
    },
    {
      "cell_type": "markdown",
      "source": [
        "We are setting solver to liblinear because liblinear is best at dealing with small datasets, such as the one we are analyzing."
      ],
      "metadata": {
        "id": "Ti9FzPN7eR0t"
      }
    },
    {
      "cell_type": "code",
      "source": [
        "data.info()"
      ],
      "metadata": {
        "colab": {
          "base_uri": "https://localhost:8080/"
        },
        "id": "YFPbOBrdeT6k",
        "outputId": "e3bbeb7d-62a4-4783-8304-7a5b7a499af8"
      },
      "execution_count": null,
      "outputs": [
        {
          "output_type": "stream",
          "name": "stdout",
          "text": [
            "<class 'pandas.core.frame.DataFrame'>\n",
            "Index: 516 entries, 0 to 516\n",
            "Data columns (total 9 columns):\n",
            " #   Column       Non-Null Count  Dtype  \n",
            "---  ------       --------------  -----  \n",
            " 0   FFMC         516 non-null    float64\n",
            " 1   DMC          516 non-null    float64\n",
            " 2   DC           516 non-null    float64\n",
            " 3   ISI          516 non-null    float64\n",
            " 4   temp         516 non-null    float64\n",
            " 5   RH           516 non-null    float64\n",
            " 6   wind         516 non-null    float64\n",
            " 7   burned       516 non-null    int64  \n",
            " 8   fire season  516 non-null    int64  \n",
            "dtypes: float64(7), int64(2)\n",
            "memory usage: 40.3 KB\n"
          ]
        }
      ]
    },
    {
      "cell_type": "code",
      "source": [
        "# Train the classifier on the training data\n",
        "clf.fit(X_train, y_train)\n",
        "\n",
        "\n",
        "# Make predictions on the train data\n",
        "y_train_pred = clf.predict(X_train)\n",
        "\n",
        "# Make predictions on the test data\n",
        "y_test_pred = clf.predict(X_test)"
      ],
      "metadata": {
        "id": "IEPW6gMXeZlI"
      },
      "execution_count": null,
      "outputs": []
    },
    {
      "cell_type": "code",
      "source": [
        "y_probs = clf.predict_proba(X_train)[:,1]\n",
        "print(y_probs)"
      ],
      "metadata": {
        "colab": {
          "base_uri": "https://localhost:8080/"
        },
        "id": "fXMDjV0YebX2",
        "outputId": "56f276a3-537b-42ef-c7af-0011311791d2"
      },
      "execution_count": null,
      "outputs": [
        {
          "output_type": "stream",
          "name": "stdout",
          "text": [
            "[0.55064958 0.55538256 0.53815409 0.47972185 0.57952442 0.47259268\n",
            " 0.59920541 0.50208604 0.56005839 0.56751476 0.60125058 0.57581686\n",
            " 0.56700749 0.5256015  0.53321332 0.56934977 0.52419902 0.51149986\n",
            " 0.52461613 0.50598799 0.53266856 0.53598787 0.51495704 0.56852572\n",
            " 0.49023543 0.5431655  0.5853532  0.51436771 0.56088448 0.4791462\n",
            " 0.53224754 0.56365393 0.43190061 0.46606123 0.51045444 0.47379993\n",
            " 0.5668822  0.47327837 0.47658223 0.53644429 0.52545269 0.57013631\n",
            " 0.52928087 0.50652421 0.55227354 0.55586155 0.56759554 0.49599509\n",
            " 0.56598935 0.52728998 0.55880246 0.5750119  0.53600649 0.56697409\n",
            " 0.51370525 0.4341447  0.57935085 0.53516773 0.52694198 0.5749062\n",
            " 0.52029514 0.46579156 0.56023507 0.45904366 0.57876125 0.55304416\n",
            " 0.58165563 0.44669389 0.52141467 0.52577544 0.56463567 0.5110489\n",
            " 0.53165518 0.55380783 0.54114364 0.55188467 0.55608153 0.48349506\n",
            " 0.55972464 0.49646911 0.55461483 0.53685565 0.59178391 0.48149226\n",
            " 0.51113936 0.44326287 0.46120633 0.47737619 0.56623827 0.41724626\n",
            " 0.4791462  0.53511921 0.46842482 0.45718142 0.38016018 0.58772692\n",
            " 0.51222343 0.57567981 0.5980209  0.55341101 0.45630094 0.52773434\n",
            " 0.46329995 0.43892999 0.55138526 0.49047572 0.51622681 0.47768061\n",
            " 0.52503389 0.46943129 0.50265003 0.51737619 0.48436852 0.54065466\n",
            " 0.55562071 0.54596144 0.54795025 0.52051682 0.47181233 0.54535148\n",
            " 0.5669765  0.51585741 0.55646333 0.51372352 0.49320818 0.56648358\n",
            " 0.56868593 0.46323333 0.45968922 0.55898574 0.5545281  0.55009945\n",
            " 0.49975096 0.5268659  0.5629868  0.50504487 0.53259948 0.54588585\n",
            " 0.53516773 0.54715052 0.4932656  0.52384357 0.5322232  0.56713447\n",
            " 0.52658957 0.57637731 0.55320006 0.58135833 0.57352235 0.54072828\n",
            " 0.47780272 0.44262426 0.54594308 0.42524421 0.53804715 0.51534759\n",
            " 0.53636817 0.38176633 0.49044697 0.45481419 0.51533762 0.54473909\n",
            " 0.53438059 0.57555651 0.49321402 0.54260993 0.56000043 0.54248591\n",
            " 0.57906625 0.49023543 0.51167351 0.59027759 0.51553608 0.5145933\n",
            " 0.5241234  0.54750317 0.56759554 0.56839493 0.59442744 0.52641225\n",
            " 0.52679017 0.43456179 0.43483836 0.54033059 0.50076998 0.53419002\n",
            " 0.44050671 0.50265865 0.47812379 0.5125355  0.52707571 0.57883414\n",
            " 0.52087299 0.52719879 0.51015544 0.4965839  0.51545859 0.53574904\n",
            " 0.54017621 0.54689914 0.52254994 0.53378313 0.50669121 0.56785701\n",
            " 0.58910301 0.54224569 0.51413394 0.51178762 0.54114289 0.43287958\n",
            " 0.51167351 0.60398073 0.55354435 0.53331223 0.51141782 0.54588585\n",
            " 0.44924943 0.41640817 0.53953888 0.49413055 0.5126642  0.57473907\n",
            " 0.57960386 0.59025839 0.55851366 0.55437519 0.52451192 0.56579528\n",
            " 0.50869342 0.47674825 0.55037732 0.47570284 0.54491771 0.53884458\n",
            " 0.57581686 0.59051415 0.49849285 0.49002343 0.54810267 0.52531264\n",
            " 0.55356798 0.55320006 0.51730302 0.56594888 0.52268611 0.56954119\n",
            " 0.52365869 0.56762207 0.59879177 0.43682695 0.4887074  0.5115047\n",
            " 0.57448782 0.48349506 0.54448812 0.56567469 0.48633927 0.54043757\n",
            " 0.56747714 0.57349715 0.49023543 0.50838068 0.54985726 0.52877886\n",
            " 0.48131141 0.51049312 0.52900679 0.48153661 0.54730764 0.5293517\n",
            " 0.50843514 0.39992324 0.47379993 0.55608153 0.59931929 0.52127046\n",
            " 0.43568001 0.54352483 0.5618687  0.42301625 0.56614014 0.53869837\n",
            " 0.57352235 0.57089454 0.53903252 0.46372849 0.54582603 0.53809192\n",
            " 0.49004841 0.55623212 0.61185208 0.55053893 0.42234378 0.52878221\n",
            " 0.53600649 0.56620794 0.43388193 0.52213778 0.54734226 0.50828987\n",
            " 0.42822914 0.58404206 0.57728356 0.46441414 0.50614311 0.56393214\n",
            " 0.55742159 0.57025177 0.52983046 0.52882223 0.413038   0.5448051\n",
            " 0.55603487 0.49604811 0.55100215 0.52425343 0.51646143 0.44763511\n",
            " 0.46462355 0.44690858 0.50699174 0.39878982 0.4301919  0.51617535\n",
            " 0.47499987 0.55551291 0.45979779 0.5677852  0.43976201 0.57783243\n",
            " 0.55626398 0.59997865 0.51820272 0.58376937 0.49226957 0.56335624\n",
            " 0.54986993 0.48662251 0.49196925 0.49705908 0.54953226 0.57869939\n",
            " 0.56281385 0.53220931 0.52571144 0.50881892 0.58334056 0.50008961\n",
            " 0.40810414 0.59439533 0.55887817 0.52934699 0.59464722 0.55344359\n",
            " 0.58693467 0.50812801 0.49659234 0.42827018 0.55950284 0.52660422\n",
            " 0.53207261 0.45653751 0.56252813 0.56925178 0.47327837 0.53600649\n",
            " 0.51388571 0.51266706 0.55916642 0.58111087 0.52719879 0.51743944\n",
            " 0.53825892 0.48187942 0.56667303 0.52611257 0.55720144 0.58321866\n",
            " 0.48436852 0.57788162 0.54765643 0.47257481 0.55965089 0.54644848\n",
            " 0.47343885 0.49417862 0.59115733 0.52846479 0.52217782 0.45839355\n",
            " 0.55464981 0.53491924 0.56790673 0.47725566 0.57309479 0.55913932\n",
            " 0.50973126 0.5580657  0.42143385 0.54731933 0.52020215 0.56463567\n",
            " 0.57951194 0.49497334 0.50920696 0.58082829 0.55266499 0.51453216\n",
            " 0.56835673 0.56697802 0.56757066 0.54719908]\n"
          ]
        }
      ]
    },
    {
      "cell_type": "code",
      "source": [
        "decision_threshold = 0.6\n",
        "predictions = [1 if pred_ >= decision_threshold else 0 for pred_ in y_probs]"
      ],
      "metadata": {
        "id": "mrJzDltDeddz"
      },
      "execution_count": null,
      "outputs": []
    },
    {
      "cell_type": "markdown",
      "source": [
        "The above code is simply an example of how we can set a decision threshold, but below we will see how various evaluation metrics change based on different thresholds, thus providing us with a comprehensive understanding of which threshold is best for our data and model."
      ],
      "metadata": {
        "id": "BcZcNspq9lNE"
      }
    },
    {
      "cell_type": "code",
      "source": [
        "from sklearn.metrics import *\n",
        "\n",
        "print(f\"Accuracy (Train set): {accuracy_score(y_train, y_train_pred)}\")\n",
        "print(f\"Accuracy (Test set): {accuracy_score(y_test, y_test_pred)}\")\n",
        "print(f\"Accuracy score: {accuracy_score(y_train,predictions)}\")"
      ],
      "metadata": {
        "colab": {
          "base_uri": "https://localhost:8080/"
        },
        "id": "az0ecs0qefMq",
        "outputId": "f5d2d9f4-fa8d-415d-a905-cb4c53067cd6"
      },
      "execution_count": null,
      "outputs": [
        {
          "output_type": "stream",
          "name": "stdout",
          "text": [
            "Accuracy (Train set): 0.5436893203883495\n",
            "Accuracy (Test set): 0.5865384615384616\n",
            "Accuracy score: 0.47815533980582525\n"
          ]
        }
      ]
    },
    {
      "cell_type": "code",
      "source": [
        "thresholds = list(np.arange(0.05, 1, 0.05))\n",
        "\n",
        "# Initialize empty lists to store accuracy scores\n",
        "accuracies = []\n",
        "\n",
        "# Iterate through each K value and train a KNN classifier\n",
        "for t in thresholds:\n",
        "    predictions = [1 if pred_ >= t else 0 for pred_ in y_probs]\n",
        "    accuracies.append(accuracy_score(y_train,predictions))\n",
        "\n",
        "# Plot the elbow plot\n",
        "plt.figure(figsize=(10, 6))\n",
        "plt.plot(thresholds, accuracies, marker='o', linestyle='-', color='b')\n",
        "plt.title('Accuracy Scores Across Different Thresholds')\n",
        "plt.xlabel('Threshold')\n",
        "plt.ylabel('Accuracy')\n",
        "plt.grid(True)\n",
        "plt.xticks(thresholds)\n",
        "plt.show()"
      ],
      "metadata": {
        "colab": {
          "base_uri": "https://localhost:8080/"
        },
        "id": "aES8bz4KehE5",
        "outputId": "2dfda8d1-8cfe-430f-ec47-fcf137b95189"
      },
      "execution_count": null,
      "outputs": [
        {
          "output_type": "display_data",
          "data": {
            "text/plain": [
              "<Figure size 1000x600 with 1 Axes>"
            ],
            "image/png": "[encoded data removed]"
          },
          "metadata": {}
        }
      ]
    },
    {
      "cell_type": "markdown",
      "source": [
        "Accuracy peaks at 0.45 and 0.55"
      ],
      "metadata": {
        "id": "rS7v5oGk9933"
      }
    },
    {
      "cell_type": "code",
      "source": [
        "print(f\"Precision (Train set): {precision_score(y_train, y_train_pred)}\")\n",
        "print(f\"Precision (Test set): {precision_score(y_test, y_test_pred)}\")"
      ],
      "metadata": {
        "colab": {
          "base_uri": "https://localhost:8080/"
        },
        "id": "-zWW9gTrejDP",
        "outputId": "7964dd28-7fb8-46e2-b52c-5be9f4771c35"
      },
      "execution_count": null,
      "outputs": [
        {
          "output_type": "stream",
          "name": "stdout",
          "text": [
            "Precision (Train set): 0.5454545454545454\n",
            "Precision (Test set): 0.5753424657534246\n"
          ]
        }
      ]
    },
    {
      "cell_type": "code",
      "source": [
        "thresholds = list(np.arange(0.05, 1, 0.05))\n",
        "\n",
        "# Initialize empty lists to store accuracy scores\n",
        "precision = []\n",
        "\n",
        "# Iterate through each K value and train a KNN classifier\n",
        "for t in thresholds:\n",
        "    predictions = [1 if pred_ >= t else 0 for pred_ in y_probs]\n",
        "    precision.append(precision_score(y_train,predictions))\n",
        "\n",
        "# Plot the elbow plot\n",
        "plt.figure(figsize=(10, 6))\n",
        "plt.plot(thresholds, precision, marker='o', linestyle='-', color='b')\n",
        "plt.title('Precision Scores Across Different Thresholds')\n",
        "plt.xlabel('Threshold')\n",
        "plt.ylabel('Precision')\n",
        "plt.grid(True)\n",
        "plt.xticks(thresholds)\n",
        "plt.show()"
      ],
      "metadata": {
        "colab": {
          "base_uri": "https://localhost:8080/"
        },
        "id": "GuaYSj0NekyX",
        "outputId": "b9080437-7ac8-4268-c741-e942ac611845"
      },
      "execution_count": null,
      "outputs": [
        {
          "output_type": "stream",
          "name": "stderr",
          "text": [
            "/usr/local/lib/python3.10/dist-packages/sklearn/metrics/_classification.py:1344: UndefinedMetricWarning: Precision is ill-defined and being set to 0.0 due to no predicted samples. Use `zero_division` parameter to control this behavior.\n",
            "  _warn_prf(average, modifier, msg_start, len(result))\n",
            "/usr/local/lib/python3.10/dist-packages/sklearn/metrics/_classification.py:1344: UndefinedMetricWarning: Precision is ill-defined and being set to 0.0 due to no predicted samples. Use `zero_division` parameter to control this behavior.\n",
            "  _warn_prf(average, modifier, msg_start, len(result))\n",
            "/usr/local/lib/python3.10/dist-packages/sklearn/metrics/_classification.py:1344: UndefinedMetricWarning: Precision is ill-defined and being set to 0.0 due to no predicted samples. Use `zero_division` parameter to control this behavior.\n",
            "  _warn_prf(average, modifier, msg_start, len(result))\n",
            "/usr/local/lib/python3.10/dist-packages/sklearn/metrics/_classification.py:1344: UndefinedMetricWarning: Precision is ill-defined and being set to 0.0 due to no predicted samples. Use `zero_division` parameter to control this behavior.\n",
            "  _warn_prf(average, modifier, msg_start, len(result))\n",
            "/usr/local/lib/python3.10/dist-packages/sklearn/metrics/_classification.py:1344: UndefinedMetricWarning: Precision is ill-defined and being set to 0.0 due to no predicted samples. Use `zero_division` parameter to control this behavior.\n",
            "  _warn_prf(average, modifier, msg_start, len(result))\n",
            "/usr/local/lib/python3.10/dist-packages/sklearn/metrics/_classification.py:1344: UndefinedMetricWarning: Precision is ill-defined and being set to 0.0 due to no predicted samples. Use `zero_division` parameter to control this behavior.\n",
            "  _warn_prf(average, modifier, msg_start, len(result))\n",
            "/usr/local/lib/python3.10/dist-packages/sklearn/metrics/_classification.py:1344: UndefinedMetricWarning: Precision is ill-defined and being set to 0.0 due to no predicted samples. Use `zero_division` parameter to control this behavior.\n",
            "  _warn_prf(average, modifier, msg_start, len(result))\n"
          ]
        },
        {
          "output_type": "display_data",
          "data": {
            "text/plain": [
              "<Figure size 1000x600 with 1 Axes>"
            ],
            "image/png": "[encoded data removed]"
          },
          "metadata": {}
        }
      ]
    },
    {
      "cell_type": "markdown",
      "source": [
        "Precision peaks at 0.6. Anything after 0.6 results in an unfavorable precision score."
      ],
      "metadata": {
        "id": "daN52hVp-CXS"
      }
    },
    {
      "cell_type": "code",
      "source": [
        "print(f\"Recall (Train set): {recall_score(y_train, y_train_pred)}\")\n",
        "print(f\"Recall (Test set): {recall_score(y_test, y_test_pred)}\")"
      ],
      "metadata": {
        "colab": {
          "base_uri": "https://localhost:8080/"
        },
        "id": "_3vioJ6kem-P",
        "outputId": "982ba82e-373b-4dd8-d4bb-6b06a6cd7457"
      },
      "execution_count": null,
      "outputs": [
        {
          "output_type": "stream",
          "name": "stdout",
          "text": [
            "Recall (Train set): 0.7777777777777778\n",
            "Recall (Test set): 0.7777777777777778\n"
          ]
        }
      ]
    },
    {
      "cell_type": "code",
      "source": [
        "thresholds = list(np.arange(0.05, 1, 0.05))\n",
        "\n",
        "# Initialize empty lists to store accuracy scores\n",
        "recall = []\n",
        "\n",
        "# Iterate through each K value and train a KNN classifier\n",
        "for t in thresholds:\n",
        "    predictions = [1 if pred_ >= t else 0 for pred_ in y_probs]\n",
        "    recall.append(recall_score(y_train,predictions))\n",
        "\n",
        "# Plot the elbow plot\n",
        "plt.figure(figsize=(10, 6))\n",
        "plt.plot(thresholds, recall, marker='o', linestyle='-', color='b')\n",
        "plt.title('Recall Scores Across Different Thresholds')\n",
        "plt.xlabel('Threshold')\n",
        "plt.ylabel('Recall')\n",
        "plt.grid(True)\n",
        "plt.xticks(thresholds)\n",
        "plt.show()"
      ],
      "metadata": {
        "colab": {
          "base_uri": "https://localhost:8080/"
        },
        "id": "3Cz4jNIrepM9",
        "outputId": "c07a10c6-11ef-4701-9f09-691032313954"
      },
      "execution_count": null,
      "outputs": [
        {
          "output_type": "display_data",
          "data": {
            "text/plain": [
              "<Figure size 1000x600 with 1 Axes>"
            ],
            "image/png": "[encoded data removed]"
          },
          "metadata": {}
        }
      ]
    },
    {
      "cell_type": "markdown",
      "source": [
        "Recall is best from 0.05 to 0.45, and decreases significantly thereafter."
      ],
      "metadata": {
        "id": "AXlnhyvL-NI4"
      }
    },
    {
      "cell_type": "code",
      "source": [
        "print(f\"F1 Score (Train set): {f1_score(y_train, y_train_pred)}\")\n",
        "print(f\"F1 Score (Test set): {f1_score(y_test, y_test_pred)}\")"
      ],
      "metadata": {
        "colab": {
          "base_uri": "https://localhost:8080/"
        },
        "id": "atpiVa2FesxB",
        "outputId": "68937efb-c37c-4c79-e537-3ad9c99ce31f"
      },
      "execution_count": null,
      "outputs": [
        {
          "output_type": "stream",
          "name": "stdout",
          "text": [
            "F1 Score (Train set): 0.6412213740458015\n",
            "F1 Score (Test set): 0.6614173228346456\n"
          ]
        }
      ]
    },
    {
      "cell_type": "code",
      "source": [
        "thresholds = list(np.arange(0.05, 1, 0.05))\n",
        "\n",
        "# Initialize empty lists to store accuracy scores\n",
        "f1 = []\n",
        "\n",
        "# Iterate through each K value and train a KNN classifier\n",
        "for t in thresholds:\n",
        "    predictions = [1 if pred_ >= t else 0 for pred_ in y_probs]\n",
        "    f1.append(f1_score(y_train,predictions))\n",
        "\n",
        "# Plot the elbow plot\n",
        "plt.figure(figsize=(10, 6))\n",
        "plt.plot(thresholds, f1, marker='o', linestyle='-', color='b')\n",
        "plt.title('F1 Scores Across Different Thresholds')\n",
        "plt.xlabel('Threshold')\n",
        "plt.ylabel('F1')\n",
        "plt.grid(True)\n",
        "plt.xticks(thresholds)\n",
        "plt.show()"
      ],
      "metadata": {
        "colab": {
          "base_uri": "https://localhost:8080/"
        },
        "id": "mE_TTY05euon",
        "outputId": "70e4a7b3-7705-477d-c4b8-2a84d3398c21"
      },
      "execution_count": null,
      "outputs": [
        {
          "output_type": "display_data",
          "data": {
            "text/plain": [
              "<Figure size 1000x600 with 1 Axes>"
            ],
            "image/png": "[encoded data removed]"
          },
          "metadata": {}
        }
      ]
    },
    {
      "cell_type": "markdown",
      "source": [
        "F1 score (the harmonic mean between precision and recall) basically combines the prior two results. Everything after 0.5 is unfavorable."
      ],
      "metadata": {
        "id": "j5UH0HJA-bRi"
      }
    },
    {
      "cell_type": "code",
      "source": [
        "print(f\"ROC AUC Score (Train set): {roc_auc_score(y_train, y_train_pred)}\")\n",
        "print(f\"ROC AUC Score (Test set): {roc_auc_score(y_test, y_test_pred)}\")"
      ],
      "metadata": {
        "colab": {
          "base_uri": "https://localhost:8080/"
        },
        "id": "LbkBEyfCewT8",
        "outputId": "c1964728-af6a-4368-973d-3606f779a8a5"
      },
      "execution_count": null,
      "outputs": [
        {
          "output_type": "stream",
          "name": "stdout",
          "text": [
            "ROC AUC Score (Train set): 0.5317460317460317\n",
            "ROC AUC Score (Test set): 0.5788888888888889\n"
          ]
        }
      ]
    },
    {
      "cell_type": "code",
      "source": [
        "thresholds = list(np.arange(0.05, 1, 0.05))\n",
        "\n",
        "# Initialize empty lists to store accuracy scores\n",
        "auc = []\n",
        "\n",
        "# Iterate through each K value and train a KNN classifier\n",
        "for t in thresholds:\n",
        "    predictions = [1 if pred_ >= t else 0 for pred_ in y_probs]\n",
        "    auc.append(roc_auc_score(y_train,predictions))\n",
        "\n",
        "# Plot the elbow plot\n",
        "plt.figure(figsize=(10, 6))\n",
        "plt.plot(thresholds, auc, marker='o', linestyle='-', color='b')\n",
        "plt.title('ROC AUC Scores Across Different Thresholds')\n",
        "plt.xlabel('Threshold')\n",
        "plt.ylabel('ROC AUC')\n",
        "plt.grid(True)\n",
        "plt.xticks(thresholds)\n",
        "plt.show()"
      ],
      "metadata": {
        "colab": {
          "base_uri": "https://localhost:8080/"
        },
        "id": "3aTLCSjNexvr",
        "outputId": "1cf3f832-6442-4fb9-cebe-ce7730240771"
      },
      "execution_count": null,
      "outputs": [
        {
          "output_type": "display_data",
          "data": {
            "text/plain": [
              "<Figure size 1000x600 with 1 Axes>"
            ],
            "image/png": "[encoded data removed]"
          },
          "metadata": {}
        }
      ]
    },
    {
      "cell_type": "markdown",
      "source": [
        "ROC AUC peaks at 0.55, but 0.45 and 0.5 are also okay."
      ],
      "metadata": {
        "id": "nsNR7frA-3ng"
      }
    },
    {
      "cell_type": "code",
      "source": [
        "print(f\"Log Loss (Train set): {log_loss(y_train, y_train_pred)}\")\n",
        "print(f\"Log Loss (Test set): {log_loss(y_test, y_test_pred)}\")"
      ],
      "metadata": {
        "colab": {
          "base_uri": "https://localhost:8080/"
        },
        "id": "AnHMPgbPezWd",
        "outputId": "5cdd3d40-8295-4d9f-c7aa-8b831426d15e"
      },
      "execution_count": null,
      "outputs": [
        {
          "output_type": "stream",
          "name": "stdout",
          "text": [
            "Log Loss (Train set): 16.447103973674817\n",
            "Log Loss (Test set): 14.902664382038823\n"
          ]
        }
      ]
    },
    {
      "cell_type": "code",
      "source": [
        "thresholds = list(np.arange(0.05, 1, 0.05))\n",
        "\n",
        "# Initialize empty lists to store accuracy scores\n",
        "log_l = []\n",
        "\n",
        "# Iterate through each K value and train a KNN classifier\n",
        "for t in thresholds:\n",
        "    predictions = [1 if pred_ >= t else 0 for pred_ in y_probs]\n",
        "    log_l.append(log_loss(y_train,predictions))\n",
        "\n",
        "# Plot the elbow plot\n",
        "plt.figure(figsize=(10, 6))\n",
        "plt.plot(thresholds, log_l, marker='o', linestyle='-', color='b')\n",
        "plt.title('Log Loss Scores Across Different Thresholds')\n",
        "plt.xlabel('Threshold')\n",
        "plt.ylabel('Log Loss')\n",
        "plt.grid(True)\n",
        "plt.xticks(thresholds)\n",
        "plt.show()"
      ],
      "metadata": {
        "colab": {
          "base_uri": "https://localhost:8080/"
        },
        "id": "GHTeerXle0v_",
        "outputId": "0fd1c698-fc87-4e54-d9eb-51befa2dc958"
      },
      "execution_count": null,
      "outputs": [
        {
          "output_type": "display_data",
          "data": {
            "text/plain": [
              "<Figure size 1000x600 with 1 Axes>"
            ],
            "image/png": "[encoded data removed]"
          },
          "metadata": {}
        }
      ]
    },
    {
      "cell_type": "markdown",
      "source": [
        "For log loss, we want the lowest score. Log loss is lowest at 0.45 and 0.55."
      ],
      "metadata": {
        "id": "J3dhaCjJ_EY6"
      }
    },
    {
      "cell_type": "markdown",
      "source": [
        "Given all of the results from the evaluation metrics, 0.45 is the best threshold. Even though this does not seem very far from 0.5 (the default threshold), a difference of 0.05 can make a significant difference in the model. We are trying to optimize everything as much as possible."
      ],
      "metadata": {
        "id": "5mXD_CvI_dVg"
      }
    },
    {
      "cell_type": "code",
      "source": [
        "y_probs = clf.predict_proba(X_test)[:,1]\n",
        "print(y_probs)\n",
        "decision_threshold = 0.45\n",
        "predictions = [1 if pred_ >= decision_threshold else 0 for pred_ in y_probs]\n",
        "print(f\"Accuracy score: {accuracy_score(y_test,predictions)}\")\n",
        "print(f\"Precision score: {precision_score(y_test,predictions)}\")\n",
        "print(f\"Recall score: {recall_score(y_test,predictions)}\")\n",
        "print(f\"F1 score: {f1_score(y_test,predictions)}\")\n",
        "print(f\"ROC AUC score: {roc_auc_score(y_test,predictions)}\")\n",
        "print(f\"Log loss score: {log_loss(y_test,predictions)}\")"
      ],
      "metadata": {
        "colab": {
          "base_uri": "https://localhost:8080/"
        },
        "id": "m8cQfrhQe2nu",
        "outputId": "14afac10-9911-468a-92d0-3fa17de77cbe"
      },
      "execution_count": null,
      "outputs": [
        {
          "output_type": "stream",
          "name": "stdout",
          "text": [
            "[0.45635803 0.52268611 0.55296958 0.55965089 0.50415773 0.48308482\n",
            " 0.56952871 0.56620794 0.42530826 0.51550175 0.58258104 0.48593402\n",
            " 0.54540836 0.57175913 0.53329921 0.53184673 0.60104304 0.52036427\n",
            " 0.53499287 0.60697733 0.47344924 0.54787028 0.47596689 0.54033059\n",
            " 0.57128242 0.48630085 0.53219272 0.4965839  0.50479502 0.51737494\n",
            " 0.55253196 0.51372352 0.49105861 0.47379993 0.53683523 0.50111485\n",
            " 0.52717334 0.60107987 0.5837072  0.57395912 0.55848022 0.493548\n",
            " 0.59087945 0.54981332 0.5034084  0.5845164  0.53112988 0.46674333\n",
            " 0.5545281  0.46002728 0.57142487 0.50740035 0.42390112 0.5279029\n",
            " 0.52108199 0.5246944  0.46989244 0.56839493 0.45371194 0.43284488\n",
            " 0.40453674 0.41615959 0.58233799 0.5837072  0.52484999 0.46214031\n",
            " 0.5592621  0.53449505 0.53138983 0.48433186 0.5302866  0.5159906\n",
            " 0.49613221 0.52314436 0.50386274 0.55211907 0.47392423 0.57239032\n",
            " 0.59416127 0.49854043 0.52846334 0.53277723 0.49023543 0.46323333\n",
            " 0.5527887  0.55611931 0.60952161 0.53053127 0.55523133 0.55676877\n",
            " 0.5400097  0.45309339 0.54937666 0.47738071 0.45535548 0.46140979\n",
            " 0.52512994 0.44427434 0.53138983 0.56220681 0.53016088 0.50076998\n",
            " 0.55450362 0.5259409 ]\n",
            "Accuracy score: 0.5384615384615384\n",
            "Precision score: 0.5306122448979592\n",
            "Recall score: 0.9629629629629629\n",
            "F1 score: 0.6842105263157895\n",
            "ROC AUC score: 0.5214814814814814\n",
            "Log loss score: 16.635532333438682\n"
          ]
        }
      ]
    },
    {
      "cell_type": "markdown",
      "source": [
        "Although recall is very high (we do care about recall because wrongly predicting an area as not burnt can be adverse to the goals of this study), the other metrics are not optimal, indicating that logistic regression may not be the best approach to our study. Before moving on to our next model, let's apply some hyperparameter tuning to see if the model performs better."
      ],
      "metadata": {
        "id": "s_ggxGLy_xIn"
      }
    },
    {
      "cell_type": "markdown",
      "source": [
        "###Hyperparameter Tuning"
      ],
      "metadata": {
        "id": "iNP2FO7efCjI"
      }
    },
    {
      "cell_type": "markdown",
      "source": [
        "We will look at the hyperparameters penalty and C. Penalty determines whether the model will be regularized using L1 (Lasso) or L2 (Ridge) methods. C is the inverse of regularization strength. Both are useful in preventing overfitting."
      ],
      "metadata": {
        "id": "ZNaj2-g8Amkf"
      }
    },
    {
      "cell_type": "code",
      "source": [
        "param_grid = {\n",
        "    'penalty': ['l1', 'l2'],\n",
        "    'C': [0.001, 0.01, 0.1, 1, 10, 100, 1000]\n",
        "}"
      ],
      "metadata": {
        "id": "2hqXdeEUfEVS"
      },
      "execution_count": null,
      "outputs": []
    },
    {
      "cell_type": "code",
      "source": [
        "from sklearn.model_selection import StratifiedKFold\n",
        "skf = StratifiedKFold(n_splits=5, random_state=12, shuffle=True)"
      ],
      "metadata": {
        "id": "53xBZxWIfHFa"
      },
      "execution_count": null,
      "outputs": []
    },
    {
      "cell_type": "code",
      "source": [
        "from sklearn.model_selection import GridSearchCV\n",
        "\n",
        "grid_search = GridSearchCV(estimator=clf, param_grid=param_grid, cv=skf, scoring='accuracy')\n",
        "grid_search.fit(X_train, y_train)\n",
        "\n",
        "best_params_grid = grid_search.best_params_\n",
        "best_score_grid = grid_search.best_score_"
      ],
      "metadata": {
        "id": "7M6suUzrfIQN"
      },
      "execution_count": null,
      "outputs": []
    },
    {
      "cell_type": "code",
      "source": [
        "print(best_params_grid)\n",
        "print(best_score_grid)"
      ],
      "metadata": {
        "colab": {
          "base_uri": "https://localhost:8080/"
        },
        "id": "S1U2l4X8fJlO",
        "outputId": "4329e61d-a7c3-4444-ff9b-619b1e53c84a"
      },
      "execution_count": null,
      "outputs": [
        {
          "output_type": "stream",
          "name": "stdout",
          "text": [
            "{'C': 0.001, 'penalty': 'l2'}\n",
            "0.524272700558331\n"
          ]
        }
      ]
    },
    {
      "cell_type": "code",
      "source": [
        "clf.set_params(penalty = 'l2', C=0.001)\n",
        "clf.fit(X_train,y_train)\n",
        "y_train_pred = clf.predict(X_train)\n",
        "print(f'Accuracy: {accuracy_score(y_train, y_train_pred)}')\n",
        "print(f'Precision: {precision_score(y_train, y_train_pred)}')\n",
        "print(f'Recall: {recall_score(y_train, y_train_pred)}')\n",
        "print(f'F1 Score: {f1_score(y_train, y_train_pred)}')\n",
        "print(f'ROC AUC: {roc_auc_score(y_train, y_train_pred)}')\n",
        "print(f'Log Loss: {log_loss(y_train, y_train_pred)}')"
      ],
      "metadata": {
        "colab": {
          "base_uri": "https://localhost:8080/"
        },
        "id": "gneqjrFqfK0F",
        "outputId": "47f230a5-e853-43d4-94f8-79ac8b2852ce"
      },
      "execution_count": null,
      "outputs": [
        {
          "output_type": "stream",
          "name": "stdout",
          "text": [
            "Accuracy: 0.5242718446601942\n",
            "Precision: 0.5242718446601942\n",
            "Recall: 1.0\n",
            "F1 Score: 0.6878980891719745\n",
            "ROC AUC: 0.5\n",
            "Log Loss: 17.146980738512042\n"
          ]
        }
      ]
    },
    {
      "cell_type": "code",
      "source": [
        "clf.fit(X_test,y_test)\n",
        "y_pred = clf.predict(X_test)\n",
        "print(f'Accuracy: {accuracy_score(y_test, y_pred)}')\n",
        "print(f'Precision: {precision_score(y_test, y_pred)}')\n",
        "print(f'Recall: {recall_score(y_test, y_pred)}')\n",
        "print(f'F1 Score: {f1_score(y_test, y_pred)}')\n",
        "print(f'ROC AUC: {roc_auc_score(y_test, y_pred)}')\n",
        "print(f'Log Loss: {log_loss(y_test, y_pred)}')"
      ],
      "metadata": {
        "colab": {
          "base_uri": "https://localhost:8080/"
        },
        "id": "p-NvcpBlfMLc",
        "outputId": "cfe2d7a7-f0b9-4efb-c2da-396bfccc9124"
      },
      "execution_count": null,
      "outputs": [
        {
          "output_type": "stream",
          "name": "stdout",
          "text": [
            "Accuracy: 0.5192307692307693\n",
            "Precision: 0.5192307692307693\n",
            "Recall: 1.0\n",
            "F1 Score: 0.6835443037974684\n",
            "ROC AUC: 0.5\n",
            "Log Loss: 17.32867951399863\n"
          ]
        }
      ]
    },
    {
      "cell_type": "markdown",
      "source": [
        "The model is not performing very well for either the train or test sets. Although recall remains high, the other metrics have unfavorable results."
      ],
      "metadata": {
        "id": "0eF6Cl5RBEDr"
      }
    },
    {
      "cell_type": "markdown",
      "source": [
        "##Model 2: Random Forest"
      ],
      "metadata": {
        "id": "E3vi6kw9bTKW"
      }
    },
    {
      "cell_type": "markdown",
      "source": [
        "The second model used in this study is Random Forest. Random Forest consists of multiple CARTs (Classification and Regression Trees) and is a common, robust model for classification. The benefits of Random Forest is that we can apply feature importance (to limit dimensionality and prevent overfitting), hyperparameter tuning (to optimize the various hyperparameters influencing our model), and pruning (also for preventing overfitting). Random Forest is also an ensemble method, meaning that we are taking the average results of our several Trees and providing comprehensive predictions and insights."
      ],
      "metadata": {
        "id": "4uGSz3tWBZwX"
      }
    },
    {
      "cell_type": "markdown",
      "source": [
        "###Feature Importance"
      ],
      "metadata": {
        "id": "ZFxYT_evbe3d"
      }
    },
    {
      "cell_type": "code",
      "source": [
        "from sklearn.ensemble import RandomForestClassifier\n",
        "from sklearn.metrics import *\n",
        "\n",
        "# explore how accuracy changes at different values of n_estimators (10-100 trees)\n",
        "for x in np.arange(10,100,10):\n",
        "  RF_classifier =  RandomForestClassifier(n_estimators=x)\n",
        "  RF_classifier.fit(X_train, y_train)\n",
        "  y_pred_train = RF_classifier.predict(X_train)\n",
        "  print(accuracy_score(y_train, y_pred_train))"
      ],
      "metadata": {
        "colab": {
          "base_uri": "https://localhost:8080/"
        },
        "id": "YVCsMS3xbW4_",
        "outputId": "c5eb40e9-a3e2-478d-bc47-540aa6929afa"
      },
      "execution_count": null,
      "outputs": [
        {
          "output_type": "stream",
          "name": "stdout",
          "text": [
            "0.9587378640776699\n",
            "0.9733009708737864\n",
            "0.9757281553398058\n",
            "0.9757281553398058\n",
            "0.9757281553398058\n",
            "0.9757281553398058\n",
            "0.9757281553398058\n",
            "0.9757281553398058\n",
            "0.9757281553398058\n"
          ]
        }
      ]
    },
    {
      "cell_type": "markdown",
      "source": [
        "We examined how accuracy changes based on the number of trees in our random forest. We decided to do this prior to our grid search of other hyperparameters (see below) for the sake of computational efficiency. We determined that 40 estimators is the optimal value for maximizing efficiency and accuracy."
      ],
      "metadata": {
        "id": "drMAEZXtNhXz"
      }
    },
    {
      "cell_type": "code",
      "source": [
        "RF_classifier =  RandomForestClassifier(n_estimators=40)\n",
        "RF_classifier.fit(X_train, y_train)"
      ],
      "metadata": {
        "colab": {
          "base_uri": "https://localhost:8080/"
        },
        "id": "DecDhyQTbYxu",
        "outputId": "eddacec5-b69a-4be5-9fff-1d5a427bb001"
      },
      "execution_count": null,
      "outputs": [
        {
          "output_type": "execute_result",
          "data": {
            "text/plain": [
              "RandomForestClassifier(n_estimators=40)"
            ],
            "text/html": [
              "<style>#sk-container-id-1 {color: black;background-color: white;}#sk-container-id-1 pre{padding: 0;}#sk-container-id-1 div.sk-toggleable {background-color: white;}#sk-container-id-1 label.sk-toggleable__label {cursor: pointer;display: block;width: 100%;margin-bottom: 0;padding: 0.3em;box-sizing: border-box;text-align: center;}#sk-container-id-1 label.sk-toggleable__label-arrow:before {content: \"▸\";float: left;margin-right: 0.25em;color: #696969;}#sk-container-id-1 label.sk-toggleable__label-arrow:hover:before {color: black;}#sk-container-id-1 div.sk-estimator:hover label.sk-toggleable__label-arrow:before {color: black;}#sk-container-id-1 div.sk-toggleable__content {max-height: 0;max-width: 0;overflow: hidden;text-align: left;background-color: #f0f8ff;}#sk-container-id-1 div.sk-toggleable__content pre {margin: 0.2em;color: black;border-radius: 0.25em;background-color: #f0f8ff;}#sk-container-id-1 input.sk-toggleable__control:checked~div.sk-toggleable__content {max-height: 200px;max-width: 100%;overflow: auto;}#sk-container-id-1 input.sk-toggleable__control:checked~label.sk-toggleable__label-arrow:before {content: \"▾\";}#sk-container-id-1 div.sk-estimator input.sk-toggleable__control:checked~label.sk-toggleable__label {background-color: #d4ebff;}#sk-container-id-1 div.sk-label input.sk-toggleable__control:checked~label.sk-toggleable__label {background-color: #d4ebff;}#sk-container-id-1 input.sk-hidden--visually {border: 0;clip: rect(1px 1px 1px 1px);clip: rect(1px, 1px, 1px, 1px);height: 1px;margin: -1px;overflow: hidden;padding: 0;position: absolute;width: 1px;}#sk-container-id-1 div.sk-estimator {font-family: monospace;background-color: #f0f8ff;border: 1px dotted black;border-radius: 0.25em;box-sizing: border-box;margin-bottom: 0.5em;}#sk-container-id-1 div.sk-estimator:hover {background-color: #d4ebff;}#sk-container-id-1 div.sk-parallel-item::after {content: \"\";width: 100%;border-bottom: 1px solid gray;flex-grow: 1;}#sk-container-id-1 div.sk-label:hover label.sk-toggleable__label {background-color: #d4ebff;}#sk-container-id-1 div.sk-serial::before {content: \"\";position: absolute;border-left: 1px solid gray;box-sizing: border-box;top: 0;bottom: 0;left: 50%;z-index: 0;}#sk-container-id-1 div.sk-serial {display: flex;flex-direction: column;align-items: center;background-color: white;padding-right: 0.2em;padding-left: 0.2em;position: relative;}#sk-container-id-1 div.sk-item {position: relative;z-index: 1;}#sk-container-id-1 div.sk-parallel {display: flex;align-items: stretch;justify-content: center;background-color: white;position: relative;}#sk-container-id-1 div.sk-item::before, #sk-container-id-1 div.sk-parallel-item::before {content: \"\";position: absolute;border-left: 1px solid gray;box-sizing: border-box;top: 0;bottom: 0;left: 50%;z-index: -1;}#sk-container-id-1 div.sk-parallel-item {display: flex;flex-direction: column;z-index: 1;position: relative;background-color: white;}#sk-container-id-1 div.sk-parallel-item:first-child::after {align-self: flex-end;width: 50%;}#sk-container-id-1 div.sk-parallel-item:last-child::after {align-self: flex-start;width: 50%;}#sk-container-id-1 div.sk-parallel-item:only-child::after {width: 0;}#sk-container-id-1 div.sk-dashed-wrapped {border: 1px dashed gray;margin: 0 0.4em 0.5em 0.4em;box-sizing: border-box;padding-bottom: 0.4em;background-color: white;}#sk-container-id-1 div.sk-label label {font-family: monospace;font-weight: bold;display: inline-block;line-height: 1.2em;}#sk-container-id-1 div.sk-label-container {text-align: center;}#sk-container-id-1 div.sk-container {/* jupyter's `normalize.less` sets `[hidden] { display: none; }` but bootstrap.min.css set `[hidden] { display: none !important; }` so we also need the `!important` here to be able to override the default hidden behavior on the sphinx rendered scikit-learn.org. See: https://github.com/scikit-learn/scikit-learn/issues/21755 */display: inline-block !important;position: relative;}#sk-container-id-1 div.sk-text-repr-fallback {display: none;}</style><div id=\"sk-container-id-1\" class=\"sk-top-container\"><div class=\"sk-text-repr-fallback\"><pre>RandomForestClassifier(n_estimators=40)</pre><b>In a Jupyter environment, please rerun this cell to show the HTML representation or trust the notebook. <br />On GitHub, the HTML representation is unable to render, please try loading this page with nbviewer.org.</b></div><div class=\"sk-container\" hidden><div class=\"sk-item\"><div class=\"sk-estimator sk-toggleable\"><input class=\"sk-toggleable__control sk-hidden--visually\" id=\"sk-estimator-id-1\" type=\"checkbox\" checked><label for=\"sk-estimator-id-1\" class=\"sk-toggleable__label sk-toggleable__label-arrow\">RandomForestClassifier</label><div class=\"sk-toggleable__content\"><pre>RandomForestClassifier(n_estimators=40)</pre></div></div></div></div></div>"
            ]
          },
          "metadata": {},
          "execution_count": 56
        }
      ]
    },
    {
      "cell_type": "code",
      "source": [
        "import seaborn as sns\n",
        "\n",
        "# Get feature importances\n",
        "feature_importances = RF_classifier.feature_importances_\n",
        "\n",
        "# Print the importance of each feature\n",
        "for feature, importance in zip(input_features.columns, feature_importances):\n",
        "  print(f\"{feature}: {importance:.4f}\")"
      ],
      "metadata": {
        "colab": {
          "base_uri": "https://localhost:8080/"
        },
        "id": "sH8cwoL_ba_9",
        "outputId": "43dcd8ca-f8fb-4762-bb73-9869c367b0c3"
      },
      "execution_count": null,
      "outputs": [
        {
          "output_type": "stream",
          "name": "stdout",
          "text": [
            "FFMC: 0.1162\n",
            "DMC: 0.1330\n",
            "DC: 0.1266\n",
            "ISI: 0.1234\n",
            "temp: 0.2023\n",
            "RH: 0.1667\n",
            "wind: 0.1221\n",
            "fire season: 0.0095\n"
          ]
        }
      ]
    },
    {
      "cell_type": "code",
      "source": [
        "def plot_feature_importance(importance, names, model_name):\n",
        "  #create arrays from feature importance and feature names\n",
        "  feature_importance = np.array(importance)\n",
        "  feature_names = np.array(names)\n",
        "\n",
        "  # create a dataframe using a dictionary\n",
        "  data = {'feature_names':feature_names, 'feature_importance':feature_importance}\n",
        "  fi_df = pd.DataFrame(data)\n",
        "  fi_df.sort_values(by=['feature_importance'],ascending = False, inplace=True)\n",
        "\n",
        "  #define size of bar plot\n",
        "  plt.figure(figsize=(10,8))\n",
        "  sns.barplot(x=fi_df['feature_importance'], y = fi_df['feature_names'])\n",
        "  plt.title(model_name + \"FEATURE IMPORTANCE\")\n",
        "\n",
        "  #Add chart labels\n",
        "  plt.xlabel(\"FEATURE IMPORTANCE\")\n",
        "  plt.ylabel(\"FEATURE NAMES\")"
      ],
      "metadata": {
        "id": "8PYeQnJ-beCw"
      },
      "execution_count": null,
      "outputs": []
    },
    {
      "cell_type": "code",
      "source": [
        "plot_feature_importance(feature_importances , names = input_features.columns, model_name= \"RANDOM FORESTS \")"
      ],
      "metadata": {
        "colab": {
          "base_uri": "https://localhost:8080/"
        },
        "id": "9VumOS5ibk25",
        "outputId": "26488ce3-6a0f-4de7-ec54-d827d104351c"
      },
      "execution_count": null,
      "outputs": [
        {
          "output_type": "display_data",
          "data": {
            "text/plain": [
              "<Figure size 1000x800 with 1 Axes>"
            ],
            "image/png": "[encoded data removed]"
          },
          "metadata": {}
        }
      ]
    },
    {
      "cell_type": "code",
      "source": [
        "# drop the fire season column\n",
        "try:\n",
        "  data = data.drop(['fire season'],axis=1)\n",
        "except:\n",
        "  pass"
      ],
      "metadata": {
        "id": "7Oh8lx0rbo1L"
      },
      "execution_count": null,
      "outputs": []
    },
    {
      "cell_type": "code",
      "source": [
        "data.head()"
      ],
      "metadata": {
        "colab": {
          "base_uri": "https://localhost:8080/"
        },
        "id": "XsUMjlKLburC",
        "outputId": "af620776-b5f5-4218-8055-db3c6f6106a5"
      },
      "execution_count": null,
      "outputs": [
        {
          "output_type": "execute_result",
          "data": {
            "text/plain": [
              "       FFMC       DMC        DC       ISI      temp        RH      wind  \\\n",
              "0  0.248407  0.192908  0.039677  0.351356  0.142144  0.651921  0.806892   \n",
              "1  0.467200  0.239852  0.694361  0.429670  0.441072  0.422909  0.133123   \n",
              "2  0.467200  0.278483  0.721297  0.429670  0.330678  0.422909  0.213021   \n",
              "3  0.544509  0.229572  0.029590  0.531138  0.144854  0.984414  0.567348   \n",
              "4  0.388919  0.311561  0.044716  0.555938  0.232855  0.994859  0.296627   \n",
              "\n",
              "   burned  \n",
              "0       0  \n",
              "1       0  \n",
              "2       0  \n",
              "3       0  \n",
              "4       0  "
            ],
            "text/html": [
              "\n",
              "  <div id=\"df-37f23813-9e4e-46a1-8e15-4c0f4df900a2\" class=\"colab-df-container\">\n",
              "    <div>\n",
              "<style scoped>\n",
              "    .dataframe tbody tr th:only-of-type {\n",
              "        vertical-align: middle;\n",
              "    }\n",
              "\n",
              "    .dataframe tbody tr th {\n",
              "        vertical-align: top;\n",
              "    }\n",
              "\n",
              "    .dataframe thead th {\n",
              "        text-align: right;\n",
              "    }\n",
              "</style>\n",
              "<table border=\"1\" class=\"dataframe\">\n",
              "  <thead>\n",
              "    <tr style=\"text-align: right;\">\n",
              "      <th></th>\n",
              "      <th>FFMC</th>\n",
              "      <th>DMC</th>\n",
              "      <th>DC</th>\n",
              "      <th>ISI</th>\n",
              "      <th>temp</th>\n",
              "      <th>RH</th>\n",
              "      <th>wind</th>\n",
              "      <th>burned</th>\n",
              "    </tr>\n",
              "  </thead>\n",
              "  <tbody>\n",
              "    <tr>\n",
              "      <th>0</th>\n",
              "      <td>0.248407</td>\n",
              "      <td>0.192908</td>\n",
              "      <td>0.039677</td>\n",
              "      <td>0.351356</td>\n",
              "      <td>0.142144</td>\n",
              "      <td>0.651921</td>\n",
              "      <td>0.806892</td>\n",
              "      <td>0</td>\n",
              "    </tr>\n",
              "    <tr>\n",
              "      <th>1</th>\n",
              "      <td>0.467200</td>\n",
              "      <td>0.239852</td>\n",
              "      <td>0.694361</td>\n",
              "      <td>0.429670</td>\n",
              "      <td>0.441072</td>\n",
              "      <td>0.422909</td>\n",
              "      <td>0.133123</td>\n",
              "      <td>0</td>\n",
              "    </tr>\n",
              "    <tr>\n",
              "      <th>2</th>\n",
              "      <td>0.467200</td>\n",
              "      <td>0.278483</td>\n",
              "      <td>0.721297</td>\n",
              "      <td>0.429670</td>\n",
              "      <td>0.330678</td>\n",
              "      <td>0.422909</td>\n",
              "      <td>0.213021</td>\n",
              "      <td>0</td>\n",
              "    </tr>\n",
              "    <tr>\n",
              "      <th>3</th>\n",
              "      <td>0.544509</td>\n",
              "      <td>0.229572</td>\n",
              "      <td>0.029590</td>\n",
              "      <td>0.531138</td>\n",
              "      <td>0.144854</td>\n",
              "      <td>0.984414</td>\n",
              "      <td>0.567348</td>\n",
              "      <td>0</td>\n",
              "    </tr>\n",
              "    <tr>\n",
              "      <th>4</th>\n",
              "      <td>0.388919</td>\n",
              "      <td>0.311561</td>\n",
              "      <td>0.044716</td>\n",
              "      <td>0.555938</td>\n",
              "      <td>0.232855</td>\n",
              "      <td>0.994859</td>\n",
              "      <td>0.296627</td>\n",
              "      <td>0</td>\n",
              "    </tr>\n",
              "  </tbody>\n",
              "</table>\n",
              "</div>\n",
              "    <div class=\"colab-df-buttons\">\n",
              "\n",
              "  <div class=\"colab-df-container\">\n",
              "    <button class=\"colab-df-convert\" onclick=\"convertToInteractive('df-37f23813-9e4e-46a1-8e15-4c0f4df900a2')\"\n",
              "            title=\"Convert this dataframe to an interactive table.\"\n",
              "            style=\"display:none;\">\n",
              "\n",
              "  <svg xmlns=\"http://www.w3.org/2000/svg\" height=\"24px\" viewBox=\"0 -960 960 960\">\n",
              "    <path d=\"M120-120v-720h720v720H120Zm60-500h600v-160H180v160Zm220 220h160v-160H400v160Zm0 220h160v-160H400v160ZM180-400h160v-160H180v160Zm440 0h160v-160H620v160ZM180-180h160v-160H180v160Zm440 0h160v-160H620v160Z\"/>\n",
              "  </svg>\n",
              "    </button>\n",
              "\n",
              "  <style>\n",
              "    .colab-df-container {\n",
              "      display:flex;\n",
              "      gap: 12px;\n",
              "    }\n",
              "\n",
              "    .colab-df-convert {\n",
              "      background-color: #E8F0FE;\n",
              "      border: none;\n",
              "      border-radius: 50%;\n",
              "      cursor: pointer;\n",
              "      display: none;\n",
              "      fill: #1967D2;\n",
              "      height: 32px;\n",
              "      padding: 0 0 0 0;\n",
              "      width: 32px;\n",
              "    }\n",
              "\n",
              "    .colab-df-convert:hover {\n",
              "      background-color: #E2EBFA;\n",
              "      box-shadow: 0px 1px 2px rgba(60, 64, 67, 0.3), 0px 1px 3px 1px rgba(60, 64, 67, 0.15);\n",
              "      fill: #174EA6;\n",
              "    }\n",
              "\n",
              "    .colab-df-buttons div {\n",
              "      margin-bottom: 4px;\n",
              "    }\n",
              "\n",
              "    [theme=dark] .colab-df-convert {\n",
              "      background-color: #3B4455;\n",
              "      fill: #D2E3FC;\n",
              "    }\n",
              "\n",
              "    [theme=dark] .colab-df-convert:hover {\n",
              "      background-color: #434B5C;\n",
              "      box-shadow: 0px 1px 3px 1px rgba(0, 0, 0, 0.15);\n",
              "      filter: drop-shadow(0px 1px 2px rgba(0, 0, 0, 0.3));\n",
              "      fill: #FFFFFF;\n",
              "    }\n",
              "  </style>\n",
              "\n",
              "    <script>\n",
              "      const buttonEl =\n",
              "        document.querySelector('#df-37f23813-9e4e-46a1-8e15-4c0f4df900a2 button.colab-df-convert');\n",
              "      buttonEl.style.display =\n",
              "        google.colab.kernel.accessAllowed ? 'block' : 'none';\n",
              "\n",
              "      async function convertToInteractive(key) {\n",
              "        const element = document.querySelector('#df-37f23813-9e4e-46a1-8e15-4c0f4df900a2');\n",
              "        const dataTable =\n",
              "          await google.colab.kernel.invokeFunction('convertToInteractive',\n",
              "                                                    [key], {});\n",
              "        if (!dataTable) return;\n",
              "\n",
              "        const docLinkHtml = 'Like what you see? Visit the ' +\n",
              "          '<a target=\"_blank\" href=https://colab.research.google.com/notebooks/data_table.ipynb>data table notebook</a>'\n",
              "          + ' to learn more about interactive tables.';\n",
              "        element.innerHTML = '';\n",
              "        dataTable['output_type'] = 'display_data';\n",
              "        await google.colab.output.renderOutput(dataTable, element);\n",
              "        const docLink = document.createElement('div');\n",
              "        docLink.innerHTML = docLinkHtml;\n",
              "        element.appendChild(docLink);\n",
              "      }\n",
              "    </script>\n",
              "  </div>\n",
              "\n",
              "\n",
              "<div id=\"df-7c9a4cef-17d3-4a52-bb79-48dbcf22e893\">\n",
              "  <button class=\"colab-df-quickchart\" onclick=\"quickchart('df-7c9a4cef-17d3-4a52-bb79-48dbcf22e893')\"\n",
              "            title=\"Suggest charts\"\n",
              "            style=\"display:none;\">\n",
              "\n",
              "<svg xmlns=\"http://www.w3.org/2000/svg\" height=\"24px\"viewBox=\"0 0 24 24\"\n",
              "     width=\"24px\">\n",
              "    <g>\n",
              "        <path d=\"M19 3H5c-1.1 0-2 .9-2 2v14c0 1.1.9 2 2 2h14c1.1 0 2-.9 2-2V5c0-1.1-.9-2-2-2zM9 17H7v-7h2v7zm4 0h-2V7h2v10zm4 0h-2v-4h2v4z\"/>\n",
              "    </g>\n",
              "</svg>\n",
              "  </button>\n",
              "\n",
              "<style>\n",
              "  .colab-df-quickchart {\n",
              "      --bg-color: #E8F0FE;\n",
              "      --fill-color: #1967D2;\n",
              "      --hover-bg-color: #E2EBFA;\n",
              "      --hover-fill-color: #174EA6;\n",
              "      --disabled-fill-color: #AAA;\n",
              "      --disabled-bg-color: #DDD;\n",
              "  }\n",
              "\n",
              "  [theme=dark] .colab-df-quickchart {\n",
              "      --bg-color: #3B4455;\n",
              "      --fill-color: #D2E3FC;\n",
              "      --hover-bg-color: #434B5C;\n",
              "      --hover-fill-color: #FFFFFF;\n",
              "      --disabled-bg-color: #3B4455;\n",
              "      --disabled-fill-color: #666;\n",
              "  }\n",
              "\n",
              "  .colab-df-quickchart {\n",
              "    background-color: var(--bg-color);\n",
              "    border: none;\n",
              "    border-radius: 50%;\n",
              "    cursor: pointer;\n",
              "    display: none;\n",
              "    fill: var(--fill-color);\n",
              "    height: 32px;\n",
              "    padding: 0;\n",
              "    width: 32px;\n",
              "  }\n",
              "\n",
              "  .colab-df-quickchart:hover {\n",
              "    background-color: var(--hover-bg-color);\n",
              "    box-shadow: 0 1px 2px rgba(60, 64, 67, 0.3), 0 1px 3px 1px rgba(60, 64, 67, 0.15);\n",
              "    fill: var(--button-hover-fill-color);\n",
              "  }\n",
              "\n",
              "  .colab-df-quickchart-complete:disabled,\n",
              "  .colab-df-quickchart-complete:disabled:hover {\n",
              "    background-color: var(--disabled-bg-color);\n",
              "    fill: var(--disabled-fill-color);\n",
              "    box-shadow: none;\n",
              "  }\n",
              "\n",
              "  .colab-df-spinner {\n",
              "    border: 2px solid var(--fill-color);\n",
              "    border-color: transparent;\n",
              "    border-bottom-color: var(--fill-color);\n",
              "    animation:\n",
              "      spin 1s steps(1) infinite;\n",
              "  }\n",
              "\n",
              "  @keyframes spin {\n",
              "    0% {\n",
              "      border-color: transparent;\n",
              "      border-bottom-color: var(--fill-color);\n",
              "      border-left-color: var(--fill-color);\n",
              "    }\n",
              "    20% {\n",
              "      border-color: transparent;\n",
              "      border-left-color: var(--fill-color);\n",
              "      border-top-color: var(--fill-color);\n",
              "    }\n",
              "    30% {\n",
              "      border-color: transparent;\n",
              "      border-left-color: var(--fill-color);\n",
              "      border-top-color: var(--fill-color);\n",
              "      border-right-color: var(--fill-color);\n",
              "    }\n",
              "    40% {\n",
              "      border-color: transparent;\n",
              "      border-right-color: var(--fill-color);\n",
              "      border-top-color: var(--fill-color);\n",
              "    }\n",
              "    60% {\n",
              "      border-color: transparent;\n",
              "      border-right-color: var(--fill-color);\n",
              "    }\n",
              "    80% {\n",
              "      border-color: transparent;\n",
              "      border-right-color: var(--fill-color);\n",
              "      border-bottom-color: var(--fill-color);\n",
              "    }\n",
              "    90% {\n",
              "      border-color: transparent;\n",
              "      border-bottom-color: var(--fill-color);\n",
              "    }\n",
              "  }\n",
              "</style>\n",
              "\n",
              "  <script>\n",
              "    async function quickchart(key) {\n",
              "      const quickchartButtonEl =\n",
              "        document.querySelector('#' + key + ' button');\n",
              "      quickchartButtonEl.disabled = true;  // To prevent multiple clicks.\n",
              "      quickchartButtonEl.classList.add('colab-df-spinner');\n",
              "      try {\n",
              "        const charts = await google.colab.kernel.invokeFunction(\n",
              "            'suggestCharts', [key], {});\n",
              "      } catch (error) {\n",
              "        console.error('Error during call to suggestCharts:', error);\n",
              "      }\n",
              "      quickchartButtonEl.classList.remove('colab-df-spinner');\n",
              "      quickchartButtonEl.classList.add('colab-df-quickchart-complete');\n",
              "    }\n",
              "    (() => {\n",
              "      let quickchartButtonEl =\n",
              "        document.querySelector('#df-7c9a4cef-17d3-4a52-bb79-48dbcf22e893 button');\n",
              "      quickchartButtonEl.style.display =\n",
              "        google.colab.kernel.accessAllowed ? 'block' : 'none';\n",
              "    })();\n",
              "  </script>\n",
              "</div>\n",
              "\n",
              "    </div>\n",
              "  </div>\n"
            ],
            "application/vnd.google.colaboratory.intrinsic+json": {
              "type": "dataframe",
              "variable_name": "data",
              "summary": "{\n  \"name\": \"data\",\n  \"rows\": 516,\n  \"fields\": [\n    {\n      \"column\": \"FFMC\",\n      \"properties\": {\n        \"dtype\": \"number\",\n        \"std\": 0.19430574724860805,\n        \"min\": 0.0,\n        \"max\": 1.0,\n        \"num_unique_values\": 106,\n        \"samples\": [\n          0.961143865675864,\n          0.4872133387462407,\n          0.5914848099886225\n        ],\n        \"semantic_type\": \"\",\n        \"description\": \"\"\n      }\n    },\n    {\n      \"column\": \"DMC\",\n      \"properties\": {\n        \"dtype\": \"number\",\n        \"std\": 0.21470309643853283,\n        \"min\": 0.0,\n        \"max\": 1.0,\n        \"num_unique_values\": 214,\n        \"samples\": [\n          0.4512678871106586,\n          0.351685775778275,\n          0.4916671434169784\n        ],\n        \"semantic_type\": \"\",\n        \"description\": \"\"\n      }\n    },\n    {\n      \"column\": \"DC\",\n      \"properties\": {\n        \"dtype\": \"number\",\n        \"std\": 0.29146195166252636,\n        \"min\": 0.0,\n        \"max\": 1.0,\n        \"num_unique_values\": 218,\n        \"samples\": [\n          0.5545684623568724,\n          0.6891019808165283,\n          0.9111957146770673\n        ],\n        \"semantic_type\": \"\",\n        \"description\": \"\"\n      }\n    },\n    {\n      \"column\": \"ISI\",\n      \"properties\": {\n        \"dtype\": \"number\",\n        \"std\": 0.17241873100451172,\n        \"min\": 0.0,\n        \"max\": 1.0,\n        \"num_unique_values\": 118,\n        \"samples\": [\n          0.3716694656319743,\n          0.47071232204875085,\n          0.7469461877523071\n        ],\n        \"semantic_type\": \"\",\n        \"description\": \"\"\n      }\n    },\n    {\n      \"column\": \"temp\",\n      \"properties\": {\n        \"dtype\": \"number\",\n        \"std\": 0.19170968798392116,\n        \"min\": 0.0,\n        \"max\": 1.0,\n        \"num_unique_values\": 192,\n        \"samples\": [\n          0.2447239050992366,\n          0.05584673243758245,\n          0.5018770694410939\n        ],\n        \"semantic_type\": \"\",\n        \"description\": \"\"\n      }\n    },\n    {\n      \"column\": \"RH\",\n      \"properties\": {\n        \"dtype\": \"number\",\n        \"std\": 0.19010027711949948,\n        \"min\": 0.0,\n        \"max\": 1.0000000000000002,\n        \"num_unique_values\": 75,\n        \"samples\": [\n          0.35432346408799953,\n          0.7452033249014163,\n          0.8311093578673632\n        ],\n        \"semantic_type\": \"\",\n        \"description\": \"\"\n      }\n    },\n    {\n      \"column\": \"wind\",\n      \"properties\": {\n        \"dtype\": \"number\",\n        \"std\": 0.18610139535583972,\n        \"min\": 0.0,\n        \"max\": 1.0,\n        \"num_unique_values\": 21,\n        \"samples\": [\n          0.8068922998958642,\n          0.9392595513593271,\n          0.775062143305033\n        ],\n        \"semantic_type\": \"\",\n        \"description\": \"\"\n      }\n    },\n    {\n      \"column\": \"burned\",\n      \"properties\": {\n        \"dtype\": \"number\",\n        \"std\": 0,\n        \"min\": 0,\n        \"max\": 1,\n        \"num_unique_values\": 2,\n        \"samples\": [\n          1,\n          0\n        ],\n        \"semantic_type\": \"\",\n        \"description\": \"\"\n      }\n    }\n  ]\n}"
            }
          },
          "metadata": {},
          "execution_count": 61
        }
      ]
    },
    {
      "cell_type": "markdown",
      "source": [
        "We first created a random forest model without setting any hyperparameters (with the exception of n_estimators for computational efficiency). We did this in order to take advantage of the built in variable importance methods, so we can eliminate unneeded features. The fire season column has extremely low (around 0.01) variable importance compared to the other features, which are each at least ten times more important, so we decided to eliminate it."
      ],
      "metadata": {
        "id": "ZpHXeaOSHJFN"
      }
    },
    {
      "cell_type": "markdown",
      "source": [
        "###Hyperparameter Tuning"
      ],
      "metadata": {
        "id": "AwhQbN3sbweS"
      }
    },
    {
      "cell_type": "markdown",
      "source": [
        "Criterion determines which metric we will use to measure the purity of a node, max depth determines how many levels of nodes each tree can have, min samples split determines the minimum number of samples required to split an internal node, and max features determines the number of features to consider when looking for the best split."
      ],
      "metadata": {
        "id": "6DzEVmWOCZQU"
      }
    },
    {
      "cell_type": "code",
      "source": [
        "# parameters to be considered in the grid search\n",
        "params = {\n",
        "    'criterion': ['gini', 'entropy', 'log_loss'],\n",
        "    'max_depth': np.arange(1,10,1),\n",
        "    'min_samples_split': np.arange(2,10,1),\n",
        "    'max_features': ['sqrt', 'log2', None]\n",
        "}"
      ],
      "metadata": {
        "id": "MM5AcrfNbzA5"
      },
      "execution_count": null,
      "outputs": []
    },
    {
      "cell_type": "code",
      "source": [
        "from sklearn.model_selection import StratifiedKFold\n",
        "skf = StratifiedKFold(n_splits=5, random_state=12, shuffle=True)"
      ],
      "metadata": {
        "id": "JkImIwF_cFkU"
      },
      "execution_count": null,
      "outputs": []
    },
    {
      "cell_type": "markdown",
      "source": [
        "###Evil Grid Search (Do not run this if you don't have 5-10 mins to kill)"
      ],
      "metadata": {
        "id": "5XT52WG5cQZa"
      }
    },
    {
      "cell_type": "code",
      "source": [
        "from sklearn.model_selection import GridSearchCV\n",
        "\n",
        "# Create a Grid Search object\n",
        "grid_search = GridSearchCV(estimator=RF_classifier, param_grid=params, cv=skf, scoring='accuracy')\n",
        "\n",
        "# Fit the Grid Search to the training data\n",
        "grid_search.fit(X_train, y_train)\n",
        "\n",
        "# Get the best hyperparameters from Grid Search\n",
        "best_params_grid = grid_search.best_params_\n",
        "best_score_grid = grid_search.best_score_"
      ],
      "metadata": {
        "id": "2sFe7bfQcHxp"
      },
      "execution_count": null,
      "outputs": []
    },
    {
      "cell_type": "code",
      "source": [
        "print(best_params_grid)\n",
        "print(best_score_grid)"
      ],
      "metadata": {
        "id": "8ONgHhulcOSX",
        "colab": {
          "base_uri": "https://localhost:8080/"
        },
        "outputId": "4082a6dc-10ec-4f97-fa09-ea182c66ed90"
      },
      "execution_count": null,
      "outputs": [
        {
          "output_type": "stream",
          "name": "stdout",
          "text": [
            "{'criterion': 'log_loss', 'max_depth': 1, 'max_features': None, 'min_samples_split': 9}\n",
            "0.5825741992359682\n"
          ]
        }
      ]
    },
    {
      "cell_type": "markdown",
      "source": [
        "We conducted a grid search using Stratified K-fold cross validation in order to find the optimal hyperparameters for our random forest model. We concluded that the following hyperparameters were best: criterion = 'gini', max_depth = 2, max_features = None, min_samples_split = 3"
      ],
      "metadata": {
        "id": "eWkMPB2POLFK"
      }
    },
    {
      "cell_type": "markdown",
      "source": [
        "###Hyperparameter Tuning (cont'd) & Pruning"
      ],
      "metadata": {
        "id": "DFs-d1zWcm2_"
      }
    },
    {
      "cell_type": "markdown",
      "source": [
        "{'criterion': 'gini', 'max_depth': 2, 'max_features': None, 'min_samples_split': 3}\n",
        "\n",
        "Best Score: 0.5752571260652366"
      ],
      "metadata": {
        "id": "VHEqSaWzcg8B"
      }
    },
    {
      "cell_type": "code",
      "source": [
        "RF_classifier_2 =  RandomForestClassifier(n_estimators=40, criterion='gini', min_samples_split=3)\n",
        "RF_classifier_2.fit(X_test, y_test)\n",
        "y_pred = RF_classifier_2.predict(X_test)\n",
        "print(accuracy_score(y_test, y_pred))"
      ],
      "metadata": {
        "colab": {
          "base_uri": "https://localhost:8080/"
        },
        "id": "kPzIrX3OcirU",
        "outputId": "df226b91-fd13-4ca0-b04d-654242369147"
      },
      "execution_count": null,
      "outputs": [
        {
          "output_type": "stream",
          "name": "stdout",
          "text": [
            "0.9903846153846154\n"
          ]
        }
      ]
    },
    {
      "cell_type": "markdown",
      "source": [
        "Since hyperparameter tuning resulted in a max depth of 2 (which seems odd), we wanted to apply methods of pruning to see whether there are other max depth values that would benefit the model without causing overfitting. We will also perform pruning for the hyperparameter min_samples_leaf"
      ],
      "metadata": {
        "id": "Ct9lIyyHDXKd"
      }
    },
    {
      "cell_type": "code",
      "source": [
        "RF_classifier_2.fit(X_train, y_train)\n",
        "for x in range(5,100,5):\n",
        "  RF_classifier_2.set_params(max_depth=x)\n",
        "\n",
        "  # Evaluate the pruned Random Forest model\n",
        "  accuracy = RF_classifier_2.score(X_train, y_train)\n",
        "  print(RF_classifier_2.get_params()['max_depth'])\n",
        "  print(\"Accuracy of pruned Random Forest:\", accuracy)"
      ],
      "metadata": {
        "colab": {
          "base_uri": "https://localhost:8080/"
        },
        "id": "ymBtVzh5ckOg",
        "outputId": "0001898f-6173-48e1-c5dd-e6792b095117"
      },
      "execution_count": null,
      "outputs": [
        {
          "output_type": "stream",
          "name": "stdout",
          "text": [
            "5\n",
            "Accuracy of pruned Random Forest: 0.9733009708737864\n",
            "10\n",
            "Accuracy of pruned Random Forest: 0.9733009708737864\n",
            "15\n",
            "Accuracy of pruned Random Forest: 0.9733009708737864\n",
            "20\n",
            "Accuracy of pruned Random Forest: 0.9733009708737864\n",
            "25\n",
            "Accuracy of pruned Random Forest: 0.9733009708737864\n",
            "30\n",
            "Accuracy of pruned Random Forest: 0.9733009708737864\n",
            "35\n",
            "Accuracy of pruned Random Forest: 0.9733009708737864\n",
            "40\n",
            "Accuracy of pruned Random Forest: 0.9733009708737864\n",
            "45\n",
            "Accuracy of pruned Random Forest: 0.9733009708737864\n",
            "50\n",
            "Accuracy of pruned Random Forest: 0.9733009708737864\n",
            "55\n",
            "Accuracy of pruned Random Forest: 0.9733009708737864\n",
            "60\n",
            "Accuracy of pruned Random Forest: 0.9733009708737864\n",
            "65\n",
            "Accuracy of pruned Random Forest: 0.9733009708737864\n",
            "70\n",
            "Accuracy of pruned Random Forest: 0.9733009708737864\n",
            "75\n",
            "Accuracy of pruned Random Forest: 0.9733009708737864\n",
            "80\n",
            "Accuracy of pruned Random Forest: 0.9733009708737864\n",
            "85\n",
            "Accuracy of pruned Random Forest: 0.9733009708737864\n",
            "90\n",
            "Accuracy of pruned Random Forest: 0.9733009708737864\n",
            "95\n",
            "Accuracy of pruned Random Forest: 0.9733009708737864\n"
          ]
        }
      ]
    },
    {
      "cell_type": "code",
      "source": [
        "for x in range(1,10):\n",
        "  RF_classifier_2.set_params(min_samples_leaf=x)\n",
        "\n",
        "  # Evaluate the pruned Random Forest model\n",
        "  accuracy = RF_classifier_2.score(X_train, y_train)\n",
        "  print(RF_classifier_2.get_params()['min_samples_leaf'])\n",
        "  print(\"Accuracy of pruned Random Forest:\", accuracy)"
      ],
      "metadata": {
        "colab": {
          "base_uri": "https://localhost:8080/"
        },
        "id": "cQLdLCMrclts",
        "outputId": "68e1aaeb-fe72-40a0-bccb-36eb5c0d360e"
      },
      "execution_count": null,
      "outputs": [
        {
          "output_type": "stream",
          "name": "stdout",
          "text": [
            "1\n",
            "Accuracy of pruned Random Forest: 0.9733009708737864\n",
            "2\n",
            "Accuracy of pruned Random Forest: 0.9733009708737864\n",
            "3\n",
            "Accuracy of pruned Random Forest: 0.9733009708737864\n",
            "4\n",
            "Accuracy of pruned Random Forest: 0.9733009708737864\n",
            "5\n",
            "Accuracy of pruned Random Forest: 0.9733009708737864\n",
            "6\n",
            "Accuracy of pruned Random Forest: 0.9733009708737864\n",
            "7\n",
            "Accuracy of pruned Random Forest: 0.9733009708737864\n",
            "8\n",
            "Accuracy of pruned Random Forest: 0.9733009708737864\n",
            "9\n",
            "Accuracy of pruned Random Forest: 0.9733009708737864\n"
          ]
        }
      ]
    },
    {
      "cell_type": "markdown",
      "source": [
        "It seems as if pruning has no effect on the model (with respect to the parameters max_depth and min_samples_leaf). Therefore, we will set both to their default values: there will be no max_depth (the model is most likely not overfitting and can deal with a large max_depth), and min_samples_leaf will be its minimum value, 1."
      ],
      "metadata": {
        "id": "R5fDdlPcD2Ru"
      }
    },
    {
      "cell_type": "code",
      "source": [
        "RF_classifier_2.set_params(max_depth=None,min_samples_leaf=1)\n",
        "RF_classifier_2.get_params()"
      ],
      "metadata": {
        "colab": {
          "base_uri": "https://localhost:8080/"
        },
        "id": "FV8faVdjcpyP",
        "outputId": "4d8a1a66-8c20-4f99-e560-4ad11d261ae4"
      },
      "execution_count": null,
      "outputs": [
        {
          "output_type": "execute_result",
          "data": {
            "text/plain": [
              "{'bootstrap': True,\n",
              " 'ccp_alpha': 0.0,\n",
              " 'class_weight': None,\n",
              " 'criterion': 'gini',\n",
              " 'max_depth': None,\n",
              " 'max_features': 'sqrt',\n",
              " 'max_leaf_nodes': None,\n",
              " 'max_samples': None,\n",
              " 'min_impurity_decrease': 0.0,\n",
              " 'min_samples_leaf': 1,\n",
              " 'min_samples_split': 3,\n",
              " 'min_weight_fraction_leaf': 0.0,\n",
              " 'n_estimators': 40,\n",
              " 'n_jobs': None,\n",
              " 'oob_score': False,\n",
              " 'random_state': None,\n",
              " 'verbose': 0,\n",
              " 'warm_start': False}"
            ]
          },
          "metadata": {},
          "execution_count": 75
        }
      ]
    },
    {
      "cell_type": "code",
      "source": [
        "RF_classifier_2.fit(X_train,y_train)\n",
        "y_train_pred = RF_classifier_2.predict(X_train)\n",
        "print(f'Accuracy: {accuracy_score(y_train, y_train_pred)}')\n",
        "print(f'Precision: {precision_score(y_train, y_train_pred)}')\n",
        "print(f'Recall: {recall_score(y_train, y_train_pred)}')\n",
        "print(f'F1 Score: {f1_score(y_train, y_train_pred)}')\n",
        "print(f'ROC AUC: {roc_auc_score(y_train, y_train_pred)}')\n",
        "print(f'Log Loss: {log_loss(y_train, y_train_pred)}')"
      ],
      "metadata": {
        "colab": {
          "base_uri": "https://localhost:8080/"
        },
        "id": "rO_2wD0UcrSK",
        "outputId": "3a18fa2b-4b34-4713-8b8d-c97bea7dc72a"
      },
      "execution_count": null,
      "outputs": [
        {
          "output_type": "stream",
          "name": "stdout",
          "text": [
            "Accuracy: 0.9660194174757282\n",
            "Precision: 0.9809523809523809\n",
            "Recall: 0.9537037037037037\n",
            "F1 Score: 0.9671361502347416\n",
            "ROC AUC: 0.9666477702191988\n",
            "Log Loss: 1.224784338465146\n"
          ]
        }
      ]
    },
    {
      "cell_type": "code",
      "source": [
        "RF_classifier_2.fit(X_test,y_test)\n",
        "y_pred = RF_classifier_2.predict(X_test)\n",
        "print(f'Accuracy: {accuracy_score(y_test, y_pred)}')\n",
        "print(f'Precision: {precision_score(y_test, y_pred)}')\n",
        "print(f'Recall: {recall_score(y_test, y_pred)}')\n",
        "print(f'F1 Score: {f1_score(y_test, y_pred)}')\n",
        "print(f'ROC AUC: {roc_auc_score(y_test, y_pred)}')\n",
        "print(f'Log Loss: {log_loss(y_test, y_pred)}')"
      ],
      "metadata": {
        "colab": {
          "base_uri": "https://localhost:8080/"
        },
        "id": "ycfDKKsUcsuO",
        "outputId": "17758151-22fd-41bb-9781-f2fcd11f17ba"
      },
      "execution_count": null,
      "outputs": [
        {
          "output_type": "stream",
          "name": "stdout",
          "text": [
            "Accuracy: 0.9807692307692307\n",
            "Precision: 0.9642857142857143\n",
            "Recall: 1.0\n",
            "F1 Score: 0.9818181818181818\n",
            "ROC AUC: 0.98\n",
            "Log Loss: 0.6931471805599454\n"
          ]
        }
      ]
    },
    {
      "cell_type": "markdown",
      "source": [
        "The results of Random Forest are significant! Accuracy, precision, recall, F1 score, and ROC-AUC are near 1, and log loss is near 0. Not only is this true for our train set, but also for our test set, meaning that our model is not overfitting."
      ],
      "metadata": {
        "id": "Pn0_2aacESWZ"
      }
    },
    {
      "cell_type": "markdown",
      "source": [
        "##Conclusions:"
      ],
      "metadata": {
        "id": "8PgTELg4WMy8"
      }
    },
    {
      "cell_type": "markdown",
      "source": [
        "####Summary of Findings:\n",
        "\n",
        "We determined that weather factors such as temperature, relative humidity, and windspeed, combined with FWI metrics, are very effective in predicting whether an area will be burned in a forest fire. Temporal metrics proved to be mostly irrelevant, likely in part due to the data collection method of our dataset: each time a forest fire was recorded somewhere in the park, data was collected in every single forest quadrant. In other words, the frequency of fires during different seasons was not relevant because all data was taken from a point in time during which there was an active fire in some part of the park.\n",
        "\n",
        "See: http://www3.dsi.uminho.pt/pcortez/fires.pdf for data collection information"
      ],
      "metadata": {
        "id": "Km6wC55rZKIG"
      }
    },
    {
      "cell_type": "markdown",
      "source": [
        "####Insights and Interpretation:\n",
        "\n",
        "We believe that this model and our findings can be generalized to other large forests of similar composition and climate, though some analysis should be done to conclusively study how well the model performs in areas with drastically different climate and/or forest composition. From the work we have done, we cannot confidently assess this particular question without further research and testing on other datasets.\n",
        "\n",
        "We concluded that this model would be of particular use in remote areas with limited fire prevention and response resources. In these scenarios, determining which areas of a large forest are likely to be burned based on weather and FWI data can be used a useful tool for smart resource allocation, allowing local and government agencies to prioritize areas of forest that are more likely to need human intervention in order to prevent, slow, and eradicate forest fires."
      ],
      "metadata": {
        "id": "ahZgwjymaZJQ"
      }
    },
    {
      "cell_type": "markdown",
      "source": [
        "####Limitations:\n",
        "As discussed above, this model cannot necessarily be applied to forests or other ecosystems that are very different in climate or composition compared to the forest analyzed in this exploration. This is due to how fire spread metrics and weather conditions may differ in their interactions in an ecosystem with drastically different flora and fauna. In particular, the presence or absence of duff and brush layers would likely be heavy contributors to these differences, due to their roles in early stage wildfire spread.\n",
        "\n",
        "The other main limitation of our model is in how our data was collected. As mentioned above, data was collected whenever a forest fire was present somewhere in the park. This means that we lack data from times when no fire was present anywhere in the park, so we cannot generalize our findings to data where no fire is present in the immediate geographic area."
      ],
      "metadata": {
        "id": "hYarKoLXcLNA"
      }
    },
    {
      "cell_type": "markdown",
      "source": [
        "####Future work:\n",
        "In the future, we would like to examine the impact of similar metrics in other datasets featuring different climates and forest compositions. This would allow us to better generalize our findings to a wide variety of forests worldwide, and understand how interactions between our environmental variables change or remain constant in different areas. We would also like to explore the temporal aspect of this data more in depth, though this would require a different method of data collection, such as using environmental (weather and FWI) data taken at regular intervals throughout a long period of time. We would like to explore the impact of different times of year (which have different weather patterns) on forest fires, but also analyze how forest fire frequency and severity has changed over the past few decades. This would allow us to look at climate patterns as a whole, confronting the overall impact of climate change on forest fire frequency and intensity."
      ],
      "metadata": {
        "id": "YDJWLCHddqm4"
      }
    }
  ]
}