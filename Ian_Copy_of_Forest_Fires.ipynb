{
  "nbformat": 4,
  "nbformat_minor": 0,
  "metadata": {
    "colab": {
      "provenance": []
    },
    "kernelspec": {
      "name": "python3",
      "display_name": "Python 3"
    },
    "language_info": {
      "name": "python"
    }
  },
  "cells": [
    {
      "cell_type": "markdown",
      "source": [
        "###Introduction to Data"
      ],
      "metadata": {
        "id": "xqkr6Q_BHwCO"
      }
    },
    {
      "cell_type": "markdown",
      "source": [
        "Variables:\n",
        "- X: x-axis coordinate within the park (int, 1-9)\n",
        "- Y: y-axis coordinate within the park (int, 2-9)\n",
        "- month: month of the year (string)\n",
        "- day: day of the week (string)\n",
        "- FFMC: Fine Fuel Moisture Code, moisture content in litter and other fine fuels. Indicates how easily fine fuel ignites and burns. (double)\n",
        "- DMC: Duff Moisture Code, moisture content in duff (coniferous needles, lightly compacted on the ground, see: https://en.wikipedia.org/wiki/Wildfire#Spread) (double).\n",
        "- DC: Drought Code, avg moisture of deep, organic layers. Useful to understand drought effects on fuel in forest\n",
        "- ISI: Initial Spread Index, expected rate of fire spread, based on wind and FFMC, but does not take fuel types into account\n",
        "- temp: temperature in degrees Celsius\n",
        "- RH: relative humidity, %\n",
        "- wind: wind speed, km/h\n",
        "- rain: amount of rain in millimeters/square meter\n",
        "- area: TARGET VARIABLE, the burned area of the forest sector in hectares (10,000 square meters, 1/100th of a square kilometer)\n",
        "\n",
        "\n",
        "Additionally, see https://cwfis.cfs.nrcan.gc.ca/background/summary/fwi\n",
        "https://archive.ics.uci.edu/dataset/162/forest+fires"
      ],
      "metadata": {
        "id": "iNX1gUGsRO6O"
      }
    },
    {
      "cell_type": "markdown",
      "source": [
        "Persona: Our aim is to calculate the risk of forest fires and predict whether an area, given certain environmental factors, is likely to be heavily affected by fire. Although our dataset only includes data on one park, the results of this project can be applied to other forest locations as we build up a comprehensive understanding of our data variables and their impact on forest fire predictions."
      ],
      "metadata": {
        "id": "geLElkNm9Y9e"
      }
    },
    {
      "cell_type": "code",
      "execution_count": 1,
      "metadata": {
        "id": "yyvqNa4UNV1v",
        "colab": {
          "base_uri": "https://localhost:8080/"
        },
        "outputId": "14a4d545-4911-43d4-f368-bf60418ccd85"
      },
      "outputs": [
        {
          "output_type": "stream",
          "name": "stdout",
          "text": [
            "Drive already mounted at /content/drive; to attempt to forcibly remount, call drive.mount(\"/content/drive\", force_remount=True).\n"
          ]
        }
      ],
      "source": [
        "from google.colab import drive\n",
        "drive.mount('/content/drive')"
      ]
    },
    {
      "cell_type": "code",
      "source": [
        "import os\n",
        "os.chdir(\"drive/MyDrive/Ian_PBIML\")"
      ],
      "metadata": {
        "id": "xMIW2gh1A4_r"
      },
      "execution_count": 2,
      "outputs": []
    },
    {
      "cell_type": "code",
      "source": [
        "import pandas as pd\n",
        "import numpy as np\n",
        "\n",
        "data = pd.read_csv('forestfires.csv')"
      ],
      "metadata": {
        "id": "EtRxXCYIBJpa"
      },
      "execution_count": 3,
      "outputs": []
    },
    {
      "cell_type": "code",
      "source": [
        "data.head()"
      ],
      "metadata": {
        "colab": {
          "base_uri": "https://localhost:8080/",
          "height": 206
        },
        "id": "gDyBAt5zBL2t",
        "outputId": "29decfa5-bc80-443b-aaa4-c7d54c9b3b6b"
      },
      "execution_count": 4,
      "outputs": [
        {
          "output_type": "execute_result",
          "data": {
            "text/plain": [
              "   X  Y month  day  FFMC   DMC     DC  ISI  temp  RH  wind  rain  area\n",
              "0  7  5   mar  fri  86.2  26.2   94.3  5.1   8.2  51   6.7   0.0   0.0\n",
              "1  7  4   oct  tue  90.6  35.4  669.1  6.7  18.0  33   0.9   0.0   0.0\n",
              "2  7  4   oct  sat  90.6  43.7  686.9  6.7  14.6  33   1.3   0.0   0.0\n",
              "3  8  6   mar  fri  91.7  33.3   77.5  9.0   8.3  97   4.0   0.2   0.0\n",
              "4  8  6   mar  sun  89.3  51.3  102.2  9.6  11.4  99   1.8   0.0   0.0"
            ],
            "text/html": [
              "\n",
              "  <div id=\"df-3dc4ed63-5585-44cb-aa89-636ae05bfc5c\" class=\"colab-df-container\">\n",
              "    <div>\n",
              "<style scoped>\n",
              "    .dataframe tbody tr th:only-of-type {\n",
              "        vertical-align: middle;\n",
              "    }\n",
              "\n",
              "    .dataframe tbody tr th {\n",
              "        vertical-align: top;\n",
              "    }\n",
              "\n",
              "    .dataframe thead th {\n",
              "        text-align: right;\n",
              "    }\n",
              "</style>\n",
              "<table border=\"1\" class=\"dataframe\">\n",
              "  <thead>\n",
              "    <tr style=\"text-align: right;\">\n",
              "      <th></th>\n",
              "      <th>X</th>\n",
              "      <th>Y</th>\n",
              "      <th>month</th>\n",
              "      <th>day</th>\n",
              "      <th>FFMC</th>\n",
              "      <th>DMC</th>\n",
              "      <th>DC</th>\n",
              "      <th>ISI</th>\n",
              "      <th>temp</th>\n",
              "      <th>RH</th>\n",
              "      <th>wind</th>\n",
              "      <th>rain</th>\n",
              "      <th>area</th>\n",
              "    </tr>\n",
              "  </thead>\n",
              "  <tbody>\n",
              "    <tr>\n",
              "      <th>0</th>\n",
              "      <td>7</td>\n",
              "      <td>5</td>\n",
              "      <td>mar</td>\n",
              "      <td>fri</td>\n",
              "      <td>86.2</td>\n",
              "      <td>26.2</td>\n",
              "      <td>94.3</td>\n",
              "      <td>5.1</td>\n",
              "      <td>8.2</td>\n",
              "      <td>51</td>\n",
              "      <td>6.7</td>\n",
              "      <td>0.0</td>\n",
              "      <td>0.0</td>\n",
              "    </tr>\n",
              "    <tr>\n",
              "      <th>1</th>\n",
              "      <td>7</td>\n",
              "      <td>4</td>\n",
              "      <td>oct</td>\n",
              "      <td>tue</td>\n",
              "      <td>90.6</td>\n",
              "      <td>35.4</td>\n",
              "      <td>669.1</td>\n",
              "      <td>6.7</td>\n",
              "      <td>18.0</td>\n",
              "      <td>33</td>\n",
              "      <td>0.9</td>\n",
              "      <td>0.0</td>\n",
              "      <td>0.0</td>\n",
              "    </tr>\n",
              "    <tr>\n",
              "      <th>2</th>\n",
              "      <td>7</td>\n",
              "      <td>4</td>\n",
              "      <td>oct</td>\n",
              "      <td>sat</td>\n",
              "      <td>90.6</td>\n",
              "      <td>43.7</td>\n",
              "      <td>686.9</td>\n",
              "      <td>6.7</td>\n",
              "      <td>14.6</td>\n",
              "      <td>33</td>\n",
              "      <td>1.3</td>\n",
              "      <td>0.0</td>\n",
              "      <td>0.0</td>\n",
              "    </tr>\n",
              "    <tr>\n",
              "      <th>3</th>\n",
              "      <td>8</td>\n",
              "      <td>6</td>\n",
              "      <td>mar</td>\n",
              "      <td>fri</td>\n",
              "      <td>91.7</td>\n",
              "      <td>33.3</td>\n",
              "      <td>77.5</td>\n",
              "      <td>9.0</td>\n",
              "      <td>8.3</td>\n",
              "      <td>97</td>\n",
              "      <td>4.0</td>\n",
              "      <td>0.2</td>\n",
              "      <td>0.0</td>\n",
              "    </tr>\n",
              "    <tr>\n",
              "      <th>4</th>\n",
              "      <td>8</td>\n",
              "      <td>6</td>\n",
              "      <td>mar</td>\n",
              "      <td>sun</td>\n",
              "      <td>89.3</td>\n",
              "      <td>51.3</td>\n",
              "      <td>102.2</td>\n",
              "      <td>9.6</td>\n",
              "      <td>11.4</td>\n",
              "      <td>99</td>\n",
              "      <td>1.8</td>\n",
              "      <td>0.0</td>\n",
              "      <td>0.0</td>\n",
              "    </tr>\n",
              "  </tbody>\n",
              "</table>\n",
              "</div>\n",
              "    <div class=\"colab-df-buttons\">\n",
              "\n",
              "  <div class=\"colab-df-container\">\n",
              "    <button class=\"colab-df-convert\" onclick=\"convertToInteractive('df-3dc4ed63-5585-44cb-aa89-636ae05bfc5c')\"\n",
              "            title=\"Convert this dataframe to an interactive table.\"\n",
              "            style=\"display:none;\">\n",
              "\n",
              "  <svg xmlns=\"http://www.w3.org/2000/svg\" height=\"24px\" viewBox=\"0 -960 960 960\">\n",
              "    <path d=\"M120-120v-720h720v720H120Zm60-500h600v-160H180v160Zm220 220h160v-160H400v160Zm0 220h160v-160H400v160ZM180-400h160v-160H180v160Zm440 0h160v-160H620v160ZM180-180h160v-160H180v160Zm440 0h160v-160H620v160Z\"/>\n",
              "  </svg>\n",
              "    </button>\n",
              "\n",
              "  <style>\n",
              "    .colab-df-container {\n",
              "      display:flex;\n",
              "      gap: 12px;\n",
              "    }\n",
              "\n",
              "    .colab-df-convert {\n",
              "      background-color: #E8F0FE;\n",
              "      border: none;\n",
              "      border-radius: 50%;\n",
              "      cursor: pointer;\n",
              "      display: none;\n",
              "      fill: #1967D2;\n",
              "      height: 32px;\n",
              "      padding: 0 0 0 0;\n",
              "      width: 32px;\n",
              "    }\n",
              "\n",
              "    .colab-df-convert:hover {\n",
              "      background-color: #E2EBFA;\n",
              "      box-shadow: 0px 1px 2px rgba(60, 64, 67, 0.3), 0px 1px 3px 1px rgba(60, 64, 67, 0.15);\n",
              "      fill: #174EA6;\n",
              "    }\n",
              "\n",
              "    .colab-df-buttons div {\n",
              "      margin-bottom: 4px;\n",
              "    }\n",
              "\n",
              "    [theme=dark] .colab-df-convert {\n",
              "      background-color: #3B4455;\n",
              "      fill: #D2E3FC;\n",
              "    }\n",
              "\n",
              "    [theme=dark] .colab-df-convert:hover {\n",
              "      background-color: #434B5C;\n",
              "      box-shadow: 0px 1px 3px 1px rgba(0, 0, 0, 0.15);\n",
              "      filter: drop-shadow(0px 1px 2px rgba(0, 0, 0, 0.3));\n",
              "      fill: #FFFFFF;\n",
              "    }\n",
              "  </style>\n",
              "\n",
              "    <script>\n",
              "      const buttonEl =\n",
              "        document.querySelector('#df-3dc4ed63-5585-44cb-aa89-636ae05bfc5c button.colab-df-convert');\n",
              "      buttonEl.style.display =\n",
              "        google.colab.kernel.accessAllowed ? 'block' : 'none';\n",
              "\n",
              "      async function convertToInteractive(key) {\n",
              "        const element = document.querySelector('#df-3dc4ed63-5585-44cb-aa89-636ae05bfc5c');\n",
              "        const dataTable =\n",
              "          await google.colab.kernel.invokeFunction('convertToInteractive',\n",
              "                                                    [key], {});\n",
              "        if (!dataTable) return;\n",
              "\n",
              "        const docLinkHtml = 'Like what you see? Visit the ' +\n",
              "          '<a target=\"_blank\" href=https://colab.research.google.com/notebooks/data_table.ipynb>data table notebook</a>'\n",
              "          + ' to learn more about interactive tables.';\n",
              "        element.innerHTML = '';\n",
              "        dataTable['output_type'] = 'display_data';\n",
              "        await google.colab.output.renderOutput(dataTable, element);\n",
              "        const docLink = document.createElement('div');\n",
              "        docLink.innerHTML = docLinkHtml;\n",
              "        element.appendChild(docLink);\n",
              "      }\n",
              "    </script>\n",
              "  </div>\n",
              "\n",
              "\n",
              "<div id=\"df-65326be9-3974-4226-9997-225790da598d\">\n",
              "  <button class=\"colab-df-quickchart\" onclick=\"quickchart('df-65326be9-3974-4226-9997-225790da598d')\"\n",
              "            title=\"Suggest charts\"\n",
              "            style=\"display:none;\">\n",
              "\n",
              "<svg xmlns=\"http://www.w3.org/2000/svg\" height=\"24px\"viewBox=\"0 0 24 24\"\n",
              "     width=\"24px\">\n",
              "    <g>\n",
              "        <path d=\"M19 3H5c-1.1 0-2 .9-2 2v14c0 1.1.9 2 2 2h14c1.1 0 2-.9 2-2V5c0-1.1-.9-2-2-2zM9 17H7v-7h2v7zm4 0h-2V7h2v10zm4 0h-2v-4h2v4z\"/>\n",
              "    </g>\n",
              "</svg>\n",
              "  </button>\n",
              "\n",
              "<style>\n",
              "  .colab-df-quickchart {\n",
              "      --bg-color: #E8F0FE;\n",
              "      --fill-color: #1967D2;\n",
              "      --hover-bg-color: #E2EBFA;\n",
              "      --hover-fill-color: #174EA6;\n",
              "      --disabled-fill-color: #AAA;\n",
              "      --disabled-bg-color: #DDD;\n",
              "  }\n",
              "\n",
              "  [theme=dark] .colab-df-quickchart {\n",
              "      --bg-color: #3B4455;\n",
              "      --fill-color: #D2E3FC;\n",
              "      --hover-bg-color: #434B5C;\n",
              "      --hover-fill-color: #FFFFFF;\n",
              "      --disabled-bg-color: #3B4455;\n",
              "      --disabled-fill-color: #666;\n",
              "  }\n",
              "\n",
              "  .colab-df-quickchart {\n",
              "    background-color: var(--bg-color);\n",
              "    border: none;\n",
              "    border-radius: 50%;\n",
              "    cursor: pointer;\n",
              "    display: none;\n",
              "    fill: var(--fill-color);\n",
              "    height: 32px;\n",
              "    padding: 0;\n",
              "    width: 32px;\n",
              "  }\n",
              "\n",
              "  .colab-df-quickchart:hover {\n",
              "    background-color: var(--hover-bg-color);\n",
              "    box-shadow: 0 1px 2px rgba(60, 64, 67, 0.3), 0 1px 3px 1px rgba(60, 64, 67, 0.15);\n",
              "    fill: var(--button-hover-fill-color);\n",
              "  }\n",
              "\n",
              "  .colab-df-quickchart-complete:disabled,\n",
              "  .colab-df-quickchart-complete:disabled:hover {\n",
              "    background-color: var(--disabled-bg-color);\n",
              "    fill: var(--disabled-fill-color);\n",
              "    box-shadow: none;\n",
              "  }\n",
              "\n",
              "  .colab-df-spinner {\n",
              "    border: 2px solid var(--fill-color);\n",
              "    border-color: transparent;\n",
              "    border-bottom-color: var(--fill-color);\n",
              "    animation:\n",
              "      spin 1s steps(1) infinite;\n",
              "  }\n",
              "\n",
              "  @keyframes spin {\n",
              "    0% {\n",
              "      border-color: transparent;\n",
              "      border-bottom-color: var(--fill-color);\n",
              "      border-left-color: var(--fill-color);\n",
              "    }\n",
              "    20% {\n",
              "      border-color: transparent;\n",
              "      border-left-color: var(--fill-color);\n",
              "      border-top-color: var(--fill-color);\n",
              "    }\n",
              "    30% {\n",
              "      border-color: transparent;\n",
              "      border-left-color: var(--fill-color);\n",
              "      border-top-color: var(--fill-color);\n",
              "      border-right-color: var(--fill-color);\n",
              "    }\n",
              "    40% {\n",
              "      border-color: transparent;\n",
              "      border-right-color: var(--fill-color);\n",
              "      border-top-color: var(--fill-color);\n",
              "    }\n",
              "    60% {\n",
              "      border-color: transparent;\n",
              "      border-right-color: var(--fill-color);\n",
              "    }\n",
              "    80% {\n",
              "      border-color: transparent;\n",
              "      border-right-color: var(--fill-color);\n",
              "      border-bottom-color: var(--fill-color);\n",
              "    }\n",
              "    90% {\n",
              "      border-color: transparent;\n",
              "      border-bottom-color: var(--fill-color);\n",
              "    }\n",
              "  }\n",
              "</style>\n",
              "\n",
              "  <script>\n",
              "    async function quickchart(key) {\n",
              "      const quickchartButtonEl =\n",
              "        document.querySelector('#' + key + ' button');\n",
              "      quickchartButtonEl.disabled = true;  // To prevent multiple clicks.\n",
              "      quickchartButtonEl.classList.add('colab-df-spinner');\n",
              "      try {\n",
              "        const charts = await google.colab.kernel.invokeFunction(\n",
              "            'suggestCharts', [key], {});\n",
              "      } catch (error) {\n",
              "        console.error('Error during call to suggestCharts:', error);\n",
              "      }\n",
              "      quickchartButtonEl.classList.remove('colab-df-spinner');\n",
              "      quickchartButtonEl.classList.add('colab-df-quickchart-complete');\n",
              "    }\n",
              "    (() => {\n",
              "      let quickchartButtonEl =\n",
              "        document.querySelector('#df-65326be9-3974-4226-9997-225790da598d button');\n",
              "      quickchartButtonEl.style.display =\n",
              "        google.colab.kernel.accessAllowed ? 'block' : 'none';\n",
              "    })();\n",
              "  </script>\n",
              "</div>\n",
              "    </div>\n",
              "  </div>\n"
            ],
            "application/vnd.google.colaboratory.intrinsic+json": {
              "type": "dataframe",
              "variable_name": "data",
              "summary": "{\n  \"name\": \"data\",\n  \"rows\": 517,\n  \"fields\": [\n    {\n      \"column\": \"X\",\n      \"properties\": {\n        \"dtype\": \"number\",\n        \"std\": 2,\n        \"min\": 1,\n        \"max\": 9,\n        \"num_unique_values\": 9,\n        \"samples\": [\n          1,\n          8,\n          2\n        ],\n        \"semantic_type\": \"\",\n        \"description\": \"\"\n      }\n    },\n    {\n      \"column\": \"Y\",\n      \"properties\": {\n        \"dtype\": \"number\",\n        \"std\": 1,\n        \"min\": 2,\n        \"max\": 9,\n        \"num_unique_values\": 7,\n        \"samples\": [\n          5,\n          4,\n          9\n        ],\n        \"semantic_type\": \"\",\n        \"description\": \"\"\n      }\n    },\n    {\n      \"column\": \"month\",\n      \"properties\": {\n        \"dtype\": \"category\",\n        \"num_unique_values\": 12,\n        \"samples\": [\n          \"may\",\n          \"dec\",\n          \"mar\"\n        ],\n        \"semantic_type\": \"\",\n        \"description\": \"\"\n      }\n    },\n    {\n      \"column\": \"day\",\n      \"properties\": {\n        \"dtype\": \"category\",\n        \"num_unique_values\": 7,\n        \"samples\": [\n          \"fri\",\n          \"tue\",\n          \"wed\"\n        ],\n        \"semantic_type\": \"\",\n        \"description\": \"\"\n      }\n    },\n    {\n      \"column\": \"FFMC\",\n      \"properties\": {\n        \"dtype\": \"number\",\n        \"std\": 5.520110848851269,\n        \"min\": 18.7,\n        \"max\": 96.2,\n        \"num_unique_values\": 106,\n        \"samples\": [\n          95.9,\n          90.9,\n          92.3\n        ],\n        \"semantic_type\": \"\",\n        \"description\": \"\"\n      }\n    },\n    {\n      \"column\": \"DMC\",\n      \"properties\": {\n        \"dtype\": \"number\",\n        \"std\": 64.04648224925425,\n        \"min\": 1.1,\n        \"max\": 291.3,\n        \"num_unique_values\": 215,\n        \"samples\": [\n          121.7,\n          166.9,\n          130.1\n        ],\n        \"semantic_type\": \"\",\n        \"description\": \"\"\n      }\n    },\n    {\n      \"column\": \"DC\",\n      \"properties\": {\n        \"dtype\": \"number\",\n        \"std\": 248.06619170584364,\n        \"min\": 7.9,\n        \"max\": 860.6,\n        \"num_unique_values\": 219,\n        \"samples\": [\n          458.8,\n          700.7,\n          665.6\n        ],\n        \"semantic_type\": \"\",\n        \"description\": \"\"\n      }\n    },\n    {\n      \"column\": \"ISI\",\n      \"properties\": {\n        \"dtype\": \"number\",\n        \"std\": 4.559477175216039,\n        \"min\": 0.0,\n        \"max\": 56.1,\n        \"num_unique_values\": 119,\n        \"samples\": [\n          7.9,\n          18.0,\n          14.7\n        ],\n        \"semantic_type\": \"\",\n        \"description\": \"\"\n      }\n    },\n    {\n      \"column\": \"temp\",\n      \"properties\": {\n        \"dtype\": \"number\",\n        \"std\": 5.806625349573505,\n        \"min\": 2.2,\n        \"max\": 33.3,\n        \"num_unique_values\": 192,\n        \"samples\": [\n          23.0,\n          4.8,\n          11.6\n        ],\n        \"semantic_type\": \"\",\n        \"description\": \"\"\n      }\n    },\n    {\n      \"column\": \"RH\",\n      \"properties\": {\n        \"dtype\": \"number\",\n        \"std\": 16,\n        \"min\": 15,\n        \"max\": 100,\n        \"num_unique_values\": 75,\n        \"samples\": [\n          29,\n          61,\n          72\n        ],\n        \"semantic_type\": \"\",\n        \"description\": \"\"\n      }\n    },\n    {\n      \"column\": \"wind\",\n      \"properties\": {\n        \"dtype\": \"number\",\n        \"std\": 1.7916526009464617,\n        \"min\": 0.4,\n        \"max\": 9.4,\n        \"num_unique_values\": 21,\n        \"samples\": [\n          6.7,\n          8.5,\n          6.3\n        ],\n        \"semantic_type\": \"\",\n        \"description\": \"\"\n      }\n    },\n    {\n      \"column\": \"rain\",\n      \"properties\": {\n        \"dtype\": \"number\",\n        \"std\": 0.295959120890894,\n        \"min\": 0.0,\n        \"max\": 6.4,\n        \"num_unique_values\": 7,\n        \"samples\": [\n          0.0,\n          0.2,\n          0.4\n        ],\n        \"semantic_type\": \"\",\n        \"description\": \"\"\n      }\n    },\n    {\n      \"column\": \"area\",\n      \"properties\": {\n        \"dtype\": \"number\",\n        \"std\": 63.65581846794089,\n        \"min\": 0.0,\n        \"max\": 1090.84,\n        \"num_unique_values\": 251,\n        \"samples\": [\n          7.48,\n          0.71,\n          1.72\n        ],\n        \"semantic_type\": \"\",\n        \"description\": \"\"\n      }\n    }\n  ]\n}"
            }
          },
          "metadata": {},
          "execution_count": 4
        }
      ]
    },
    {
      "cell_type": "markdown",
      "source": [
        "###EDA"
      ],
      "metadata": {
        "id": "XE2MWEzOIgrP"
      }
    },
    {
      "cell_type": "code",
      "source": [
        "data['area'].describe()"
      ],
      "metadata": {
        "colab": {
          "base_uri": "https://localhost:8080/"
        },
        "id": "21cRS2GVBNwh",
        "outputId": "6b97c757-6245-4b82-ac65-5de34b15c634"
      },
      "execution_count": 5,
      "outputs": [
        {
          "output_type": "execute_result",
          "data": {
            "text/plain": [
              "count     517.000000\n",
              "mean       12.847292\n",
              "std        63.655818\n",
              "min         0.000000\n",
              "25%         0.000000\n",
              "50%         0.520000\n",
              "75%         6.570000\n",
              "max      1090.840000\n",
              "Name: area, dtype: float64"
            ]
          },
          "metadata": {},
          "execution_count": 5
        }
      ]
    },
    {
      "cell_type": "code",
      "source": [
        "import matplotlib.pyplot as plt\n",
        "\n",
        "def feature_bar(column):\n",
        "  plt.bar(list(data[column].value_counts().keys()), list(data[column].value_counts()))\n",
        "  plt.xlabel(column)\n",
        "  plt.ylabel('Count')\n",
        "  plt.title('Bar Graph of '+column)\n",
        "  plt.xticks(rotation=70)\n",
        "  plt.show()"
      ],
      "metadata": {
        "id": "CBVvEJ1YOBE6"
      },
      "execution_count": 6,
      "outputs": []
    },
    {
      "cell_type": "code",
      "source": [
        "feature_bar('month')"
      ],
      "metadata": {
        "colab": {
          "base_uri": "https://localhost:8080/",
          "height": 491
        },
        "id": "sABWH1yhO4RL",
        "outputId": "92639dc8-17f8-414c-d615-0823d3b7bcdf"
      },
      "execution_count": 7,
      "outputs": [
        {
          "output_type": "display_data",
          "data": {
            "text/plain": [
              "<Figure size 640x480 with 1 Axes>"
            ],
            "image/png": "[encoded data removed]"
          },
          "metadata": {}
        }
      ]
    },
    {
      "cell_type": "code",
      "source": [
        "feature_bar('day')"
      ],
      "metadata": {
        "colab": {
          "base_uri": "https://localhost:8080/",
          "height": 491
        },
        "id": "nfa8e7nHPd06",
        "outputId": "a24668e3-3e1f-420b-bdea-805fdf2885bb"
      },
      "execution_count": 8,
      "outputs": [
        {
          "output_type": "display_data",
          "data": {
            "text/plain": [
              "<Figure size 640x480 with 1 Axes>"
            ],
            "image/png": "[encoded data removed]"
          },
          "metadata": {}
        }
      ]
    },
    {
      "cell_type": "markdown",
      "source": [
        "We will drop this column, does not provide important information for predictions"
      ],
      "metadata": {
        "id": "-pvOGJmHWU2h"
      }
    },
    {
      "cell_type": "code",
      "source": [
        "column = 'FFMC'\n",
        "plt.hist(data[column],bins=20)\n",
        "plt.xlabel(column)\n",
        "plt.ylabel('Count')\n",
        "plt.title('Hist of '+column)\n",
        "plt.xticks(rotation=70)\n",
        "plt.show()"
      ],
      "metadata": {
        "colab": {
          "base_uri": "https://localhost:8080/",
          "height": 487
        },
        "id": "0cmqikoSPlAx",
        "outputId": "d8949a43-694a-4bbc-efc9-f4efbefd683f"
      },
      "execution_count": 9,
      "outputs": [
        {
          "output_type": "display_data",
          "data": {
            "text/plain": [
              "<Figure size 640x480 with 1 Axes>"
            ],
            "image/png": "[encoded data removed]"
          },
          "metadata": {}
        }
      ]
    },
    {
      "cell_type": "markdown",
      "source": [
        "left skewed"
      ],
      "metadata": {
        "id": "DeXatSnnWaj3"
      }
    },
    {
      "cell_type": "code",
      "source": [
        "data[data['FFMC']<70]"
      ],
      "metadata": {
        "colab": {
          "base_uri": "https://localhost:8080/",
          "height": 269
        },
        "id": "JNXPCvI2RZTT",
        "outputId": "fe41d3b0-7564-4de1-f927-5b151721105e"
      },
      "execution_count": 10,
      "outputs": [
        {
          "output_type": "execute_result",
          "data": {
            "text/plain": [
              "     X  Y month  day  FFMC   DMC     DC  ISI  temp   RH  wind  rain   area\n",
              "12   6  5   aug  fri  63.5  70.8  665.3  0.8  17.0   72   6.7   0.0   0.00\n",
              "97   3  4   mar  sat  69.0   2.4   15.5  0.7  17.4   24   5.4   0.0   0.00\n",
              "130  4  6   feb  sat  68.2  21.5   87.2  0.8  15.4   40   2.7   0.0   0.00\n",
              "199  2  4   sep  mon  63.5  70.8  665.3  0.8  22.6   38   3.6   0.0  11.32\n",
              "299  6  5   jun  sat  53.4  71.0  233.8  0.4  10.6   90   2.7   0.0   0.00\n",
              "312  2  4   sep  sun  50.4  46.2  706.6  0.4  12.2   78   6.3   0.0   0.00\n",
              "379  4  5   jan  sun  18.7   1.1  171.4  0.0   5.2  100   0.9   0.0   0.00"
            ],
            "text/html": [
              "\n",
              "  <div id=\"df-17862b39-6670-476b-baba-97f28cb68685\" class=\"colab-df-container\">\n",
              "    <div>\n",
              "<style scoped>\n",
              "    .dataframe tbody tr th:only-of-type {\n",
              "        vertical-align: middle;\n",
              "    }\n",
              "\n",
              "    .dataframe tbody tr th {\n",
              "        vertical-align: top;\n",
              "    }\n",
              "\n",
              "    .dataframe thead th {\n",
              "        text-align: right;\n",
              "    }\n",
              "</style>\n",
              "<table border=\"1\" class=\"dataframe\">\n",
              "  <thead>\n",
              "    <tr style=\"text-align: right;\">\n",
              "      <th></th>\n",
              "      <th>X</th>\n",
              "      <th>Y</th>\n",
              "      <th>month</th>\n",
              "      <th>day</th>\n",
              "      <th>FFMC</th>\n",
              "      <th>DMC</th>\n",
              "      <th>DC</th>\n",
              "      <th>ISI</th>\n",
              "      <th>temp</th>\n",
              "      <th>RH</th>\n",
              "      <th>wind</th>\n",
              "      <th>rain</th>\n",
              "      <th>area</th>\n",
              "    </tr>\n",
              "  </thead>\n",
              "  <tbody>\n",
              "    <tr>\n",
              "      <th>12</th>\n",
              "      <td>6</td>\n",
              "      <td>5</td>\n",
              "      <td>aug</td>\n",
              "      <td>fri</td>\n",
              "      <td>63.5</td>\n",
              "      <td>70.8</td>\n",
              "      <td>665.3</td>\n",
              "      <td>0.8</td>\n",
              "      <td>17.0</td>\n",
              "      <td>72</td>\n",
              "      <td>6.7</td>\n",
              "      <td>0.0</td>\n",
              "      <td>0.00</td>\n",
              "    </tr>\n",
              "    <tr>\n",
              "      <th>97</th>\n",
              "      <td>3</td>\n",
              "      <td>4</td>\n",
              "      <td>mar</td>\n",
              "      <td>sat</td>\n",
              "      <td>69.0</td>\n",
              "      <td>2.4</td>\n",
              "      <td>15.5</td>\n",
              "      <td>0.7</td>\n",
              "      <td>17.4</td>\n",
              "      <td>24</td>\n",
              "      <td>5.4</td>\n",
              "      <td>0.0</td>\n",
              "      <td>0.00</td>\n",
              "    </tr>\n",
              "    <tr>\n",
              "      <th>130</th>\n",
              "      <td>4</td>\n",
              "      <td>6</td>\n",
              "      <td>feb</td>\n",
              "      <td>sat</td>\n",
              "      <td>68.2</td>\n",
              "      <td>21.5</td>\n",
              "      <td>87.2</td>\n",
              "      <td>0.8</td>\n",
              "      <td>15.4</td>\n",
              "      <td>40</td>\n",
              "      <td>2.7</td>\n",
              "      <td>0.0</td>\n",
              "      <td>0.00</td>\n",
              "    </tr>\n",
              "    <tr>\n",
              "      <th>199</th>\n",
              "      <td>2</td>\n",
              "      <td>4</td>\n",
              "      <td>sep</td>\n",
              "      <td>mon</td>\n",
              "      <td>63.5</td>\n",
              "      <td>70.8</td>\n",
              "      <td>665.3</td>\n",
              "      <td>0.8</td>\n",
              "      <td>22.6</td>\n",
              "      <td>38</td>\n",
              "      <td>3.6</td>\n",
              "      <td>0.0</td>\n",
              "      <td>11.32</td>\n",
              "    </tr>\n",
              "    <tr>\n",
              "      <th>299</th>\n",
              "      <td>6</td>\n",
              "      <td>5</td>\n",
              "      <td>jun</td>\n",
              "      <td>sat</td>\n",
              "      <td>53.4</td>\n",
              "      <td>71.0</td>\n",
              "      <td>233.8</td>\n",
              "      <td>0.4</td>\n",
              "      <td>10.6</td>\n",
              "      <td>90</td>\n",
              "      <td>2.7</td>\n",
              "      <td>0.0</td>\n",
              "      <td>0.00</td>\n",
              "    </tr>\n",
              "    <tr>\n",
              "      <th>312</th>\n",
              "      <td>2</td>\n",
              "      <td>4</td>\n",
              "      <td>sep</td>\n",
              "      <td>sun</td>\n",
              "      <td>50.4</td>\n",
              "      <td>46.2</td>\n",
              "      <td>706.6</td>\n",
              "      <td>0.4</td>\n",
              "      <td>12.2</td>\n",
              "      <td>78</td>\n",
              "      <td>6.3</td>\n",
              "      <td>0.0</td>\n",
              "      <td>0.00</td>\n",
              "    </tr>\n",
              "    <tr>\n",
              "      <th>379</th>\n",
              "      <td>4</td>\n",
              "      <td>5</td>\n",
              "      <td>jan</td>\n",
              "      <td>sun</td>\n",
              "      <td>18.7</td>\n",
              "      <td>1.1</td>\n",
              "      <td>171.4</td>\n",
              "      <td>0.0</td>\n",
              "      <td>5.2</td>\n",
              "      <td>100</td>\n",
              "      <td>0.9</td>\n",
              "      <td>0.0</td>\n",
              "      <td>0.00</td>\n",
              "    </tr>\n",
              "  </tbody>\n",
              "</table>\n",
              "</div>\n",
              "    <div class=\"colab-df-buttons\">\n",
              "\n",
              "  <div class=\"colab-df-container\">\n",
              "    <button class=\"colab-df-convert\" onclick=\"convertToInteractive('df-17862b39-6670-476b-baba-97f28cb68685')\"\n",
              "            title=\"Convert this dataframe to an interactive table.\"\n",
              "            style=\"display:none;\">\n",
              "\n",
              "  <svg xmlns=\"http://www.w3.org/2000/svg\" height=\"24px\" viewBox=\"0 -960 960 960\">\n",
              "    <path d=\"M120-120v-720h720v720H120Zm60-500h600v-160H180v160Zm220 220h160v-160H400v160Zm0 220h160v-160H400v160ZM180-400h160v-160H180v160Zm440 0h160v-160H620v160ZM180-180h160v-160H180v160Zm440 0h160v-160H620v160Z\"/>\n",
              "  </svg>\n",
              "    </button>\n",
              "\n",
              "  <style>\n",
              "    .colab-df-container {\n",
              "      display:flex;\n",
              "      gap: 12px;\n",
              "    }\n",
              "\n",
              "    .colab-df-convert {\n",
              "      background-color: #E8F0FE;\n",
              "      border: none;\n",
              "      border-radius: 50%;\n",
              "      cursor: pointer;\n",
              "      display: none;\n",
              "      fill: #1967D2;\n",
              "      height: 32px;\n",
              "      padding: 0 0 0 0;\n",
              "      width: 32px;\n",
              "    }\n",
              "\n",
              "    .colab-df-convert:hover {\n",
              "      background-color: #E2EBFA;\n",
              "      box-shadow: 0px 1px 2px rgba(60, 64, 67, 0.3), 0px 1px 3px 1px rgba(60, 64, 67, 0.15);\n",
              "      fill: #174EA6;\n",
              "    }\n",
              "\n",
              "    .colab-df-buttons div {\n",
              "      margin-bottom: 4px;\n",
              "    }\n",
              "\n",
              "    [theme=dark] .colab-df-convert {\n",
              "      background-color: #3B4455;\n",
              "      fill: #D2E3FC;\n",
              "    }\n",
              "\n",
              "    [theme=dark] .colab-df-convert:hover {\n",
              "      background-color: #434B5C;\n",
              "      box-shadow: 0px 1px 3px 1px rgba(0, 0, 0, 0.15);\n",
              "      filter: drop-shadow(0px 1px 2px rgba(0, 0, 0, 0.3));\n",
              "      fill: #FFFFFF;\n",
              "    }\n",
              "  </style>\n",
              "\n",
              "    <script>\n",
              "      const buttonEl =\n",
              "        document.querySelector('#df-17862b39-6670-476b-baba-97f28cb68685 button.colab-df-convert');\n",
              "      buttonEl.style.display =\n",
              "        google.colab.kernel.accessAllowed ? 'block' : 'none';\n",
              "\n",
              "      async function convertToInteractive(key) {\n",
              "        const element = document.querySelector('#df-17862b39-6670-476b-baba-97f28cb68685');\n",
              "        const dataTable =\n",
              "          await google.colab.kernel.invokeFunction('convertToInteractive',\n",
              "                                                    [key], {});\n",
              "        if (!dataTable) return;\n",
              "\n",
              "        const docLinkHtml = 'Like what you see? Visit the ' +\n",
              "          '<a target=\"_blank\" href=https://colab.research.google.com/notebooks/data_table.ipynb>data table notebook</a>'\n",
              "          + ' to learn more about interactive tables.';\n",
              "        element.innerHTML = '';\n",
              "        dataTable['output_type'] = 'display_data';\n",
              "        await google.colab.output.renderOutput(dataTable, element);\n",
              "        const docLink = document.createElement('div');\n",
              "        docLink.innerHTML = docLinkHtml;\n",
              "        element.appendChild(docLink);\n",
              "      }\n",
              "    </script>\n",
              "  </div>\n",
              "\n",
              "\n",
              "<div id=\"df-29d94440-3656-4820-8740-c8d5f2bac4a0\">\n",
              "  <button class=\"colab-df-quickchart\" onclick=\"quickchart('df-29d94440-3656-4820-8740-c8d5f2bac4a0')\"\n",
              "            title=\"Suggest charts\"\n",
              "            style=\"display:none;\">\n",
              "\n",
              "<svg xmlns=\"http://www.w3.org/2000/svg\" height=\"24px\"viewBox=\"0 0 24 24\"\n",
              "     width=\"24px\">\n",
              "    <g>\n",
              "        <path d=\"M19 3H5c-1.1 0-2 .9-2 2v14c0 1.1.9 2 2 2h14c1.1 0 2-.9 2-2V5c0-1.1-.9-2-2-2zM9 17H7v-7h2v7zm4 0h-2V7h2v10zm4 0h-2v-4h2v4z\"/>\n",
              "    </g>\n",
              "</svg>\n",
              "  </button>\n",
              "\n",
              "<style>\n",
              "  .colab-df-quickchart {\n",
              "      --bg-color: #E8F0FE;\n",
              "      --fill-color: #1967D2;\n",
              "      --hover-bg-color: #E2EBFA;\n",
              "      --hover-fill-color: #174EA6;\n",
              "      --disabled-fill-color: #AAA;\n",
              "      --disabled-bg-color: #DDD;\n",
              "  }\n",
              "\n",
              "  [theme=dark] .colab-df-quickchart {\n",
              "      --bg-color: #3B4455;\n",
              "      --fill-color: #D2E3FC;\n",
              "      --hover-bg-color: #434B5C;\n",
              "      --hover-fill-color: #FFFFFF;\n",
              "      --disabled-bg-color: #3B4455;\n",
              "      --disabled-fill-color: #666;\n",
              "  }\n",
              "\n",
              "  .colab-df-quickchart {\n",
              "    background-color: var(--bg-color);\n",
              "    border: none;\n",
              "    border-radius: 50%;\n",
              "    cursor: pointer;\n",
              "    display: none;\n",
              "    fill: var(--fill-color);\n",
              "    height: 32px;\n",
              "    padding: 0;\n",
              "    width: 32px;\n",
              "  }\n",
              "\n",
              "  .colab-df-quickchart:hover {\n",
              "    background-color: var(--hover-bg-color);\n",
              "    box-shadow: 0 1px 2px rgba(60, 64, 67, 0.3), 0 1px 3px 1px rgba(60, 64, 67, 0.15);\n",
              "    fill: var(--button-hover-fill-color);\n",
              "  }\n",
              "\n",
              "  .colab-df-quickchart-complete:disabled,\n",
              "  .colab-df-quickchart-complete:disabled:hover {\n",
              "    background-color: var(--disabled-bg-color);\n",
              "    fill: var(--disabled-fill-color);\n",
              "    box-shadow: none;\n",
              "  }\n",
              "\n",
              "  .colab-df-spinner {\n",
              "    border: 2px solid var(--fill-color);\n",
              "    border-color: transparent;\n",
              "    border-bottom-color: var(--fill-color);\n",
              "    animation:\n",
              "      spin 1s steps(1) infinite;\n",
              "  }\n",
              "\n",
              "  @keyframes spin {\n",
              "    0% {\n",
              "      border-color: transparent;\n",
              "      border-bottom-color: var(--fill-color);\n",
              "      border-left-color: var(--fill-color);\n",
              "    }\n",
              "    20% {\n",
              "      border-color: transparent;\n",
              "      border-left-color: var(--fill-color);\n",
              "      border-top-color: var(--fill-color);\n",
              "    }\n",
              "    30% {\n",
              "      border-color: transparent;\n",
              "      border-left-color: var(--fill-color);\n",
              "      border-top-color: var(--fill-color);\n",
              "      border-right-color: var(--fill-color);\n",
              "    }\n",
              "    40% {\n",
              "      border-color: transparent;\n",
              "      border-right-color: var(--fill-color);\n",
              "      border-top-color: var(--fill-color);\n",
              "    }\n",
              "    60% {\n",
              "      border-color: transparent;\n",
              "      border-right-color: var(--fill-color);\n",
              "    }\n",
              "    80% {\n",
              "      border-color: transparent;\n",
              "      border-right-color: var(--fill-color);\n",
              "      border-bottom-color: var(--fill-color);\n",
              "    }\n",
              "    90% {\n",
              "      border-color: transparent;\n",
              "      border-bottom-color: var(--fill-color);\n",
              "    }\n",
              "  }\n",
              "</style>\n",
              "\n",
              "  <script>\n",
              "    async function quickchart(key) {\n",
              "      const quickchartButtonEl =\n",
              "        document.querySelector('#' + key + ' button');\n",
              "      quickchartButtonEl.disabled = true;  // To prevent multiple clicks.\n",
              "      quickchartButtonEl.classList.add('colab-df-spinner');\n",
              "      try {\n",
              "        const charts = await google.colab.kernel.invokeFunction(\n",
              "            'suggestCharts', [key], {});\n",
              "      } catch (error) {\n",
              "        console.error('Error during call to suggestCharts:', error);\n",
              "      }\n",
              "      quickchartButtonEl.classList.remove('colab-df-spinner');\n",
              "      quickchartButtonEl.classList.add('colab-df-quickchart-complete');\n",
              "    }\n",
              "    (() => {\n",
              "      let quickchartButtonEl =\n",
              "        document.querySelector('#df-29d94440-3656-4820-8740-c8d5f2bac4a0 button');\n",
              "      quickchartButtonEl.style.display =\n",
              "        google.colab.kernel.accessAllowed ? 'block' : 'none';\n",
              "    })();\n",
              "  </script>\n",
              "</div>\n",
              "    </div>\n",
              "  </div>\n"
            ],
            "application/vnd.google.colaboratory.intrinsic+json": {
              "type": "dataframe",
              "summary": "{\n  \"name\": \"data[data['FFMC']<70]\",\n  \"rows\": 7,\n  \"fields\": [\n    {\n      \"column\": \"X\",\n      \"properties\": {\n        \"dtype\": \"number\",\n        \"std\": 1,\n        \"min\": 2,\n        \"max\": 6,\n        \"num_unique_values\": 4,\n        \"samples\": [\n          3,\n          2,\n          6\n        ],\n        \"semantic_type\": \"\",\n        \"description\": \"\"\n      }\n    },\n    {\n      \"column\": \"Y\",\n      \"properties\": {\n        \"dtype\": \"number\",\n        \"std\": 0,\n        \"min\": 4,\n        \"max\": 6,\n        \"num_unique_values\": 3,\n        \"samples\": [\n          5,\n          4,\n          6\n        ],\n        \"semantic_type\": \"\",\n        \"description\": \"\"\n      }\n    },\n    {\n      \"column\": \"month\",\n      \"properties\": {\n        \"dtype\": \"string\",\n        \"num_unique_values\": 6,\n        \"samples\": [\n          \"aug\",\n          \"mar\",\n          \"jan\"\n        ],\n        \"semantic_type\": \"\",\n        \"description\": \"\"\n      }\n    },\n    {\n      \"column\": \"day\",\n      \"properties\": {\n        \"dtype\": \"string\",\n        \"num_unique_values\": 4,\n        \"samples\": [\n          \"sat\",\n          \"sun\",\n          \"fri\"\n        ],\n        \"semantic_type\": \"\",\n        \"description\": \"\"\n      }\n    },\n    {\n      \"column\": \"FFMC\",\n      \"properties\": {\n        \"dtype\": \"number\",\n        \"std\": 17.586629120144764,\n        \"min\": 18.7,\n        \"max\": 69.0,\n        \"num_unique_values\": 6,\n        \"samples\": [\n          63.5,\n          69.0,\n          18.7\n        ],\n        \"semantic_type\": \"\",\n        \"description\": \"\"\n      }\n    },\n    {\n      \"column\": \"DMC\",\n      \"properties\": {\n        \"dtype\": \"number\",\n        \"std\": 32.051721594055714,\n        \"min\": 1.1,\n        \"max\": 71.0,\n        \"num_unique_values\": 6,\n        \"samples\": [\n          70.8,\n          2.4,\n          1.1\n        ],\n        \"semantic_type\": \"\",\n        \"description\": \"\"\n      }\n    },\n    {\n      \"column\": \"DC\",\n      \"properties\": {\n        \"dtype\": \"number\",\n        \"std\": 303.05506336072233,\n        \"min\": 15.5,\n        \"max\": 706.6,\n        \"num_unique_values\": 6,\n        \"samples\": [\n          665.3,\n          15.5,\n          171.4\n        ],\n        \"semantic_type\": \"\",\n        \"description\": \"\"\n      }\n    },\n    {\n      \"column\": \"ISI\",\n      \"properties\": {\n        \"dtype\": \"number\",\n        \"std\": 0.304724700110022,\n        \"min\": 0.0,\n        \"max\": 0.8,\n        \"num_unique_values\": 4,\n        \"samples\": [\n          0.7,\n          0.0,\n          0.8\n        ],\n        \"semantic_type\": \"\",\n        \"description\": \"\"\n      }\n    },\n    {\n      \"column\": \"temp\",\n      \"properties\": {\n        \"dtype\": \"number\",\n        \"std\": 5.596087068317511,\n        \"min\": 5.2,\n        \"max\": 22.6,\n        \"num_unique_values\": 7,\n        \"samples\": [\n          17.0,\n          17.4,\n          12.2\n        ],\n        \"semantic_type\": \"\",\n        \"description\": \"\"\n      }\n    },\n    {\n      \"column\": \"RH\",\n      \"properties\": {\n        \"dtype\": \"number\",\n        \"std\": 29,\n        \"min\": 24,\n        \"max\": 100,\n        \"num_unique_values\": 7,\n        \"samples\": [\n          72,\n          24,\n          78\n        ],\n        \"semantic_type\": \"\",\n        \"description\": \"\"\n      }\n    },\n    {\n      \"column\": \"wind\",\n      \"properties\": {\n        \"dtype\": \"number\",\n        \"std\": 2.1477563043458034,\n        \"min\": 0.9,\n        \"max\": 6.7,\n        \"num_unique_values\": 6,\n        \"samples\": [\n          6.7,\n          5.4,\n          0.9\n        ],\n        \"semantic_type\": \"\",\n        \"description\": \"\"\n      }\n    },\n    {\n      \"column\": \"rain\",\n      \"properties\": {\n        \"dtype\": \"number\",\n        \"std\": 0.0,\n        \"min\": 0.0,\n        \"max\": 0.0,\n        \"num_unique_values\": 1,\n        \"samples\": [\n          0.0\n        ],\n        \"semantic_type\": \"\",\n        \"description\": \"\"\n      }\n    },\n    {\n      \"column\": \"area\",\n      \"properties\": {\n        \"dtype\": \"number\",\n        \"std\": 4.278557834464452,\n        \"min\": 0.0,\n        \"max\": 11.32,\n        \"num_unique_values\": 2,\n        \"samples\": [\n          11.32\n        ],\n        \"semantic_type\": \"\",\n        \"description\": \"\"\n      }\n    }\n  ]\n}"
            }
          },
          "metadata": {},
          "execution_count": 10
        }
      ]
    },
    {
      "cell_type": "code",
      "source": [
        "column = 'DMC'\n",
        "plt.hist(data[column],bins=10)\n",
        "plt.xlabel(column)\n",
        "plt.ylabel('Count')\n",
        "plt.title('Hist of '+column)\n",
        "plt.xticks(rotation=70)\n",
        "plt.show()"
      ],
      "metadata": {
        "colab": {
          "base_uri": "https://localhost:8080/",
          "height": 487
        },
        "id": "XxwpoxvmPpp3",
        "outputId": "097da934-ddd6-452f-d5dd-31c6b43c2148"
      },
      "execution_count": 11,
      "outputs": [
        {
          "output_type": "display_data",
          "data": {
            "text/plain": [
              "<Figure size 640x480 with 1 Axes>"
            ],
            "image/png": "[encoded data removed]"
          },
          "metadata": {}
        }
      ]
    },
    {
      "cell_type": "markdown",
      "source": [
        "sort of right skewed, possibly bimodal?"
      ],
      "metadata": {
        "id": "w5joakJ7WcKc"
      }
    },
    {
      "cell_type": "code",
      "source": [
        "column = 'DC'\n",
        "plt.hist(data[column],bins=20)\n",
        "plt.xlabel(column)\n",
        "plt.ylabel('Count')\n",
        "plt.title('Hist of '+column)\n",
        "plt.xticks(rotation=70)\n",
        "plt.show()"
      ],
      "metadata": {
        "colab": {
          "base_uri": "https://localhost:8080/",
          "height": 487
        },
        "id": "bgIV-e0APtRY",
        "outputId": "95e0decf-0008-4841-b6f9-d2a69eb17aa1"
      },
      "execution_count": 12,
      "outputs": [
        {
          "output_type": "display_data",
          "data": {
            "text/plain": [
              "<Figure size 640x480 with 1 Axes>"
            ],
            "image/png": "[encoded data removed]"
          },
          "metadata": {}
        }
      ]
    },
    {
      "cell_type": "markdown",
      "source": [
        "bimodal"
      ],
      "metadata": {
        "id": "dMWN7TO2Wlav"
      }
    },
    {
      "cell_type": "code",
      "source": [
        "column = 'ISI'\n",
        "plt.hist(data[column],bins=20)\n",
        "plt.xlabel(column)\n",
        "plt.ylabel('Count')\n",
        "plt.title('Hist of '+column)\n",
        "plt.xticks(rotation=70)\n",
        "plt.show()"
      ],
      "metadata": {
        "colab": {
          "base_uri": "https://localhost:8080/",
          "height": 479
        },
        "id": "9UMqpQbkPvzX",
        "outputId": "6feed9ac-54dc-47ee-effd-9d0182051479"
      },
      "execution_count": 13,
      "outputs": [
        {
          "output_type": "display_data",
          "data": {
            "text/plain": [
              "<Figure size 640x480 with 1 Axes>"
            ],
            "image/png": "[encoded data removed]"
          },
          "metadata": {}
        }
      ]
    },
    {
      "cell_type": "code",
      "source": [
        "data[data['ISI']>30]"
      ],
      "metadata": {
        "colab": {
          "base_uri": "https://localhost:8080/",
          "height": 81
        },
        "id": "R7qa_3SbR3SI",
        "outputId": "a02baf13-535a-4432-a0fa-7ec969cabbc8"
      },
      "execution_count": 14,
      "outputs": [
        {
          "output_type": "execute_result",
          "data": {
            "text/plain": [
              "    X  Y month  day  FFMC   DMC     DC   ISI  temp  RH  wind  rain  area\n",
              "22  7  4   jun  sun  94.3  96.3  200.0  56.1  21.0  44   4.5   0.0   0.0"
            ],
            "text/html": [
              "\n",
              "  <div id=\"df-dd5851ab-0124-4608-b396-d2176b28ed69\" class=\"colab-df-container\">\n",
              "    <div>\n",
              "<style scoped>\n",
              "    .dataframe tbody tr th:only-of-type {\n",
              "        vertical-align: middle;\n",
              "    }\n",
              "\n",
              "    .dataframe tbody tr th {\n",
              "        vertical-align: top;\n",
              "    }\n",
              "\n",
              "    .dataframe thead th {\n",
              "        text-align: right;\n",
              "    }\n",
              "</style>\n",
              "<table border=\"1\" class=\"dataframe\">\n",
              "  <thead>\n",
              "    <tr style=\"text-align: right;\">\n",
              "      <th></th>\n",
              "      <th>X</th>\n",
              "      <th>Y</th>\n",
              "      <th>month</th>\n",
              "      <th>day</th>\n",
              "      <th>FFMC</th>\n",
              "      <th>DMC</th>\n",
              "      <th>DC</th>\n",
              "      <th>ISI</th>\n",
              "      <th>temp</th>\n",
              "      <th>RH</th>\n",
              "      <th>wind</th>\n",
              "      <th>rain</th>\n",
              "      <th>area</th>\n",
              "    </tr>\n",
              "  </thead>\n",
              "  <tbody>\n",
              "    <tr>\n",
              "      <th>22</th>\n",
              "      <td>7</td>\n",
              "      <td>4</td>\n",
              "      <td>jun</td>\n",
              "      <td>sun</td>\n",
              "      <td>94.3</td>\n",
              "      <td>96.3</td>\n",
              "      <td>200.0</td>\n",
              "      <td>56.1</td>\n",
              "      <td>21.0</td>\n",
              "      <td>44</td>\n",
              "      <td>4.5</td>\n",
              "      <td>0.0</td>\n",
              "      <td>0.0</td>\n",
              "    </tr>\n",
              "  </tbody>\n",
              "</table>\n",
              "</div>\n",
              "    <div class=\"colab-df-buttons\">\n",
              "\n",
              "  <div class=\"colab-df-container\">\n",
              "    <button class=\"colab-df-convert\" onclick=\"convertToInteractive('df-dd5851ab-0124-4608-b396-d2176b28ed69')\"\n",
              "            title=\"Convert this dataframe to an interactive table.\"\n",
              "            style=\"display:none;\">\n",
              "\n",
              "  <svg xmlns=\"http://www.w3.org/2000/svg\" height=\"24px\" viewBox=\"0 -960 960 960\">\n",
              "    <path d=\"M120-120v-720h720v720H120Zm60-500h600v-160H180v160Zm220 220h160v-160H400v160Zm0 220h160v-160H400v160ZM180-400h160v-160H180v160Zm440 0h160v-160H620v160ZM180-180h160v-160H180v160Zm440 0h160v-160H620v160Z\"/>\n",
              "  </svg>\n",
              "    </button>\n",
              "\n",
              "  <style>\n",
              "    .colab-df-container {\n",
              "      display:flex;\n",
              "      gap: 12px;\n",
              "    }\n",
              "\n",
              "    .colab-df-convert {\n",
              "      background-color: #E8F0FE;\n",
              "      border: none;\n",
              "      border-radius: 50%;\n",
              "      cursor: pointer;\n",
              "      display: none;\n",
              "      fill: #1967D2;\n",
              "      height: 32px;\n",
              "      padding: 0 0 0 0;\n",
              "      width: 32px;\n",
              "    }\n",
              "\n",
              "    .colab-df-convert:hover {\n",
              "      background-color: #E2EBFA;\n",
              "      box-shadow: 0px 1px 2px rgba(60, 64, 67, 0.3), 0px 1px 3px 1px rgba(60, 64, 67, 0.15);\n",
              "      fill: #174EA6;\n",
              "    }\n",
              "\n",
              "    .colab-df-buttons div {\n",
              "      margin-bottom: 4px;\n",
              "    }\n",
              "\n",
              "    [theme=dark] .colab-df-convert {\n",
              "      background-color: #3B4455;\n",
              "      fill: #D2E3FC;\n",
              "    }\n",
              "\n",
              "    [theme=dark] .colab-df-convert:hover {\n",
              "      background-color: #434B5C;\n",
              "      box-shadow: 0px 1px 3px 1px rgba(0, 0, 0, 0.15);\n",
              "      filter: drop-shadow(0px 1px 2px rgba(0, 0, 0, 0.3));\n",
              "      fill: #FFFFFF;\n",
              "    }\n",
              "  </style>\n",
              "\n",
              "    <script>\n",
              "      const buttonEl =\n",
              "        document.querySelector('#df-dd5851ab-0124-4608-b396-d2176b28ed69 button.colab-df-convert');\n",
              "      buttonEl.style.display =\n",
              "        google.colab.kernel.accessAllowed ? 'block' : 'none';\n",
              "\n",
              "      async function convertToInteractive(key) {\n",
              "        const element = document.querySelector('#df-dd5851ab-0124-4608-b396-d2176b28ed69');\n",
              "        const dataTable =\n",
              "          await google.colab.kernel.invokeFunction('convertToInteractive',\n",
              "                                                    [key], {});\n",
              "        if (!dataTable) return;\n",
              "\n",
              "        const docLinkHtml = 'Like what you see? Visit the ' +\n",
              "          '<a target=\"_blank\" href=https://colab.research.google.com/notebooks/data_table.ipynb>data table notebook</a>'\n",
              "          + ' to learn more about interactive tables.';\n",
              "        element.innerHTML = '';\n",
              "        dataTable['output_type'] = 'display_data';\n",
              "        await google.colab.output.renderOutput(dataTable, element);\n",
              "        const docLink = document.createElement('div');\n",
              "        docLink.innerHTML = docLinkHtml;\n",
              "        element.appendChild(docLink);\n",
              "      }\n",
              "    </script>\n",
              "  </div>\n",
              "\n",
              "    </div>\n",
              "  </div>\n"
            ],
            "application/vnd.google.colaboratory.intrinsic+json": {
              "type": "dataframe",
              "summary": "{\n  \"name\": \"data[data['ISI']>30]\",\n  \"rows\": 1,\n  \"fields\": [\n    {\n      \"column\": \"X\",\n      \"properties\": {\n        \"dtype\": \"number\",\n        \"std\": null,\n        \"min\": 7,\n        \"max\": 7,\n        \"num_unique_values\": 1,\n        \"samples\": [\n          7\n        ],\n        \"semantic_type\": \"\",\n        \"description\": \"\"\n      }\n    },\n    {\n      \"column\": \"Y\",\n      \"properties\": {\n        \"dtype\": \"number\",\n        \"std\": null,\n        \"min\": 4,\n        \"max\": 4,\n        \"num_unique_values\": 1,\n        \"samples\": [\n          4\n        ],\n        \"semantic_type\": \"\",\n        \"description\": \"\"\n      }\n    },\n    {\n      \"column\": \"month\",\n      \"properties\": {\n        \"dtype\": \"string\",\n        \"num_unique_values\": 1,\n        \"samples\": [\n          \"jun\"\n        ],\n        \"semantic_type\": \"\",\n        \"description\": \"\"\n      }\n    },\n    {\n      \"column\": \"day\",\n      \"properties\": {\n        \"dtype\": \"string\",\n        \"num_unique_values\": 1,\n        \"samples\": [\n          \"sun\"\n        ],\n        \"semantic_type\": \"\",\n        \"description\": \"\"\n      }\n    },\n    {\n      \"column\": \"FFMC\",\n      \"properties\": {\n        \"dtype\": \"number\",\n        \"std\": null,\n        \"min\": 94.3,\n        \"max\": 94.3,\n        \"num_unique_values\": 1,\n        \"samples\": [\n          94.3\n        ],\n        \"semantic_type\": \"\",\n        \"description\": \"\"\n      }\n    },\n    {\n      \"column\": \"DMC\",\n      \"properties\": {\n        \"dtype\": \"number\",\n        \"std\": null,\n        \"min\": 96.3,\n        \"max\": 96.3,\n        \"num_unique_values\": 1,\n        \"samples\": [\n          96.3\n        ],\n        \"semantic_type\": \"\",\n        \"description\": \"\"\n      }\n    },\n    {\n      \"column\": \"DC\",\n      \"properties\": {\n        \"dtype\": \"number\",\n        \"std\": null,\n        \"min\": 200.0,\n        \"max\": 200.0,\n        \"num_unique_values\": 1,\n        \"samples\": [\n          200.0\n        ],\n        \"semantic_type\": \"\",\n        \"description\": \"\"\n      }\n    },\n    {\n      \"column\": \"ISI\",\n      \"properties\": {\n        \"dtype\": \"number\",\n        \"std\": null,\n        \"min\": 56.1,\n        \"max\": 56.1,\n        \"num_unique_values\": 1,\n        \"samples\": [\n          56.1\n        ],\n        \"semantic_type\": \"\",\n        \"description\": \"\"\n      }\n    },\n    {\n      \"column\": \"temp\",\n      \"properties\": {\n        \"dtype\": \"number\",\n        \"std\": null,\n        \"min\": 21.0,\n        \"max\": 21.0,\n        \"num_unique_values\": 1,\n        \"samples\": [\n          21.0\n        ],\n        \"semantic_type\": \"\",\n        \"description\": \"\"\n      }\n    },\n    {\n      \"column\": \"RH\",\n      \"properties\": {\n        \"dtype\": \"number\",\n        \"std\": null,\n        \"min\": 44,\n        \"max\": 44,\n        \"num_unique_values\": 1,\n        \"samples\": [\n          44\n        ],\n        \"semantic_type\": \"\",\n        \"description\": \"\"\n      }\n    },\n    {\n      \"column\": \"wind\",\n      \"properties\": {\n        \"dtype\": \"number\",\n        \"std\": null,\n        \"min\": 4.5,\n        \"max\": 4.5,\n        \"num_unique_values\": 1,\n        \"samples\": [\n          4.5\n        ],\n        \"semantic_type\": \"\",\n        \"description\": \"\"\n      }\n    },\n    {\n      \"column\": \"rain\",\n      \"properties\": {\n        \"dtype\": \"number\",\n        \"std\": null,\n        \"min\": 0.0,\n        \"max\": 0.0,\n        \"num_unique_values\": 1,\n        \"samples\": [\n          0.0\n        ],\n        \"semantic_type\": \"\",\n        \"description\": \"\"\n      }\n    },\n    {\n      \"column\": \"area\",\n      \"properties\": {\n        \"dtype\": \"number\",\n        \"std\": null,\n        \"min\": 0.0,\n        \"max\": 0.0,\n        \"num_unique_values\": 1,\n        \"samples\": [\n          0.0\n        ],\n        \"semantic_type\": \"\",\n        \"description\": \"\"\n      }\n    }\n  ]\n}"
            }
          },
          "metadata": {},
          "execution_count": 14
        }
      ]
    },
    {
      "cell_type": "markdown",
      "source": [
        "sort of right skewed, outlier above 50 greatly affects how normalized the distribution is"
      ],
      "metadata": {
        "id": "1yAJJ2NAWm4M"
      }
    },
    {
      "cell_type": "markdown",
      "source": [
        "###Data Preprocessing"
      ],
      "metadata": {
        "id": "ae_3WyC1I0Hi"
      }
    },
    {
      "cell_type": "markdown",
      "source": [
        "One-hot encode months, eventually use feature selection to eliminate several of our month columns so that we are just left with the months that are important to predicting for forest fires (typically July to Sept)"
      ],
      "metadata": {
        "id": "139fT8sPT3EM"
      }
    },
    {
      "cell_type": "code",
      "source": [
        "fire_season = []\n",
        "fire_season_months = ['jul', 'aug', 'sep']\n",
        "\n",
        "for index, row in data.iterrows():\n",
        "  fire_season.append(int(row['month'] in fire_season_months))\n",
        "\n",
        "\n",
        "data['fire season'] = fire_season"
      ],
      "metadata": {
        "id": "HGEgJaV8KjR7"
      },
      "execution_count": 15,
      "outputs": []
    },
    {
      "cell_type": "code",
      "source": [
        "# data = pd.get_dummies(data, columns=['month'], drop_first=True) # RUN ONCE"
      ],
      "metadata": {
        "id": "7K1tnMbvT01V"
      },
      "execution_count": 16,
      "outputs": []
    },
    {
      "cell_type": "markdown",
      "source": [
        "Remove X and Y columns because they are just identifiers for the observations, and they are not useful indications for forest fires"
      ],
      "metadata": {
        "id": "PkxMvMptU4ys"
      }
    },
    {
      "cell_type": "code",
      "source": [
        "try:\n",
        "  data = data.drop(columns=['X','Y','day', 'month'])\n",
        "except:\n",
        "  pass"
      ],
      "metadata": {
        "id": "VXIXrpd-V6yl"
      },
      "execution_count": 17,
      "outputs": []
    },
    {
      "cell_type": "code",
      "source": [
        "data.info()"
      ],
      "metadata": {
        "colab": {
          "base_uri": "https://localhost:8080/"
        },
        "id": "SaJo23uOUokT",
        "outputId": "6f6fc626-2bbf-4cb8-def6-006afa68788e"
      },
      "execution_count": 18,
      "outputs": [
        {
          "output_type": "stream",
          "name": "stdout",
          "text": [
            "<class 'pandas.core.frame.DataFrame'>\n",
            "RangeIndex: 517 entries, 0 to 516\n",
            "Data columns (total 10 columns):\n",
            " #   Column       Non-Null Count  Dtype  \n",
            "---  ------       --------------  -----  \n",
            " 0   FFMC         517 non-null    float64\n",
            " 1   DMC          517 non-null    float64\n",
            " 2   DC           517 non-null    float64\n",
            " 3   ISI          517 non-null    float64\n",
            " 4   temp         517 non-null    float64\n",
            " 5   RH           517 non-null    int64  \n",
            " 6   wind         517 non-null    float64\n",
            " 7   rain         517 non-null    float64\n",
            " 8   area         517 non-null    float64\n",
            " 9   fire season  517 non-null    int64  \n",
            "dtypes: float64(8), int64(2)\n",
            "memory usage: 40.5 KB\n"
          ]
        }
      ]
    },
    {
      "cell_type": "code",
      "source": [
        "for index, row in data.iterrows():\n",
        "  if row['area'] == 0:\n",
        "    row['area'] = 0\n",
        "  else:\n",
        "    row['area'] = 1"
      ],
      "metadata": {
        "id": "NcBUv1sf9IIg"
      },
      "execution_count": 19,
      "outputs": []
    },
    {
      "cell_type": "code",
      "source": [
        "data['area'].value_counts()"
      ],
      "metadata": {
        "colab": {
          "base_uri": "https://localhost:8080/"
        },
        "id": "Thw1k-K7VDuv",
        "outputId": "0528ee59-7f97-4ed0-cc61-f8181e472a56"
      },
      "execution_count": 20,
      "outputs": [
        {
          "output_type": "execute_result",
          "data": {
            "text/plain": [
              "area\n",
              "0.00      247\n",
              "1.94        3\n",
              "0.52        2\n",
              "3.71        2\n",
              "0.68        2\n",
              "         ... \n",
              "105.66      1\n",
              "154.88      1\n",
              "196.48      1\n",
              "200.94      1\n",
              "11.16       1\n",
              "Name: count, Length: 251, dtype: int64"
            ]
          },
          "metadata": {},
          "execution_count": 20
        }
      ]
    },
    {
      "cell_type": "code",
      "source": [
        "# data['FFMC'] = np.log(data['FFMC'])"
      ],
      "metadata": {
        "id": "qXdETMMTWZPR"
      },
      "execution_count": 21,
      "outputs": []
    },
    {
      "cell_type": "code",
      "source": [
        "from scipy.stats import boxcox\n",
        "\n",
        "data['FFMC'], _ = boxcox(data['FFMC'])"
      ],
      "metadata": {
        "id": "b0fyZlJPrXuR"
      },
      "execution_count": 22,
      "outputs": []
    },
    {
      "cell_type": "code",
      "source": [
        "column = 'FFMC'\n",
        "plt.hist(data[column],bins=20)\n",
        "plt.xlabel(column)\n",
        "plt.ylabel('Count')\n",
        "plt.title('Hist of '+column)\n",
        "plt.xticks(rotation=70)\n",
        "plt.show()"
      ],
      "metadata": {
        "colab": {
          "base_uri": "https://localhost:8080/",
          "height": 483
        },
        "id": "LmBtU4nKWoi9",
        "outputId": "20a25c44-251c-4d97-9d8b-6be2425966ab"
      },
      "execution_count": 23,
      "outputs": [
        {
          "output_type": "display_data",
          "data": {
            "text/plain": [
              "<Figure size 640x480 with 1 Axes>"
            ],
            "image/png": "[encoded data removed]"
          },
          "metadata": {}
        }
      ]
    },
    {
      "cell_type": "code",
      "source": [
        "data['DMC'], _ = boxcox(data['DMC'])"
      ],
      "metadata": {
        "id": "dBs6Ithmr-BG"
      },
      "execution_count": 24,
      "outputs": []
    },
    {
      "cell_type": "code",
      "source": [
        "column = 'DMC'\n",
        "plt.hist(data[column],bins=10)\n",
        "plt.xlabel(column)\n",
        "plt.ylabel('Count')\n",
        "plt.title('Hist of '+column)\n",
        "plt.xticks(rotation=70)\n",
        "plt.show()"
      ],
      "metadata": {
        "colab": {
          "base_uri": "https://localhost:8080/",
          "height": 479
        },
        "id": "WFZGHNvqsF8b",
        "outputId": "953cdae4-0db6-4aed-ddcb-a745304a69d5"
      },
      "execution_count": 25,
      "outputs": [
        {
          "output_type": "display_data",
          "data": {
            "text/plain": [
              "<Figure size 640x480 with 1 Axes>"
            ],
            "image/png": "[encoded data removed]"
          },
          "metadata": {}
        }
      ]
    },
    {
      "cell_type": "code",
      "source": [
        "data['DC'], _ = boxcox(data['DC'])"
      ],
      "metadata": {
        "id": "uvcfFxKTsJMt"
      },
      "execution_count": 26,
      "outputs": []
    },
    {
      "cell_type": "code",
      "source": [
        "column = 'DC'\n",
        "plt.hist(data[column],bins=10)\n",
        "plt.xlabel(column)\n",
        "plt.ylabel('Count')\n",
        "plt.title('Hist of '+column)\n",
        "plt.xticks(rotation=70)\n",
        "plt.show()"
      ],
      "metadata": {
        "colab": {
          "base_uri": "https://localhost:8080/",
          "height": 504
        },
        "id": "anvlYHE3sHpZ",
        "outputId": "ebd13b1d-8714-4818-9aca-decb7c72b64f"
      },
      "execution_count": 27,
      "outputs": [
        {
          "output_type": "display_data",
          "data": {
            "text/plain": [
              "<Figure size 640x480 with 1 Axes>"
            ],
            "image/png": "[encoded data removed]"
          },
          "metadata": {}
        }
      ]
    },
    {
      "cell_type": "code",
      "source": [
        "data = data[data['ISI']<30]"
      ],
      "metadata": {
        "id": "8lETeVRssq5K"
      },
      "execution_count": 28,
      "outputs": []
    },
    {
      "cell_type": "code",
      "source": [
        "from scipy.stats import yeojohnson\n",
        "\n",
        "data['ISI'], _ = yeojohnson(data['ISI'])"
      ],
      "metadata": {
        "colab": {
          "base_uri": "https://localhost:8080/"
        },
        "id": "rufPkmTssQjJ",
        "outputId": "e74decbb-e79b-4bf6-9fa6-a6fc766d0579"
      },
      "execution_count": 29,
      "outputs": [
        {
          "output_type": "stream",
          "name": "stderr",
          "text": [
            "<ipython-input-29-6d98f5716610>:3: SettingWithCopyWarning: \n",
            "A value is trying to be set on a copy of a slice from a DataFrame.\n",
            "Try using .loc[row_indexer,col_indexer] = value instead\n",
            "\n",
            "See the caveats in the documentation: https://pandas.pydata.org/pandas-docs/stable/user_guide/indexing.html#returning-a-view-versus-a-copy\n",
            "  data['ISI'], _ = yeojohnson(data['ISI'])\n"
          ]
        }
      ]
    },
    {
      "cell_type": "code",
      "source": [
        "column = 'ISI'\n",
        "plt.hist(data[column],bins=10)\n",
        "plt.xlabel(column)\n",
        "plt.ylabel('Count')\n",
        "plt.title('Hist of '+column)\n",
        "plt.xticks(rotation=70)\n",
        "plt.show()"
      ],
      "metadata": {
        "colab": {
          "base_uri": "https://localhost:8080/",
          "height": 471
        },
        "id": "LwCCa2w3sS_5",
        "outputId": "e0f9a23f-be92-4f3a-fafe-0837d1e66b28"
      },
      "execution_count": 30,
      "outputs": [
        {
          "output_type": "display_data",
          "data": {
            "text/plain": [
              "<Figure size 640x480 with 1 Axes>"
            ],
            "image/png": "[encoded data removed]"
          },
          "metadata": {}
        }
      ]
    },
    {
      "cell_type": "code",
      "source": [
        "from sklearn.preprocessing import MinMaxScaler\n",
        "\n",
        "scaler = MinMaxScaler()\n",
        "\n",
        "data['FFMC'] = scaler.fit_transform(data[['FFMC']])"
      ],
      "metadata": {
        "id": "p_35NQJTu8Vx"
      },
      "execution_count": 31,
      "outputs": []
    },
    {
      "cell_type": "code",
      "source": [
        "data['FFMC'].describe()"
      ],
      "metadata": {
        "colab": {
          "base_uri": "https://localhost:8080/"
        },
        "id": "iF3z5MTpvLl2",
        "outputId": "5c5fa280-2b84-418b-e6ba-5e1f90529fce"
      },
      "execution_count": 32,
      "outputs": [
        {
          "output_type": "execute_result",
          "data": {
            "text/plain": [
              "count    516.000000\n",
              "mean       0.532793\n",
              "std        0.194346\n",
              "min        0.000000\n",
              "25%        0.441330\n",
              "50%        0.536687\n",
              "75%        0.641884\n",
              "max        1.000000\n",
              "Name: FFMC, dtype: float64"
            ]
          },
          "metadata": {},
          "execution_count": 32
        }
      ]
    },
    {
      "cell_type": "code",
      "source": [
        "data['DMC'] = scaler.fit_transform(data[['DMC']])"
      ],
      "metadata": {
        "id": "QKXz7llWvUmf"
      },
      "execution_count": 33,
      "outputs": []
    },
    {
      "cell_type": "code",
      "source": [
        "data['DC'] = scaler.fit_transform(data[['DC']])"
      ],
      "metadata": {
        "id": "9Jg0e3aXvujc"
      },
      "execution_count": 34,
      "outputs": []
    },
    {
      "cell_type": "code",
      "source": [
        "data['ISI'] = scaler.fit_transform(data[['ISI']])"
      ],
      "metadata": {
        "id": "Nplw_u6qvx7x"
      },
      "execution_count": 35,
      "outputs": []
    },
    {
      "cell_type": "code",
      "source": [
        "from scipy.stats import boxcox\n",
        "from scipy.stats import yeojohnson\n",
        "\n",
        "# data['FFMC'], _ = boxcox(data['FFMC'])\n",
        "# data['DMC'], _ = boxcox(data['DMC'])\n",
        "# data['DC'], _ = boxcox(data['DC'])\n",
        "# data['ISI'], _ = yeojohnson(data['ISI'])\n",
        "data['temp'], _ = boxcox(data['temp'])\n",
        "data['RH'], _ = boxcox(data['RH'])\n",
        "data['wind'], _ = boxcox(data['wind'])"
      ],
      "metadata": {
        "id": "x7IDi2yFDv7F"
      },
      "execution_count": 36,
      "outputs": []
    },
    {
      "cell_type": "code",
      "source": [
        "from sklearn.preprocessing import MinMaxScaler\n",
        "\n",
        "scaler = MinMaxScaler()\n",
        "\n",
        "# data['FFMC'] = scaler.fit_transform(data[['FFMC']])\n",
        "# data['DMC'] = scaler.fit_transform(data[['DMC']])\n",
        "# data['DC'] = scaler.fit_transform(data[['DC']])\n",
        "# data['ISI'] = scaler.fit_transform(data[['ISI']])\n",
        "data['temp'] = scaler.fit_transform(data[['temp']])\n",
        "data['RH'] = scaler.fit_transform(data[['RH']])\n",
        "data['wind'] = scaler.fit_transform(data[['wind']])"
      ],
      "metadata": {
        "id": "YlrTrK-IEWhM"
      },
      "execution_count": 37,
      "outputs": []
    },
    {
      "cell_type": "code",
      "source": [
        "is_burned = []\n",
        "\n",
        "for index, row in data.iterrows():\n",
        "  is_burned.append(int(row['area'] != 0))\n",
        "\n",
        "data['area'] = is_burned\n",
        "data.rename(columns={'area': 'burned'}, inplace=True)"
      ],
      "metadata": {
        "id": "M7pQrpdpEjXP"
      },
      "execution_count": 38,
      "outputs": []
    },
    {
      "cell_type": "code",
      "source": [
        "data['burned'].value_counts()"
      ],
      "metadata": {
        "colab": {
          "base_uri": "https://localhost:8080/"
        },
        "id": "DjUlk7moElew",
        "outputId": "5638c513-f174-479c-ac03-dfb817e64163"
      },
      "execution_count": 39,
      "outputs": [
        {
          "output_type": "execute_result",
          "data": {
            "text/plain": [
              "burned\n",
              "1    270\n",
              "0    246\n",
              "Name: count, dtype: int64"
            ]
          },
          "metadata": {},
          "execution_count": 39
        }
      ]
    },
    {
      "cell_type": "markdown",
      "source": [
        "###Establishing the Model: Logistic Regression"
      ],
      "metadata": {
        "id": "gsGCYj31JQ1T"
      }
    },
    {
      "cell_type": "code",
      "source": [
        "from sklearn.model_selection import train_test_split\n",
        "input_features = data.drop(columns=['burned'])\n",
        "target = data['burned']\n",
        "\n",
        "X_train, X_test, y_train, y_test = train_test_split(input_features, target, test_size=0.2, stratify = target, random_state=42)"
      ],
      "metadata": {
        "id": "d9LCcpORDqbW"
      },
      "execution_count": 40,
      "outputs": []
    },
    {
      "cell_type": "code",
      "source": [
        "from sklearn.linear_model import LogisticRegression\n",
        "\n",
        "clf = LogisticRegression(random_state=45,max_iter =10000,solver='liblinear')"
      ],
      "metadata": {
        "id": "ClV-GcF4DX9N"
      },
      "execution_count": 41,
      "outputs": []
    },
    {
      "cell_type": "markdown",
      "source": [
        "liblinear suits smaller datasets"
      ],
      "metadata": {
        "id": "yM7gX8EB6Cpr"
      }
    },
    {
      "cell_type": "code",
      "source": [
        "data.info()"
      ],
      "metadata": {
        "colab": {
          "base_uri": "https://localhost:8080/"
        },
        "id": "1Wr9IbznLMB4",
        "outputId": "4f4f1334-3499-43ff-e6c8-302e4e2bfb40"
      },
      "execution_count": 42,
      "outputs": [
        {
          "output_type": "stream",
          "name": "stdout",
          "text": [
            "<class 'pandas.core.frame.DataFrame'>\n",
            "Index: 516 entries, 0 to 516\n",
            "Data columns (total 10 columns):\n",
            " #   Column       Non-Null Count  Dtype  \n",
            "---  ------       --------------  -----  \n",
            " 0   FFMC         516 non-null    float64\n",
            " 1   DMC          516 non-null    float64\n",
            " 2   DC           516 non-null    float64\n",
            " 3   ISI          516 non-null    float64\n",
            " 4   temp         516 non-null    float64\n",
            " 5   RH           516 non-null    float64\n",
            " 6   wind         516 non-null    float64\n",
            " 7   rain         516 non-null    float64\n",
            " 8   burned       516 non-null    int64  \n",
            " 9   fire season  516 non-null    int64  \n",
            "dtypes: float64(8), int64(2)\n",
            "memory usage: 44.3 KB\n"
          ]
        }
      ]
    },
    {
      "cell_type": "code",
      "source": [
        "# Train the classifier on the training data\n",
        "clf.fit(X_train, y_train)\n",
        "\n",
        "\n",
        "# Make predictions on the train data\n",
        "y_train_pred = clf.predict(X_train)\n",
        "\n",
        "# Make predictions on the test data\n",
        "y_test_pred = clf.predict(X_test)"
      ],
      "metadata": {
        "id": "n2YrHI4iErfK"
      },
      "execution_count": 43,
      "outputs": []
    },
    {
      "cell_type": "code",
      "source": [
        "y_probs = clf.predict_proba(X_train)[:,1]\n",
        "print(y_probs)"
      ],
      "metadata": {
        "colab": {
          "base_uri": "https://localhost:8080/"
        },
        "id": "miGJJdV3IRIM",
        "outputId": "2a80103b-35f0-4690-e93d-dba2f036fda7"
      },
      "execution_count": 44,
      "outputs": [
        {
          "output_type": "stream",
          "name": "stdout",
          "text": [
            "[0.54556346 0.55187615 0.53967739 0.4783957  0.57914343 0.4709231\n",
            " 0.59731263 0.50057285 0.55597038 0.56655789 0.59973712 0.57505727\n",
            " 0.5666343  0.52521251 0.53302266 0.56816058 0.52242351 0.51114268\n",
            " 0.52616539 0.5045531  0.53229912 0.53494651 0.51303748 0.56424437\n",
            " 0.49384728 0.54101483 0.5815226  0.51075525 0.56000789 0.47901684\n",
            " 0.53136835 0.56529329 0.43153662 0.46495242 0.51109564 0.47317181\n",
            " 0.5650221  0.47365207 0.47605165 0.53789137 0.52680293 0.56411554\n",
            " 0.53084962 0.50357206 0.55088392 0.55587367 0.5669565  0.49528631\n",
            " 0.56547874 0.52684058 0.55697004 0.57215181 0.53146009 0.5675094\n",
            " 0.51139504 0.43538503 0.57825534 0.53257134 0.5258638  0.57325745\n",
            " 0.51736975 0.46412702 0.55723678 0.45690378 0.57454116 0.55292324\n",
            " 0.58312472 0.44511247 0.52075701 0.52607609 0.56380829 0.5106462\n",
            " 0.53132801 0.5501539  0.53896368 0.55771064 0.5561326  0.48286631\n",
            " 0.56087883 0.49555591 0.55271984 0.53628819 0.59313743 0.48106478\n",
            " 0.5093768  0.44316297 0.45963113 0.47744994 0.5669218  0.41726083\n",
            " 0.47901684 0.53444806 0.46764723 0.45790906 0.38080208 0.58598563\n",
            " 0.51258695 0.57474876 0.59599161 0.55255155 0.45677687 0.52679357\n",
            " 0.46348608 0.43835235 0.54996643 0.49342356 0.51494022 0.47560278\n",
            " 0.52646506 0.46946069 0.49926221 0.51639772 0.48214076 0.53716027\n",
            " 0.55569232 0.54450514 0.54487958 0.51805177 0.46988122 0.54566948\n",
            " 0.56667926 0.51618319 0.55398799 0.51311905 0.49324529 0.56170816\n",
            " 0.56989098 0.46393745 0.45856249 0.55736585 0.55153828 0.5510085\n",
            " 0.50274382 0.52707247 0.55986905 0.50222723 0.53203212 0.54482404\n",
            " 0.53257134 0.54622107 0.49238728 0.52266735 0.53236301 0.56349928\n",
            " 0.52647736 0.57384089 0.54972086 0.58113225 0.57267064 0.53864936\n",
            " 0.47797542 0.44009277 0.54503937 0.42404022 0.53764213 0.51493443\n",
            " 0.53719833 0.38428028 0.49044204 0.45564008 0.51359557 0.54124919\n",
            " 0.53425939 0.5728606  0.49445654 0.53975479 0.55603917 0.54220495\n",
            " 0.5782622  0.49384728 0.50960217 0.58882358 0.51251103 0.51468567\n",
            " 0.52356032 0.54835657 0.5669565  0.56655432 0.63530368 0.52573301\n",
            " 0.52565353 0.4335488  0.43672821 0.57141266 0.50468126 0.53302447\n",
            " 0.44122152 0.50169557 0.47675186 0.51123686 0.52757117 0.57676992\n",
            " 0.51923724 0.52305385 0.50605492 0.49483353 0.51576037 0.54796612\n",
            " 0.53914726 0.5455234  0.51986342 0.53333114 0.50658541 0.56745487\n",
            " 0.58634782 0.54002161 0.51154111 0.51014668 0.5387262  0.43213091\n",
            " 0.50960217 0.60238501 0.55153837 0.5322024  0.50978349 0.54482404\n",
            " 0.45025792 0.41710118 0.53803256 0.49448229 0.5155811  0.5736498\n",
            " 0.57602087 0.59017281 0.55517035 0.55123675 0.52293184 0.56570194\n",
            " 0.50640819 0.47553374 0.5498157  0.4748664  0.54366262 0.53549488\n",
            " 0.57505727 0.5861228  0.49633782 0.48937804 0.54673552 0.52408996\n",
            " 0.5524782  0.54972086 0.51688274 0.56552447 0.52155244 0.56840481\n",
            " 0.5238891  0.56458118 0.59526741 0.43351794 0.4852564  0.51119135\n",
            " 0.57269802 0.48286631 0.54200253 0.56553992 0.48503115 0.53827051\n",
            " 0.56722419 0.57080289 0.49384728 0.50685409 0.54754581 0.52693858\n",
            " 0.48007477 0.51089679 0.52771358 0.48130094 0.54520598 0.52828627\n",
            " 0.50710797 0.40029385 0.47317181 0.5561326  0.5960726  0.52128355\n",
            " 0.43359746 0.54204848 0.55894725 0.42496548 0.56455304 0.54114867\n",
            " 0.57267064 0.56942301 0.53676363 0.46330045 0.54389804 0.53852658\n",
            " 0.48681015 0.55643235 0.60957848 0.5491358  0.42163476 0.52933456\n",
            " 0.53146009 0.56530865 0.43252464 0.52187948 0.54254145 0.5081928\n",
            " 0.43343471 0.58341689 0.5770968  0.46384361 0.50594583 0.56221786\n",
            " 0.55748817 0.56953715 0.52621821 0.52611321 0.41046827 0.54524611\n",
            " 0.55425791 0.49357132 0.55153003 0.52392438 0.51611926 0.44792739\n",
            " 0.46423513 0.44593105 0.51020549 0.39949499 0.43019175 0.51566925\n",
            " 0.47879285 0.55345882 0.45664906 0.56617776 0.43899638 0.57994717\n",
            " 0.55671562 0.59741475 0.51792091 0.57959715 0.49193533 0.56094117\n",
            " 0.54857262 0.4861063  0.49306968 0.496947   0.54740659 0.57508356\n",
            " 0.55896083 0.53150221 0.52467681 0.50790389 0.58049061 0.50057833\n",
            " 0.40823245 0.5924728  0.55470481 0.52978799 0.59267753 0.55200947\n",
            " 0.64586935 0.50700508 0.49749558 0.42940444 0.55771525 0.52609507\n",
            " 0.53025238 0.45642473 0.56087246 0.56785281 0.47365207 0.53146009\n",
            " 0.51348224 0.51169781 0.55819603 0.57823885 0.52305385 0.51327842\n",
            " 0.53668043 0.4798092  0.56501973 0.5253509  0.55678611 0.57913316\n",
            " 0.48214076 0.57712606 0.54921447 0.47242808 0.55802876 0.54443983\n",
            " 0.47430403 0.49355829 0.58610895 0.52661912 0.52031515 0.45891758\n",
            " 0.55219754 0.5301906  0.56721558 0.47690447 0.57522111 0.55675708\n",
            " 0.51034767 0.55752863 0.42262766 0.54295833 0.51846937 0.56380829\n",
            " 0.57906332 0.49343346 0.508617   0.58191367 0.55118752 0.51479487\n",
            " 0.56606047 0.81170627 0.56636562 0.54562163]\n"
          ]
        }
      ]
    },
    {
      "cell_type": "code",
      "source": [
        "decision_threshold = 0.6\n",
        "predictions = [1 if pred_ >= decision_threshold else 0 for pred_ in y_probs]"
      ],
      "metadata": {
        "id": "p886w1kFIZLd"
      },
      "execution_count": 45,
      "outputs": []
    },
    {
      "cell_type": "code",
      "source": [
        "from sklearn.metrics import *\n",
        "\n",
        "print(f\"Accuracy (Train set): {accuracy_score(y_train, y_train_pred)}\")\n",
        "print(f\"Accuracy (Test set): {accuracy_score(y_test, y_test_pred)}\")\n",
        "print(f\"Accuracy score: {accuracy_score(y_train,predictions)}\")"
      ],
      "metadata": {
        "colab": {
          "base_uri": "https://localhost:8080/"
        },
        "id": "SMtixWNiEyde",
        "outputId": "dbe5645e-bae1-491f-dcae-79e8c6d58da3"
      },
      "execution_count": 46,
      "outputs": [
        {
          "output_type": "stream",
          "name": "stdout",
          "text": [
            "Accuracy (Train set): 0.5436893203883495\n",
            "Accuracy (Test set): 0.5865384615384616\n",
            "Accuracy score: 0.47815533980582525\n"
          ]
        }
      ]
    },
    {
      "cell_type": "code",
      "source": [
        "thresholds = list(np.arange(0.05, 1, 0.05))\n",
        "\n",
        "# Initialize empty lists to store accuracy scores\n",
        "accuracies = []\n",
        "\n",
        "# Iterate through each K value and train a KNN classifier\n",
        "for t in thresholds:\n",
        "    predictions = [1 if pred_ >= t else 0 for pred_ in y_probs]\n",
        "    accuracies.append(accuracy_score(y_train,predictions))\n",
        "\n",
        "# Plot the elbow plot\n",
        "plt.figure(figsize=(10, 6))\n",
        "plt.plot(thresholds, accuracies, marker='o', linestyle='-', color='b')\n",
        "plt.title('Accuracy Scores Across Different Thresholds')\n",
        "plt.xlabel('Threshold')\n",
        "plt.ylabel('Accuracy')\n",
        "plt.grid(True)\n",
        "plt.xticks(thresholds)\n",
        "plt.show()"
      ],
      "metadata": {
        "colab": {
          "base_uri": "https://localhost:8080/",
          "height": 564
        },
        "id": "xtvwDzYcWDJt",
        "outputId": "c1164264-15dc-4afe-e52d-463e6dc3a064"
      },
      "execution_count": 47,
      "outputs": [
        {
          "output_type": "display_data",
          "data": {
            "text/plain": [
              "<Figure size 1000x600 with 1 Axes>"
            ],
            "image/png": "[encoded data removed]"
          },
          "metadata": {}
        }
      ]
    },
    {
      "cell_type": "code",
      "source": [
        "print(f\"Precision (Train set): {precision_score(y_train, y_train_pred)}\")\n",
        "print(f\"Precision (Test set): {precision_score(y_test, y_test_pred)}\")"
      ],
      "metadata": {
        "colab": {
          "base_uri": "https://localhost:8080/"
        },
        "id": "fiOy-IlNG3ig",
        "outputId": "3d6b97e8-3cf2-4623-99a6-20bb1d98bdfe"
      },
      "execution_count": 48,
      "outputs": [
        {
          "output_type": "stream",
          "name": "stdout",
          "text": [
            "Precision (Train set): 0.5454545454545454\n",
            "Precision (Test set): 0.5753424657534246\n"
          ]
        }
      ]
    },
    {
      "cell_type": "code",
      "source": [
        "thresholds = list(np.arange(0.05, 1, 0.05))\n",
        "\n",
        "# Initialize empty lists to store accuracy scores\n",
        "precision = []\n",
        "\n",
        "# Iterate through each K value and train a KNN classifier\n",
        "for t in thresholds:\n",
        "    predictions = [1 if pred_ >= t else 0 for pred_ in y_probs]\n",
        "    precision.append(precision_score(y_train,predictions))\n",
        "\n",
        "# Plot the elbow plot\n",
        "plt.figure(figsize=(10, 6))\n",
        "plt.plot(thresholds, precision, marker='o', linestyle='-', color='b')\n",
        "plt.title('Precision Scores Across Different Thresholds')\n",
        "plt.xlabel('Threshold')\n",
        "plt.ylabel('Precision')\n",
        "plt.grid(True)\n",
        "plt.xticks(thresholds)\n",
        "plt.show()"
      ],
      "metadata": {
        "colab": {
          "base_uri": "https://localhost:8080/",
          "height": 691
        },
        "id": "TyX_Lmg9Ycc0",
        "outputId": "825cb969-2404-4f14-eefd-3d97f4113e15"
      },
      "execution_count": 49,
      "outputs": [
        {
          "output_type": "stream",
          "name": "stderr",
          "text": [
            "/usr/local/lib/python3.10/dist-packages/sklearn/metrics/_classification.py:1344: UndefinedMetricWarning: Precision is ill-defined and being set to 0.0 due to no predicted samples. Use `zero_division` parameter to control this behavior.\n",
            "  _warn_prf(average, modifier, msg_start, len(result))\n",
            "/usr/local/lib/python3.10/dist-packages/sklearn/metrics/_classification.py:1344: UndefinedMetricWarning: Precision is ill-defined and being set to 0.0 due to no predicted samples. Use `zero_division` parameter to control this behavior.\n",
            "  _warn_prf(average, modifier, msg_start, len(result))\n",
            "/usr/local/lib/python3.10/dist-packages/sklearn/metrics/_classification.py:1344: UndefinedMetricWarning: Precision is ill-defined and being set to 0.0 due to no predicted samples. Use `zero_division` parameter to control this behavior.\n",
            "  _warn_prf(average, modifier, msg_start, len(result))\n"
          ]
        },
        {
          "output_type": "display_data",
          "data": {
            "text/plain": [
              "<Figure size 1000x600 with 1 Axes>"
            ],
            "image/png": "[encoded data removed]"
          },
          "metadata": {}
        }
      ]
    },
    {
      "cell_type": "code",
      "source": [
        "print(f\"Recall (Train set): {recall_score(y_train, y_train_pred)}\")\n",
        "print(f\"Recall (Test set): {recall_score(y_test, y_test_pred)}\")"
      ],
      "metadata": {
        "colab": {
          "base_uri": "https://localhost:8080/"
        },
        "id": "bH82GjgXFt4Z",
        "outputId": "c9593ef6-7046-40c7-fc57-c65ccc5d0fe4"
      },
      "execution_count": 50,
      "outputs": [
        {
          "output_type": "stream",
          "name": "stdout",
          "text": [
            "Recall (Train set): 0.7777777777777778\n",
            "Recall (Test set): 0.7777777777777778\n"
          ]
        }
      ]
    },
    {
      "cell_type": "code",
      "source": [
        "thresholds = list(np.arange(0.05, 1, 0.05))\n",
        "\n",
        "# Initialize empty lists to store accuracy scores\n",
        "recall = []\n",
        "\n",
        "# Iterate through each K value and train a KNN classifier\n",
        "for t in thresholds:\n",
        "    predictions = [1 if pred_ >= t else 0 for pred_ in y_probs]\n",
        "    recall.append(recall_score(y_train,predictions))\n",
        "\n",
        "# Plot the elbow plot\n",
        "plt.figure(figsize=(10, 6))\n",
        "plt.plot(thresholds, recall, marker='o', linestyle='-', color='b')\n",
        "plt.title('Recall Scores Across Different Thresholds')\n",
        "plt.xlabel('Threshold')\n",
        "plt.ylabel('Recall')\n",
        "plt.grid(True)\n",
        "plt.xticks(thresholds)\n",
        "plt.show()"
      ],
      "metadata": {
        "colab": {
          "base_uri": "https://localhost:8080/",
          "height": 564
        },
        "id": "SjdcIEOXY-pw",
        "outputId": "3e708a58-14b2-43b9-abc6-a64159276a90"
      },
      "execution_count": 51,
      "outputs": [
        {
          "output_type": "display_data",
          "data": {
            "text/plain": [
              "<Figure size 1000x600 with 1 Axes>"
            ],
            "image/png": "[encoded data removed]"
          },
          "metadata": {}
        }
      ]
    },
    {
      "cell_type": "code",
      "source": [
        "print(f\"F1 Score (Train set): {f1_score(y_train, y_train_pred)}\")\n",
        "print(f\"F1 Score (Test set): {f1_score(y_test, y_test_pred)}\")"
      ],
      "metadata": {
        "colab": {
          "base_uri": "https://localhost:8080/"
        },
        "id": "-oDz2KExG8nW",
        "outputId": "06d1becf-b65b-4d05-b420-c7ef9582089a"
      },
      "execution_count": 52,
      "outputs": [
        {
          "output_type": "stream",
          "name": "stdout",
          "text": [
            "F1 Score (Train set): 0.6412213740458015\n",
            "F1 Score (Test set): 0.6614173228346456\n"
          ]
        }
      ]
    },
    {
      "cell_type": "code",
      "source": [
        "thresholds = list(np.arange(0.05, 1, 0.05))\n",
        "\n",
        "# Initialize empty lists to store accuracy scores\n",
        "f1 = []\n",
        "\n",
        "# Iterate through each K value and train a KNN classifier\n",
        "for t in thresholds:\n",
        "    predictions = [1 if pred_ >= t else 0 for pred_ in y_probs]\n",
        "    f1.append(f1_score(y_train,predictions))\n",
        "\n",
        "# Plot the elbow plot\n",
        "plt.figure(figsize=(10, 6))\n",
        "plt.plot(thresholds, f1, marker='o', linestyle='-', color='b')\n",
        "plt.title('F1 Scores Across Different Thresholds')\n",
        "plt.xlabel('Threshold')\n",
        "plt.ylabel('F1')\n",
        "plt.grid(True)\n",
        "plt.xticks(thresholds)\n",
        "plt.show()"
      ],
      "metadata": {
        "colab": {
          "base_uri": "https://localhost:8080/",
          "height": 564
        },
        "id": "hxRS0vhAZaXA",
        "outputId": "26090d27-1702-4749-c965-674bb2a9c597"
      },
      "execution_count": 53,
      "outputs": [
        {
          "output_type": "display_data",
          "data": {
            "text/plain": [
              "<Figure size 1000x600 with 1 Axes>"
            ],
            "image/png": "[encoded data removed]"
          },
          "metadata": {}
        }
      ]
    },
    {
      "cell_type": "code",
      "source": [
        "print(f\"ROC AUC Score (Train set): {roc_auc_score(y_train, y_train_pred)}\")\n",
        "print(f\"ROC AUC Score (Test set): {roc_auc_score(y_test, y_test_pred)}\")"
      ],
      "metadata": {
        "colab": {
          "base_uri": "https://localhost:8080/"
        },
        "id": "fZA7Jq0xHBq9",
        "outputId": "fcfe8831-9957-45ff-efb6-200ca4567200"
      },
      "execution_count": 54,
      "outputs": [
        {
          "output_type": "stream",
          "name": "stdout",
          "text": [
            "ROC AUC Score (Train set): 0.5317460317460317\n",
            "ROC AUC Score (Test set): 0.5788888888888889\n"
          ]
        }
      ]
    },
    {
      "cell_type": "code",
      "source": [
        "thresholds = list(np.arange(0.05, 1, 0.05))\n",
        "\n",
        "# Initialize empty lists to store accuracy scores\n",
        "auc = []\n",
        "\n",
        "# Iterate through each K value and train a KNN classifier\n",
        "for t in thresholds:\n",
        "    predictions = [1 if pred_ >= t else 0 for pred_ in y_probs]\n",
        "    auc.append(roc_auc_score(y_train,predictions))\n",
        "\n",
        "# Plot the elbow plot\n",
        "plt.figure(figsize=(10, 6))\n",
        "plt.plot(thresholds, auc, marker='o', linestyle='-', color='b')\n",
        "plt.title('ROC AUC Scores Across Different Thresholds')\n",
        "plt.xlabel('Threshold')\n",
        "plt.ylabel('ROC AUC')\n",
        "plt.grid(True)\n",
        "plt.xticks(thresholds)\n",
        "plt.show()"
      ],
      "metadata": {
        "colab": {
          "base_uri": "https://localhost:8080/",
          "height": 564
        },
        "id": "jO2t7W2LZjNU",
        "outputId": "c53f11a2-f9c8-46b6-e80d-03bd58462080"
      },
      "execution_count": 55,
      "outputs": [
        {
          "output_type": "display_data",
          "data": {
            "text/plain": [
              "<Figure size 1000x600 with 1 Axes>"
            ],
            "image/png": "[encoded data removed]"
          },
          "metadata": {}
        }
      ]
    },
    {
      "cell_type": "code",
      "source": [
        "print(f\"Log Loss (Train set): {log_loss(y_train, y_train_pred)}\")\n",
        "print(f\"Log Loss (Test set): {log_loss(y_test, y_test_pred)}\")"
      ],
      "metadata": {
        "colab": {
          "base_uri": "https://localhost:8080/"
        },
        "id": "1ons3sPQHQRF",
        "outputId": "8f117648-a80a-4bf7-9895-749c24e3f992"
      },
      "execution_count": 56,
      "outputs": [
        {
          "output_type": "stream",
          "name": "stdout",
          "text": [
            "Log Loss (Train set): 16.447103973674817\n",
            "Log Loss (Test set): 14.902664382038823\n"
          ]
        }
      ]
    },
    {
      "cell_type": "code",
      "source": [
        "thresholds = list(np.arange(0.05, 1, 0.05))\n",
        "\n",
        "# Initialize empty lists to store accuracy scores\n",
        "log_l = []\n",
        "\n",
        "# Iterate through each K value and train a KNN classifier\n",
        "for t in thresholds:\n",
        "    predictions = [1 if pred_ >= t else 0 for pred_ in y_probs]\n",
        "    log_l.append(log_loss(y_train,predictions))\n",
        "\n",
        "# Plot the elbow plot\n",
        "plt.figure(figsize=(10, 6))\n",
        "plt.plot(thresholds, log_l, marker='o', linestyle='-', color='b')\n",
        "plt.title('Log Loss Scores Across Different Thresholds')\n",
        "plt.xlabel('Threshold')\n",
        "plt.ylabel('Log Loss')\n",
        "plt.grid(True)\n",
        "plt.xticks(thresholds)\n",
        "plt.show()"
      ],
      "metadata": {
        "colab": {
          "base_uri": "https://localhost:8080/",
          "height": 564
        },
        "id": "E5R0motFZt1U",
        "outputId": "98647d45-24e5-4d99-b090-287964fa097f"
      },
      "execution_count": 57,
      "outputs": [
        {
          "output_type": "display_data",
          "data": {
            "text/plain": [
              "<Figure size 1000x600 with 1 Axes>"
            ],
            "image/png": "[encoded data removed]"
          },
          "metadata": {}
        }
      ]
    },
    {
      "cell_type": "markdown",
      "source": [
        "Make threshold 0.45"
      ],
      "metadata": {
        "id": "Rja_AmPNaopz"
      }
    },
    {
      "cell_type": "code",
      "source": [
        "y_probs = clf.predict_proba(X_test)[:,1]\n",
        "print(y_probs)\n",
        "decision_threshold = 0.45\n",
        "predictions = [1 if pred_ >= decision_threshold else 0 for pred_ in y_probs]\n",
        "print(f\"Accuracy score: {accuracy_score(y_test,predictions)}\")\n",
        "print(f\"Precision score: {precision_score(y_test,predictions)}\")\n",
        "print(f\"Recall score: {recall_score(y_test,predictions)}\")\n",
        "print(f\"F1 score: {f1_score(y_test,predictions)}\")\n",
        "print(f\"ROC AUC score: {roc_auc_score(y_test,predictions)}\")\n",
        "print(f\"Log loss score: {log_loss(y_test,predictions)}\")"
      ],
      "metadata": {
        "colab": {
          "base_uri": "https://localhost:8080/"
        },
        "id": "EGOhC1VsaoSI",
        "outputId": "6c22a65a-2d1a-4656-823f-9e64ad5698a8"
      },
      "execution_count": 58,
      "outputs": [
        {
          "output_type": "stream",
          "name": "stdout",
          "text": [
            "[0.45310808 0.52155244 0.5490191  0.55802876 0.50321809 0.48339155\n",
            " 0.56600846 0.56530865 0.42615726 0.51291355 0.57813537 0.48557101\n",
            " 0.5459537  0.56927565 0.53370229 0.5296181  0.59764713 0.52015708\n",
            " 0.53328007 0.60329106 0.47605046 0.5476246  0.47567396 0.57141266\n",
            " 0.56895985 0.4865616  0.53025792 0.49483353 0.50404544 0.5158453\n",
            " 0.55166333 0.51311905 0.49179316 0.47317181 0.53721268 0.5025759\n",
            " 0.52726932 0.59831107 0.58345004 0.5696244  0.55931737 0.49019517\n",
            " 0.58881545 0.54847152 0.50162105 0.5821504  0.53084945 0.46492653\n",
            " 0.55153828 0.45831072 0.57043943 0.50688466 0.42394504 0.52781617\n",
            " 0.52121717 0.52516131 0.46863222 0.56655432 0.4546461  0.432847\n",
            " 0.40569222 0.41652884 0.58131508 0.58345004 0.51973683 0.45926029\n",
            " 0.5565328  0.53321495 0.53190985 0.48401549 0.52853625 0.51384981\n",
            " 0.49583203 0.52263932 0.50351    0.54997265 0.47278173 0.56839221\n",
            " 0.59238312 0.49777958 0.5276553  0.53256291 0.49384728 0.46393745\n",
            " 0.5501101  0.55257519 0.60721653 0.53131524 0.55407337 0.55413007\n",
            " 0.53958653 0.45363317 0.54932298 0.47671926 0.45635883 0.46336065\n",
            " 0.52439268 0.44419111 0.53190985 0.55964841 0.52651923 0.50468126\n",
            " 0.55425734 0.52327873]\n",
            "Accuracy score: 0.5384615384615384\n",
            "Precision score: 0.5306122448979592\n",
            "Recall score: 0.9629629629629629\n",
            "F1 score: 0.6842105263157895\n",
            "ROC AUC score: 0.5214814814814814\n",
            "Log loss score: 16.635532333438682\n"
          ]
        }
      ]
    },
    {
      "cell_type": "markdown",
      "source": [
        "###Hyperparameter Tuning (Logistic Regression)"
      ],
      "metadata": {
        "id": "eRr5_VndJfmK"
      }
    },
    {
      "cell_type": "code",
      "source": [
        "param_grid = {\n",
        "    'penalty': ['l1', 'l2'],\n",
        "    'C': [0.001, 0.01, 0.1, 1, 10, 100, 1000]\n",
        "}"
      ],
      "metadata": {
        "id": "etZmNW995IFW"
      },
      "execution_count": 59,
      "outputs": []
    },
    {
      "cell_type": "code",
      "source": [
        "from sklearn.model_selection import StratifiedKFold\n",
        "skf = StratifiedKFold(n_splits=5, random_state=12, shuffle=True)"
      ],
      "metadata": {
        "id": "rt0Btx_P6gmt"
      },
      "execution_count": 60,
      "outputs": []
    },
    {
      "cell_type": "code",
      "source": [
        "from sklearn.model_selection import GridSearchCV\n",
        "\n",
        "grid_search = GridSearchCV(estimator=clf, param_grid=param_grid, cv=skf, scoring='accuracy')\n",
        "grid_search.fit(X_train, y_train)\n",
        "\n",
        "best_params_grid = grid_search.best_params_\n",
        "best_score_grid = grid_search.best_score_"
      ],
      "metadata": {
        "id": "YUFg584x5hP0"
      },
      "execution_count": 61,
      "outputs": []
    },
    {
      "cell_type": "code",
      "source": [
        "print(best_params_grid)\n",
        "print(best_score_grid)"
      ],
      "metadata": {
        "colab": {
          "base_uri": "https://localhost:8080/"
        },
        "id": "lOzwtGQG-Mx6",
        "outputId": "e2d2e1d4-c3df-47be-89e0-352318957546"
      },
      "execution_count": 62,
      "outputs": [
        {
          "output_type": "stream",
          "name": "stdout",
          "text": [
            "{'C': 0.001, 'penalty': 'l2'}\n",
            "0.524272700558331\n"
          ]
        }
      ]
    },
    {
      "cell_type": "code",
      "source": [
        "clf.set_params(penalty = 'l2', C=0.001)\n",
        "clf.fit(X_train,y_train)\n",
        "y_train_pred = clf.predict(X_train)\n",
        "print(f'Accuracy: {accuracy_score(y_train, y_train_pred)}')\n",
        "print(f'Precision: {precision_score(y_train, y_train_pred)}')\n",
        "print(f'Recall: {recall_score(y_train, y_train_pred)}')\n",
        "print(f'F1 Score: {f1_score(y_train, y_train_pred)}')\n",
        "print(f'ROC AUC: {roc_auc_score(y_train, y_train_pred)}')\n",
        "print(f'Log Loss: {log_loss(y_train, y_train_pred)}')"
      ],
      "metadata": {
        "colab": {
          "base_uri": "https://localhost:8080/"
        },
        "id": "r7vOlFei_FCB",
        "outputId": "04b68201-b37a-49f1-e3b5-5839d2dda225"
      },
      "execution_count": 63,
      "outputs": [
        {
          "output_type": "stream",
          "name": "stdout",
          "text": [
            "Accuracy: 0.5242718446601942\n",
            "Precision: 0.5242718446601942\n",
            "Recall: 1.0\n",
            "F1 Score: 0.6878980891719745\n",
            "ROC AUC: 0.5\n",
            "Log Loss: 17.146980738512042\n"
          ]
        }
      ]
    },
    {
      "cell_type": "code",
      "source": [
        "clf.fit(X_test,y_test)\n",
        "y_pred = clf.predict(X_test)\n",
        "print(f'Accuracy: {accuracy_score(y_test, y_pred)}')\n",
        "print(f'Precision: {precision_score(y_test, y_pred)}')\n",
        "print(f'Recall: {recall_score(y_test, y_pred)}')\n",
        "print(f'F1 Score: {f1_score(y_test, y_pred)}')\n",
        "print(f'ROC AUC: {roc_auc_score(y_test, y_pred)}')\n",
        "print(f'Log Loss: {log_loss(y_test, y_pred)}')"
      ],
      "metadata": {
        "colab": {
          "base_uri": "https://localhost:8080/"
        },
        "id": "nRSeKVJjJ51b",
        "outputId": "0e6aa8a0-42b8-4bf6-b8a8-95829fc43a65"
      },
      "execution_count": 64,
      "outputs": [
        {
          "output_type": "stream",
          "name": "stdout",
          "text": [
            "Accuracy: 0.5192307692307693\n",
            "Precision: 0.5192307692307693\n",
            "Recall: 1.0\n",
            "F1 Score: 0.6835443037974684\n",
            "ROC AUC: 0.5\n",
            "Log Loss: 17.32867951399863\n"
          ]
        }
      ]
    },
    {
      "cell_type": "markdown",
      "source": [
        "use on train set first, and then apply to test set\n",
        "validation set"
      ],
      "metadata": {
        "id": "NzgiCRXFcfQX"
      }
    },
    {
      "cell_type": "markdown",
      "source": [
        "###Feature Importance (Random Forest)"
      ],
      "metadata": {
        "id": "KpGXHdOxKGE6"
      }
    },
    {
      "cell_type": "code",
      "source": [
        "from sklearn.ensemble import RandomForestClassifier\n",
        "\n",
        "for x in np.arange(10,100,10):\n",
        "  RF_classifier =  RandomForestClassifier(n_estimators=x)\n",
        "  RF_classifier.fit(X_train, y_train)\n",
        "  y_pred_train = RF_classifier.predict(X_train)\n",
        "  print(accuracy_score(y_train, y_pred_train))"
      ],
      "metadata": {
        "colab": {
          "base_uri": "https://localhost:8080/"
        },
        "id": "cG8itN-yagYn",
        "outputId": "044b2b87-18a7-40d3-ba15-0e880a7a55fb"
      },
      "execution_count": 65,
      "outputs": [
        {
          "output_type": "stream",
          "name": "stdout",
          "text": [
            "0.9587378640776699\n",
            "0.9660194174757282\n",
            "0.9733009708737864\n",
            "0.9757281553398058\n",
            "0.9757281553398058\n",
            "0.9757281553398058\n",
            "0.9757281553398058\n",
            "0.9757281553398058\n",
            "0.9757281553398058\n"
          ]
        }
      ]
    },
    {
      "cell_type": "code",
      "source": [
        "RF_classifier =  RandomForestClassifier(n_estimators=40)\n",
        "RF_classifier.fit(X_train, y_train)"
      ],
      "metadata": {
        "colab": {
          "base_uri": "https://localhost:8080/",
          "height": 75
        },
        "id": "LnGIx-95Ksgm",
        "outputId": "77faf82e-0f49-40cf-9ce1-d4a1552679d6"
      },
      "execution_count": 66,
      "outputs": [
        {
          "output_type": "execute_result",
          "data": {
            "text/plain": [
              "RandomForestClassifier(n_estimators=40)"
            ],
            "text/html": [
              "<style>#sk-container-id-1 {color: black;background-color: white;}#sk-container-id-1 pre{padding: 0;}#sk-container-id-1 div.sk-toggleable {background-color: white;}#sk-container-id-1 label.sk-toggleable__label {cursor: pointer;display: block;width: 100%;margin-bottom: 0;padding: 0.3em;box-sizing: border-box;text-align: center;}#sk-container-id-1 label.sk-toggleable__label-arrow:before {content: \"▸\";float: left;margin-right: 0.25em;color: #696969;}#sk-container-id-1 label.sk-toggleable__label-arrow:hover:before {color: black;}#sk-container-id-1 div.sk-estimator:hover label.sk-toggleable__label-arrow:before {color: black;}#sk-container-id-1 div.sk-toggleable__content {max-height: 0;max-width: 0;overflow: hidden;text-align: left;background-color: #f0f8ff;}#sk-container-id-1 div.sk-toggleable__content pre {margin: 0.2em;color: black;border-radius: 0.25em;background-color: #f0f8ff;}#sk-container-id-1 input.sk-toggleable__control:checked~div.sk-toggleable__content {max-height: 200px;max-width: 100%;overflow: auto;}#sk-container-id-1 input.sk-toggleable__control:checked~label.sk-toggleable__label-arrow:before {content: \"▾\";}#sk-container-id-1 div.sk-estimator input.sk-toggleable__control:checked~label.sk-toggleable__label {background-color: #d4ebff;}#sk-container-id-1 div.sk-label input.sk-toggleable__control:checked~label.sk-toggleable__label {background-color: #d4ebff;}#sk-container-id-1 input.sk-hidden--visually {border: 0;clip: rect(1px 1px 1px 1px);clip: rect(1px, 1px, 1px, 1px);height: 1px;margin: -1px;overflow: hidden;padding: 0;position: absolute;width: 1px;}#sk-container-id-1 div.sk-estimator {font-family: monospace;background-color: #f0f8ff;border: 1px dotted black;border-radius: 0.25em;box-sizing: border-box;margin-bottom: 0.5em;}#sk-container-id-1 div.sk-estimator:hover {background-color: #d4ebff;}#sk-container-id-1 div.sk-parallel-item::after {content: \"\";width: 100%;border-bottom: 1px solid gray;flex-grow: 1;}#sk-container-id-1 div.sk-label:hover label.sk-toggleable__label {background-color: #d4ebff;}#sk-container-id-1 div.sk-serial::before {content: \"\";position: absolute;border-left: 1px solid gray;box-sizing: border-box;top: 0;bottom: 0;left: 50%;z-index: 0;}#sk-container-id-1 div.sk-serial {display: flex;flex-direction: column;align-items: center;background-color: white;padding-right: 0.2em;padding-left: 0.2em;position: relative;}#sk-container-id-1 div.sk-item {position: relative;z-index: 1;}#sk-container-id-1 div.sk-parallel {display: flex;align-items: stretch;justify-content: center;background-color: white;position: relative;}#sk-container-id-1 div.sk-item::before, #sk-container-id-1 div.sk-parallel-item::before {content: \"\";position: absolute;border-left: 1px solid gray;box-sizing: border-box;top: 0;bottom: 0;left: 50%;z-index: -1;}#sk-container-id-1 div.sk-parallel-item {display: flex;flex-direction: column;z-index: 1;position: relative;background-color: white;}#sk-container-id-1 div.sk-parallel-item:first-child::after {align-self: flex-end;width: 50%;}#sk-container-id-1 div.sk-parallel-item:last-child::after {align-self: flex-start;width: 50%;}#sk-container-id-1 div.sk-parallel-item:only-child::after {width: 0;}#sk-container-id-1 div.sk-dashed-wrapped {border: 1px dashed gray;margin: 0 0.4em 0.5em 0.4em;box-sizing: border-box;padding-bottom: 0.4em;background-color: white;}#sk-container-id-1 div.sk-label label {font-family: monospace;font-weight: bold;display: inline-block;line-height: 1.2em;}#sk-container-id-1 div.sk-label-container {text-align: center;}#sk-container-id-1 div.sk-container {/* jupyter's `normalize.less` sets `[hidden] { display: none; }` but bootstrap.min.css set `[hidden] { display: none !important; }` so we also need the `!important` here to be able to override the default hidden behavior on the sphinx rendered scikit-learn.org. See: https://github.com/scikit-learn/scikit-learn/issues/21755 */display: inline-block !important;position: relative;}#sk-container-id-1 div.sk-text-repr-fallback {display: none;}</style><div id=\"sk-container-id-1\" class=\"sk-top-container\"><div class=\"sk-text-repr-fallback\"><pre>RandomForestClassifier(n_estimators=40)</pre><b>In a Jupyter environment, please rerun this cell to show the HTML representation or trust the notebook. <br />On GitHub, the HTML representation is unable to render, please try loading this page with nbviewer.org.</b></div><div class=\"sk-container\" hidden><div class=\"sk-item\"><div class=\"sk-estimator sk-toggleable\"><input class=\"sk-toggleable__control sk-hidden--visually\" id=\"sk-estimator-id-1\" type=\"checkbox\" checked><label for=\"sk-estimator-id-1\" class=\"sk-toggleable__label sk-toggleable__label-arrow\">RandomForestClassifier</label><div class=\"sk-toggleable__content\"><pre>RandomForestClassifier(n_estimators=40)</pre></div></div></div></div></div>"
            ]
          },
          "metadata": {},
          "execution_count": 66
        }
      ]
    },
    {
      "cell_type": "code",
      "source": [
        "import seaborn as sns"
      ],
      "metadata": {
        "id": "LsRqtQwLKKbi"
      },
      "execution_count": 67,
      "outputs": []
    },
    {
      "cell_type": "code",
      "source": [
        "# Get feature importances\n",
        "feature_importances = RF_classifier.feature_importances_\n",
        "\n",
        "# Print the importance of each feature\n",
        "for feature, importance in zip(input_features.columns, feature_importances):\n",
        "  print(f\"{feature}: {importance:.4f}\")"
      ],
      "metadata": {
        "colab": {
          "base_uri": "https://localhost:8080/"
        },
        "id": "HyJgbJPkJxmS",
        "outputId": "3045e1a2-e057-46d4-e30a-3f372e812be8"
      },
      "execution_count": 68,
      "outputs": [
        {
          "output_type": "stream",
          "name": "stdout",
          "text": [
            "FFMC: 0.1192\n",
            "DMC: 0.1223\n",
            "DC: 0.1307\n",
            "ISI: 0.1131\n",
            "temp: 0.1904\n",
            "RH: 0.1753\n",
            "wind: 0.1384\n",
            "rain: 0.0053\n",
            "fire season: 0.0053\n"
          ]
        }
      ]
    },
    {
      "cell_type": "code",
      "source": [
        "def plot_feature_importance(importance, names, model_name):\n",
        "  #create arrays from feature importance and feature names\n",
        "  feature_importance = np.array(importance)\n",
        "  feature_names = np.array(names)\n",
        "\n",
        "  # create a dataframe using a dictionary\n",
        "  data = {'feature_names':feature_names, 'feature_importance':feature_importance}\n",
        "  fi_df = pd.DataFrame(data)\n",
        "  fi_df.sort_values(by=['feature_importance'],ascending = False, inplace=True)\n",
        "\n",
        "  #define size of bar plot\n",
        "  plt.figure(figsize=(10,8))\n",
        "  sns.barplot(x=fi_df['feature_importance'], y = fi_df['feature_names'])\n",
        "  plt.title(model_name + \"FEATURE IMPORTANCE\")\n",
        "\n",
        "  #Add chart labels\n",
        "  plt.xlabel(\"FEATURE IMPORTANCE\")\n",
        "  plt.ylabel(\"FEATURE NAMES\")"
      ],
      "metadata": {
        "id": "JYtE1mvXJ3no"
      },
      "execution_count": 69,
      "outputs": []
    },
    {
      "cell_type": "code",
      "source": [
        "plot_feature_importance(feature_importances , names = input_features.columns, model_name= \"RANDOM FORESTS \")"
      ],
      "metadata": {
        "colab": {
          "base_uri": "https://localhost:8080/",
          "height": 718
        },
        "id": "-TTvdN1BKGIn",
        "outputId": "527cad5a-2371-47cd-c8e6-279ff50d2ab6"
      },
      "execution_count": 70,
      "outputs": [
        {
          "output_type": "display_data",
          "data": {
            "text/plain": [
              "<Figure size 1000x800 with 1 Axes>"
            ],
            "image/png": "[encoded data removed]"
          },
          "metadata": {}
        }
      ]
    },
    {
      "cell_type": "code",
      "source": [
        "try:\n",
        "  data = data.drop(['rain','fire season'],axis=1)\n",
        "except:\n",
        "  pass"
      ],
      "metadata": {
        "id": "3q6J4igyMJ37"
      },
      "execution_count": 71,
      "outputs": []
    },
    {
      "cell_type": "code",
      "source": [
        "data.head()"
      ],
      "metadata": {
        "colab": {
          "base_uri": "https://localhost:8080/",
          "height": 206
        },
        "id": "8g2cxYrxMVCd",
        "outputId": "a9503ec7-efee-4077-a747-209b7ccb99a8"
      },
      "execution_count": 72,
      "outputs": [
        {
          "output_type": "execute_result",
          "data": {
            "text/plain": [
              "       FFMC       DMC        DC       ISI      temp        RH      wind  \\\n",
              "0  0.248060  0.192831  0.040160  0.351356  0.142144  0.651921  0.806892   \n",
              "1  0.466843  0.239768  0.695339  0.429670  0.441072  0.422909  0.133123   \n",
              "2  0.466843  0.278394  0.722207  0.429670  0.330678  0.422909  0.213021   \n",
              "3  0.544177  0.229489  0.029980  0.531138  0.144854  0.984414  0.567348   \n",
              "4  0.388551  0.311469  0.045241  0.555938  0.232855  0.994859  0.296627   \n",
              "\n",
              "   burned  \n",
              "0       0  \n",
              "1       0  \n",
              "2       0  \n",
              "3       0  \n",
              "4       0  "
            ],
            "text/html": [
              "\n",
              "  <div id=\"df-48af591c-ede6-4d94-9c82-c55264f2ba06\" class=\"colab-df-container\">\n",
              "    <div>\n",
              "<style scoped>\n",
              "    .dataframe tbody tr th:only-of-type {\n",
              "        vertical-align: middle;\n",
              "    }\n",
              "\n",
              "    .dataframe tbody tr th {\n",
              "        vertical-align: top;\n",
              "    }\n",
              "\n",
              "    .dataframe thead th {\n",
              "        text-align: right;\n",
              "    }\n",
              "</style>\n",
              "<table border=\"1\" class=\"dataframe\">\n",
              "  <thead>\n",
              "    <tr style=\"text-align: right;\">\n",
              "      <th></th>\n",
              "      <th>FFMC</th>\n",
              "      <th>DMC</th>\n",
              "      <th>DC</th>\n",
              "      <th>ISI</th>\n",
              "      <th>temp</th>\n",
              "      <th>RH</th>\n",
              "      <th>wind</th>\n",
              "      <th>burned</th>\n",
              "    </tr>\n",
              "  </thead>\n",
              "  <tbody>\n",
              "    <tr>\n",
              "      <th>0</th>\n",
              "      <td>0.248060</td>\n",
              "      <td>0.192831</td>\n",
              "      <td>0.040160</td>\n",
              "      <td>0.351356</td>\n",
              "      <td>0.142144</td>\n",
              "      <td>0.651921</td>\n",
              "      <td>0.806892</td>\n",
              "      <td>0</td>\n",
              "    </tr>\n",
              "    <tr>\n",
              "      <th>1</th>\n",
              "      <td>0.466843</td>\n",
              "      <td>0.239768</td>\n",
              "      <td>0.695339</td>\n",
              "      <td>0.429670</td>\n",
              "      <td>0.441072</td>\n",
              "      <td>0.422909</td>\n",
              "      <td>0.133123</td>\n",
              "      <td>0</td>\n",
              "    </tr>\n",
              "    <tr>\n",
              "      <th>2</th>\n",
              "      <td>0.466843</td>\n",
              "      <td>0.278394</td>\n",
              "      <td>0.722207</td>\n",
              "      <td>0.429670</td>\n",
              "      <td>0.330678</td>\n",
              "      <td>0.422909</td>\n",
              "      <td>0.213021</td>\n",
              "      <td>0</td>\n",
              "    </tr>\n",
              "    <tr>\n",
              "      <th>3</th>\n",
              "      <td>0.544177</td>\n",
              "      <td>0.229489</td>\n",
              "      <td>0.029980</td>\n",
              "      <td>0.531138</td>\n",
              "      <td>0.144854</td>\n",
              "      <td>0.984414</td>\n",
              "      <td>0.567348</td>\n",
              "      <td>0</td>\n",
              "    </tr>\n",
              "    <tr>\n",
              "      <th>4</th>\n",
              "      <td>0.388551</td>\n",
              "      <td>0.311469</td>\n",
              "      <td>0.045241</td>\n",
              "      <td>0.555938</td>\n",
              "      <td>0.232855</td>\n",
              "      <td>0.994859</td>\n",
              "      <td>0.296627</td>\n",
              "      <td>0</td>\n",
              "    </tr>\n",
              "  </tbody>\n",
              "</table>\n",
              "</div>\n",
              "    <div class=\"colab-df-buttons\">\n",
              "\n",
              "  <div class=\"colab-df-container\">\n",
              "    <button class=\"colab-df-convert\" onclick=\"convertToInteractive('df-48af591c-ede6-4d94-9c82-c55264f2ba06')\"\n",
              "            title=\"Convert this dataframe to an interactive table.\"\n",
              "            style=\"display:none;\">\n",
              "\n",
              "  <svg xmlns=\"http://www.w3.org/2000/svg\" height=\"24px\" viewBox=\"0 -960 960 960\">\n",
              "    <path d=\"M120-120v-720h720v720H120Zm60-500h600v-160H180v160Zm220 220h160v-160H400v160Zm0 220h160v-160H400v160ZM180-400h160v-160H180v160Zm440 0h160v-160H620v160ZM180-180h160v-160H180v160Zm440 0h160v-160H620v160Z\"/>\n",
              "  </svg>\n",
              "    </button>\n",
              "\n",
              "  <style>\n",
              "    .colab-df-container {\n",
              "      display:flex;\n",
              "      gap: 12px;\n",
              "    }\n",
              "\n",
              "    .colab-df-convert {\n",
              "      background-color: #E8F0FE;\n",
              "      border: none;\n",
              "      border-radius: 50%;\n",
              "      cursor: pointer;\n",
              "      display: none;\n",
              "      fill: #1967D2;\n",
              "      height: 32px;\n",
              "      padding: 0 0 0 0;\n",
              "      width: 32px;\n",
              "    }\n",
              "\n",
              "    .colab-df-convert:hover {\n",
              "      background-color: #E2EBFA;\n",
              "      box-shadow: 0px 1px 2px rgba(60, 64, 67, 0.3), 0px 1px 3px 1px rgba(60, 64, 67, 0.15);\n",
              "      fill: #174EA6;\n",
              "    }\n",
              "\n",
              "    .colab-df-buttons div {\n",
              "      margin-bottom: 4px;\n",
              "    }\n",
              "\n",
              "    [theme=dark] .colab-df-convert {\n",
              "      background-color: #3B4455;\n",
              "      fill: #D2E3FC;\n",
              "    }\n",
              "\n",
              "    [theme=dark] .colab-df-convert:hover {\n",
              "      background-color: #434B5C;\n",
              "      box-shadow: 0px 1px 3px 1px rgba(0, 0, 0, 0.15);\n",
              "      filter: drop-shadow(0px 1px 2px rgba(0, 0, 0, 0.3));\n",
              "      fill: #FFFFFF;\n",
              "    }\n",
              "  </style>\n",
              "\n",
              "    <script>\n",
              "      const buttonEl =\n",
              "        document.querySelector('#df-48af591c-ede6-4d94-9c82-c55264f2ba06 button.colab-df-convert');\n",
              "      buttonEl.style.display =\n",
              "        google.colab.kernel.accessAllowed ? 'block' : 'none';\n",
              "\n",
              "      async function convertToInteractive(key) {\n",
              "        const element = document.querySelector('#df-48af591c-ede6-4d94-9c82-c55264f2ba06');\n",
              "        const dataTable =\n",
              "          await google.colab.kernel.invokeFunction('convertToInteractive',\n",
              "                                                    [key], {});\n",
              "        if (!dataTable) return;\n",
              "\n",
              "        const docLinkHtml = 'Like what you see? Visit the ' +\n",
              "          '<a target=\"_blank\" href=https://colab.research.google.com/notebooks/data_table.ipynb>data table notebook</a>'\n",
              "          + ' to learn more about interactive tables.';\n",
              "        element.innerHTML = '';\n",
              "        dataTable['output_type'] = 'display_data';\n",
              "        await google.colab.output.renderOutput(dataTable, element);\n",
              "        const docLink = document.createElement('div');\n",
              "        docLink.innerHTML = docLinkHtml;\n",
              "        element.appendChild(docLink);\n",
              "      }\n",
              "    </script>\n",
              "  </div>\n",
              "\n",
              "\n",
              "<div id=\"df-b9a25647-0ed1-4599-bd1b-70d5b9cb7bbe\">\n",
              "  <button class=\"colab-df-quickchart\" onclick=\"quickchart('df-b9a25647-0ed1-4599-bd1b-70d5b9cb7bbe')\"\n",
              "            title=\"Suggest charts\"\n",
              "            style=\"display:none;\">\n",
              "\n",
              "<svg xmlns=\"http://www.w3.org/2000/svg\" height=\"24px\"viewBox=\"0 0 24 24\"\n",
              "     width=\"24px\">\n",
              "    <g>\n",
              "        <path d=\"M19 3H5c-1.1 0-2 .9-2 2v14c0 1.1.9 2 2 2h14c1.1 0 2-.9 2-2V5c0-1.1-.9-2-2-2zM9 17H7v-7h2v7zm4 0h-2V7h2v10zm4 0h-2v-4h2v4z\"/>\n",
              "    </g>\n",
              "</svg>\n",
              "  </button>\n",
              "\n",
              "<style>\n",
              "  .colab-df-quickchart {\n",
              "      --bg-color: #E8F0FE;\n",
              "      --fill-color: #1967D2;\n",
              "      --hover-bg-color: #E2EBFA;\n",
              "      --hover-fill-color: #174EA6;\n",
              "      --disabled-fill-color: #AAA;\n",
              "      --disabled-bg-color: #DDD;\n",
              "  }\n",
              "\n",
              "  [theme=dark] .colab-df-quickchart {\n",
              "      --bg-color: #3B4455;\n",
              "      --fill-color: #D2E3FC;\n",
              "      --hover-bg-color: #434B5C;\n",
              "      --hover-fill-color: #FFFFFF;\n",
              "      --disabled-bg-color: #3B4455;\n",
              "      --disabled-fill-color: #666;\n",
              "  }\n",
              "\n",
              "  .colab-df-quickchart {\n",
              "    background-color: var(--bg-color);\n",
              "    border: none;\n",
              "    border-radius: 50%;\n",
              "    cursor: pointer;\n",
              "    display: none;\n",
              "    fill: var(--fill-color);\n",
              "    height: 32px;\n",
              "    padding: 0;\n",
              "    width: 32px;\n",
              "  }\n",
              "\n",
              "  .colab-df-quickchart:hover {\n",
              "    background-color: var(--hover-bg-color);\n",
              "    box-shadow: 0 1px 2px rgba(60, 64, 67, 0.3), 0 1px 3px 1px rgba(60, 64, 67, 0.15);\n",
              "    fill: var(--button-hover-fill-color);\n",
              "  }\n",
              "\n",
              "  .colab-df-quickchart-complete:disabled,\n",
              "  .colab-df-quickchart-complete:disabled:hover {\n",
              "    background-color: var(--disabled-bg-color);\n",
              "    fill: var(--disabled-fill-color);\n",
              "    box-shadow: none;\n",
              "  }\n",
              "\n",
              "  .colab-df-spinner {\n",
              "    border: 2px solid var(--fill-color);\n",
              "    border-color: transparent;\n",
              "    border-bottom-color: var(--fill-color);\n",
              "    animation:\n",
              "      spin 1s steps(1) infinite;\n",
              "  }\n",
              "\n",
              "  @keyframes spin {\n",
              "    0% {\n",
              "      border-color: transparent;\n",
              "      border-bottom-color: var(--fill-color);\n",
              "      border-left-color: var(--fill-color);\n",
              "    }\n",
              "    20% {\n",
              "      border-color: transparent;\n",
              "      border-left-color: var(--fill-color);\n",
              "      border-top-color: var(--fill-color);\n",
              "    }\n",
              "    30% {\n",
              "      border-color: transparent;\n",
              "      border-left-color: var(--fill-color);\n",
              "      border-top-color: var(--fill-color);\n",
              "      border-right-color: var(--fill-color);\n",
              "    }\n",
              "    40% {\n",
              "      border-color: transparent;\n",
              "      border-right-color: var(--fill-color);\n",
              "      border-top-color: var(--fill-color);\n",
              "    }\n",
              "    60% {\n",
              "      border-color: transparent;\n",
              "      border-right-color: var(--fill-color);\n",
              "    }\n",
              "    80% {\n",
              "      border-color: transparent;\n",
              "      border-right-color: var(--fill-color);\n",
              "      border-bottom-color: var(--fill-color);\n",
              "    }\n",
              "    90% {\n",
              "      border-color: transparent;\n",
              "      border-bottom-color: var(--fill-color);\n",
              "    }\n",
              "  }\n",
              "</style>\n",
              "\n",
              "  <script>\n",
              "    async function quickchart(key) {\n",
              "      const quickchartButtonEl =\n",
              "        document.querySelector('#' + key + ' button');\n",
              "      quickchartButtonEl.disabled = true;  // To prevent multiple clicks.\n",
              "      quickchartButtonEl.classList.add('colab-df-spinner');\n",
              "      try {\n",
              "        const charts = await google.colab.kernel.invokeFunction(\n",
              "            'suggestCharts', [key], {});\n",
              "      } catch (error) {\n",
              "        console.error('Error during call to suggestCharts:', error);\n",
              "      }\n",
              "      quickchartButtonEl.classList.remove('colab-df-spinner');\n",
              "      quickchartButtonEl.classList.add('colab-df-quickchart-complete');\n",
              "    }\n",
              "    (() => {\n",
              "      let quickchartButtonEl =\n",
              "        document.querySelector('#df-b9a25647-0ed1-4599-bd1b-70d5b9cb7bbe button');\n",
              "      quickchartButtonEl.style.display =\n",
              "        google.colab.kernel.accessAllowed ? 'block' : 'none';\n",
              "    })();\n",
              "  </script>\n",
              "</div>\n",
              "    </div>\n",
              "  </div>\n"
            ],
            "application/vnd.google.colaboratory.intrinsic+json": {
              "type": "dataframe",
              "variable_name": "data",
              "summary": "{\n  \"name\": \"data\",\n  \"rows\": 516,\n  \"fields\": [\n    {\n      \"column\": \"FFMC\",\n      \"properties\": {\n        \"dtype\": \"number\",\n        \"std\": 0.1943459028650333,\n        \"min\": 0.0,\n        \"max\": 1.0,\n        \"num_unique_values\": 106,\n        \"samples\": [\n          0.9611056422743917,\n          0.4868619109554564,\n          0.5911732083510777\n        ],\n        \"semantic_type\": \"\",\n        \"description\": \"\"\n      }\n    },\n    {\n      \"column\": \"DMC\",\n      \"properties\": {\n        \"dtype\": \"number\",\n        \"std\": 0.21471052804552274,\n        \"min\": 0.0,\n        \"max\": 1.0,\n        \"num_unique_values\": 214,\n        \"samples\": [\n          0.451175056650688,\n          0.3515922874072014,\n          0.4915764332430733\n        ],\n        \"semantic_type\": \"\",\n        \"description\": \"\"\n      }\n    },\n    {\n      \"column\": \"DC\",\n      \"properties\": {\n        \"dtype\": \"number\",\n        \"std\": 0.2915170403705251,\n        \"min\": 0.0,\n        \"max\": 1.0,\n        \"num_unique_values\": 218,\n        \"samples\": [\n          0.5558306967506284,\n          0.6900931192950142,\n          0.9115231971627182\n        ],\n        \"semantic_type\": \"\",\n        \"description\": \"\"\n      }\n    },\n    {\n      \"column\": \"ISI\",\n      \"properties\": {\n        \"dtype\": \"number\",\n        \"std\": 0.17241873100451172,\n        \"min\": 0.0,\n        \"max\": 1.0,\n        \"num_unique_values\": 118,\n        \"samples\": [\n          0.3716694656319743,\n          0.47071232204875085,\n          0.7469461877523071\n        ],\n        \"semantic_type\": \"\",\n        \"description\": \"\"\n      }\n    },\n    {\n      \"column\": \"temp\",\n      \"properties\": {\n        \"dtype\": \"number\",\n        \"std\": 0.19170968798392116,\n        \"min\": 0.0,\n        \"max\": 1.0,\n        \"num_unique_values\": 192,\n        \"samples\": [\n          0.2447239050992366,\n          0.05584673243758245,\n          0.5018770694410939\n        ],\n        \"semantic_type\": \"\",\n        \"description\": \"\"\n      }\n    },\n    {\n      \"column\": \"RH\",\n      \"properties\": {\n        \"dtype\": \"number\",\n        \"std\": 0.19010027711949948,\n        \"min\": 0.0,\n        \"max\": 1.0000000000000002,\n        \"num_unique_values\": 75,\n        \"samples\": [\n          0.35432346408799953,\n          0.7452033249014163,\n          0.8311093578673632\n        ],\n        \"semantic_type\": \"\",\n        \"description\": \"\"\n      }\n    },\n    {\n      \"column\": \"wind\",\n      \"properties\": {\n        \"dtype\": \"number\",\n        \"std\": 0.18610139535583972,\n        \"min\": 0.0,\n        \"max\": 1.0,\n        \"num_unique_values\": 21,\n        \"samples\": [\n          0.8068922998958642,\n          0.9392595513593271,\n          0.775062143305033\n        ],\n        \"semantic_type\": \"\",\n        \"description\": \"\"\n      }\n    },\n    {\n      \"column\": \"burned\",\n      \"properties\": {\n        \"dtype\": \"number\",\n        \"std\": 0,\n        \"min\": 0,\n        \"max\": 1,\n        \"num_unique_values\": 2,\n        \"samples\": [\n          1,\n          0\n        ],\n        \"semantic_type\": \"\",\n        \"description\": \"\"\n      }\n    }\n  ]\n}"
            }
          },
          "metadata": {},
          "execution_count": 72
        }
      ]
    },
    {
      "cell_type": "markdown",
      "source": [
        "###Hyperparameter Tuning (Random Forest)"
      ],
      "metadata": {
        "id": "f-yh3B-wK6C-"
      }
    },
    {
      "cell_type": "code",
      "source": [
        "params = {\n",
        "    'criterion': ['gini', 'entropy', 'log_loss'],\n",
        "    'max_depth': np.arange(1,10,1),\n",
        "    'min_samples_split': np.arange(2,10,1),\n",
        "    'max_features': ['sqrt', 'log2', None]\n",
        "}"
      ],
      "metadata": {
        "id": "y35kUeSiYAuz"
      },
      "execution_count": 73,
      "outputs": []
    },
    {
      "cell_type": "code",
      "source": [
        "from sklearn.model_selection import StratifiedKFold\n",
        "skf = StratifiedKFold(n_splits=5, random_state=12, shuffle=True)"
      ],
      "metadata": {
        "id": "x2ubMnbiaQ0o"
      },
      "execution_count": 74,
      "outputs": []
    },
    {
      "cell_type": "code",
      "source": [
        "# from sklearn.model_selection import GridSearchCV\n",
        "\n",
        "# # Create a Grid Search object\n",
        "# grid_search = GridSearchCV(estimator=RF_classifier, param_grid=params, cv=skf, scoring='accuracy')\n",
        "\n",
        "# # Fit the Grid Search to the training data\n",
        "# grid_search.fit(X_train, y_train)\n",
        "\n",
        "# # Get the best hyperparameters from Grid Search\n",
        "# best_params_grid = grid_search.best_params_\n",
        "# best_score_grid = grid_search.best_score_"
      ],
      "metadata": {
        "id": "BK5PLHqQaD7n"
      },
      "execution_count": 75,
      "outputs": []
    },
    {
      "cell_type": "code",
      "source": [
        "# print(best_params_grid)\n",
        "# print(best_score_grid)"
      ],
      "metadata": {
        "id": "8AZ9buOa726p"
      },
      "execution_count": 76,
      "outputs": []
    },
    {
      "cell_type": "markdown",
      "source": [
        "{'criterion': 'gini', 'max_depth': 2, 'max_features': None, 'min_samples_split': 3}\n",
        "\n",
        "Best Score: 0.5752571260652366"
      ],
      "metadata": {
        "id": "LwWbSsy_8T8x"
      }
    },
    {
      "cell_type": "code",
      "source": [
        "RF_classifier_2 =  RandomForestClassifier(n_estimators=40, criterion='gini', min_samples_split=3)\n",
        "RF_classifier_2.fit(X_test, y_test)\n",
        "y_pred = RF_classifier_2.predict(X_test)\n",
        "print(accuracy_score(y_test, y_pred))"
      ],
      "metadata": {
        "colab": {
          "base_uri": "https://localhost:8080/"
        },
        "id": "PDmrccrv8SNX",
        "outputId": "1856fec5-a0b7-4cbe-bfd7-a7f7d0ea4a24"
      },
      "execution_count": 77,
      "outputs": [
        {
          "output_type": "stream",
          "name": "stdout",
          "text": [
            "0.9903846153846154\n"
          ]
        }
      ]
    },
    {
      "cell_type": "code",
      "source": [
        "RF_classifier_2.fit(X_train, y_train)\n",
        "for x in range(5,100,5):\n",
        "  RF_classifier_2.set_params(max_depth=x)\n",
        "\n",
        "  # Evaluate the pruned Random Forest model\n",
        "  accuracy = RF_classifier_2.score(X_train, y_train)\n",
        "  print(RF_classifier_2.get_params()['max_depth'])\n",
        "  print(\"Accuracy of pruned Random Forest:\", accuracy)"
      ],
      "metadata": {
        "colab": {
          "base_uri": "https://localhost:8080/"
        },
        "id": "AEFoaO-n0W7g",
        "outputId": "7a0d27cc-4e4a-49d4-8c2c-28897f311afa"
      },
      "execution_count": 78,
      "outputs": [
        {
          "output_type": "stream",
          "name": "stdout",
          "text": [
            "5\n",
            "Accuracy of pruned Random Forest: 0.9635922330097088\n",
            "10\n",
            "Accuracy of pruned Random Forest: 0.9635922330097088\n",
            "15\n",
            "Accuracy of pruned Random Forest: 0.9635922330097088\n",
            "20\n",
            "Accuracy of pruned Random Forest: 0.9635922330097088\n",
            "25\n",
            "Accuracy of pruned Random Forest: 0.9635922330097088\n",
            "30\n",
            "Accuracy of pruned Random Forest: 0.9635922330097088\n",
            "35\n",
            "Accuracy of pruned Random Forest: 0.9635922330097088\n",
            "40\n",
            "Accuracy of pruned Random Forest: 0.9635922330097088\n",
            "45\n",
            "Accuracy of pruned Random Forest: 0.9635922330097088\n",
            "50\n",
            "Accuracy of pruned Random Forest: 0.9635922330097088\n",
            "55\n",
            "Accuracy of pruned Random Forest: 0.9635922330097088\n",
            "60\n",
            "Accuracy of pruned Random Forest: 0.9635922330097088\n",
            "65\n",
            "Accuracy of pruned Random Forest: 0.9635922330097088\n",
            "70\n",
            "Accuracy of pruned Random Forest: 0.9635922330097088\n",
            "75\n",
            "Accuracy of pruned Random Forest: 0.9635922330097088\n",
            "80\n",
            "Accuracy of pruned Random Forest: 0.9635922330097088\n",
            "85\n",
            "Accuracy of pruned Random Forest: 0.9635922330097088\n",
            "90\n",
            "Accuracy of pruned Random Forest: 0.9635922330097088\n",
            "95\n",
            "Accuracy of pruned Random Forest: 0.9635922330097088\n"
          ]
        }
      ]
    },
    {
      "cell_type": "code",
      "source": [
        "for x in range(1,10):\n",
        "  RF_classifier_2.set_params(min_samples_leaf=x)\n",
        "\n",
        "  # Evaluate the pruned Random Forest model\n",
        "  accuracy = RF_classifier_2.score(X_train, y_train)\n",
        "  print(RF_classifier_2.get_params()['min_samples_leaf'])\n",
        "  print(\"Accuracy of pruned Random Forest:\", accuracy)"
      ],
      "metadata": {
        "colab": {
          "base_uri": "https://localhost:8080/"
        },
        "id": "h9kRb20F2dLM",
        "outputId": "b99a3645-614d-41ae-cf7a-83a44db51ae2"
      },
      "execution_count": 79,
      "outputs": [
        {
          "output_type": "stream",
          "name": "stdout",
          "text": [
            "1\n",
            "Accuracy of pruned Random Forest: 0.9635922330097088\n",
            "2\n",
            "Accuracy of pruned Random Forest: 0.9635922330097088\n",
            "3\n",
            "Accuracy of pruned Random Forest: 0.9635922330097088\n",
            "4\n",
            "Accuracy of pruned Random Forest: 0.9635922330097088\n",
            "5\n",
            "Accuracy of pruned Random Forest: 0.9635922330097088\n",
            "6\n",
            "Accuracy of pruned Random Forest: 0.9635922330097088\n",
            "7\n",
            "Accuracy of pruned Random Forest: 0.9635922330097088\n",
            "8\n",
            "Accuracy of pruned Random Forest: 0.9635922330097088\n",
            "9\n",
            "Accuracy of pruned Random Forest: 0.9635922330097088\n"
          ]
        }
      ]
    },
    {
      "cell_type": "code",
      "source": [
        "RF_classifier_2.set_params(max_depth=None,min_samples_leaf=1)\n",
        "RF_classifier_2.get_params()"
      ],
      "metadata": {
        "colab": {
          "base_uri": "https://localhost:8080/"
        },
        "id": "6FEZ-FoJ3GaB",
        "outputId": "996bc239-33ac-47e1-c970-63447d101caf"
      },
      "execution_count": 80,
      "outputs": [
        {
          "output_type": "execute_result",
          "data": {
            "text/plain": [
              "{'bootstrap': True,\n",
              " 'ccp_alpha': 0.0,\n",
              " 'class_weight': None,\n",
              " 'criterion': 'gini',\n",
              " 'max_depth': None,\n",
              " 'max_features': 'sqrt',\n",
              " 'max_leaf_nodes': None,\n",
              " 'max_samples': None,\n",
              " 'min_impurity_decrease': 0.0,\n",
              " 'min_samples_leaf': 1,\n",
              " 'min_samples_split': 3,\n",
              " 'min_weight_fraction_leaf': 0.0,\n",
              " 'n_estimators': 40,\n",
              " 'n_jobs': None,\n",
              " 'oob_score': False,\n",
              " 'random_state': None,\n",
              " 'verbose': 0,\n",
              " 'warm_start': False}"
            ]
          },
          "metadata": {},
          "execution_count": 80
        }
      ]
    },
    {
      "cell_type": "code",
      "source": [
        "RF_classifier_2.fit(X_train,y_train)\n",
        "y_train_pred = RF_classifier_2.predict(X_train)\n",
        "print(f'Accuracy: {accuracy_score(y_train, y_train_pred)}')\n",
        "print(f'Precision: {precision_score(y_train, y_train_pred)}')\n",
        "print(f'Recall: {recall_score(y_train, y_train_pred)}')\n",
        "print(f'F1 Score: {f1_score(y_train, y_train_pred)}')\n",
        "print(f'ROC AUC: {roc_auc_score(y_train, y_train_pred)}')\n",
        "print(f'Log Loss: {log_loss(y_train, y_train_pred)}')"
      ],
      "metadata": {
        "colab": {
          "base_uri": "https://localhost:8080/"
        },
        "id": "gz0prz6VCIkw",
        "outputId": "3a2c197e-6404-4abc-e616-4fab269c8537"
      },
      "execution_count": 81,
      "outputs": [
        {
          "output_type": "stream",
          "name": "stdout",
          "text": [
            "Accuracy: 0.9684466019417476\n",
            "Precision: 0.9765258215962441\n",
            "Recall: 0.9629629629629629\n",
            "F1 Score: 0.9696969696969696\n",
            "ROC AUC: 0.9687263794406651\n",
            "Log Loss: 1.1372997428604927\n"
          ]
        }
      ]
    },
    {
      "cell_type": "code",
      "source": [
        "RF_classifier_2.fit(X_test,y_test)\n",
        "y_pred = RF_classifier_2.predict(X_test)\n",
        "print(f'Accuracy: {accuracy_score(y_test, y_pred)}')\n",
        "print(f'Precision: {precision_score(y_test, y_pred)}')\n",
        "print(f'Recall: {recall_score(y_test, y_pred)}')\n",
        "print(f'F1 Score: {f1_score(y_test, y_pred)}')\n",
        "print(f'ROC AUC: {roc_auc_score(y_test, y_pred)}')\n",
        "print(f'Log Loss: {log_loss(y_test, y_pred)}')"
      ],
      "metadata": {
        "colab": {
          "base_uri": "https://localhost:8080/"
        },
        "id": "COWmycc63u0b",
        "outputId": "6dadbab1-08ed-4dc6-f88a-7e6acc2f8198"
      },
      "execution_count": 82,
      "outputs": [
        {
          "output_type": "stream",
          "name": "stdout",
          "text": [
            "Accuracy: 0.9903846153846154\n",
            "Precision: 0.9818181818181818\n",
            "Recall: 1.0\n",
            "F1 Score: 0.9908256880733944\n",
            "ROC AUC: 0.99\n",
            "Log Loss: 0.3465735902799728\n"
          ]
        }
      ]
    }
  ]
}